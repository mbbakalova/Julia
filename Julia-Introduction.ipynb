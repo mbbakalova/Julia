{
 "cells": [
  {
   "cell_type": "markdown",
   "metadata": {},
   "source": [
    "### Julia - Introduction"
   ]
  },
  {
   "cell_type": "markdown",
   "metadata": {},
   "source": [
    "#### Comments"
   ]
  },
  {
   "cell_type": "code",
   "execution_count": 45,
   "metadata": {},
   "outputs": [],
   "source": [
    "# This is a comment\n",
    "\n",
    "#=\n",
    "This is a multiline comment\n",
    "=#"
   ]
  },
  {
   "cell_type": "markdown",
   "metadata": {},
   "source": [
    "#### Strings"
   ]
  },
  {
   "cell_type": "code",
   "execution_count": 2,
   "metadata": {},
   "outputs": [
    {
     "data": {
      "text/plain": [
       "\" hellloooo\""
      ]
     },
     "execution_count": 2,
     "metadata": {},
     "output_type": "execute_result"
    }
   ],
   "source": [
    "# Strings are stored in double or triple quotes\n",
    "\n",
    "a = \"hello\"\n",
    "b = \"\"\"hellloooo\"\"\" "
   ]
  },
  {
   "cell_type": "code",
   "execution_count": 2,
   "metadata": {},
   "outputs": [
    {
     "name": "stdout",
     "output_type": "stream",
     "text": [
      "Print something \"with\" quotes\n"
     ]
    }
   ],
   "source": [
    "# Include quotes in string\n",
    "\n",
    "println(\"\"\"Print something \"with\" quotes\"\"\")"
   ]
  },
  {
   "cell_type": "code",
   "execution_count": 38,
   "metadata": {},
   "outputs": [
    {
     "data": {
      "text/plain": [
       "\"Hello, World!\""
      ]
     },
     "execution_count": 38,
     "metadata": {},
     "output_type": "execute_result"
    }
   ],
   "source": [
    "# Concatenate strings\n",
    "\n",
    "\"Hello\" * \", \" * \"World!\""
   ]
  },
  {
   "cell_type": "code",
   "execution_count": 39,
   "metadata": {},
   "outputs": [
    {
     "data": {
      "text/plain": [
       "\"Hello, dudes and dudettes!\""
      ]
     },
     "execution_count": 39,
     "metadata": {},
     "output_type": "execute_result"
    }
   ],
   "source": [
    "# Another way to concatenate\n",
    "\n",
    "string(\"Hello, \", \"dudes\", \" and \", \"dudettes!\") "
   ]
  },
  {
   "cell_type": "code",
   "execution_count": 6,
   "metadata": {},
   "outputs": [
    {
     "data": {
      "text/plain": [
       "false"
      ]
     },
     "execution_count": 6,
     "metadata": {},
     "output_type": "execute_result"
    }
   ],
   "source": [
    "# Lexicograph comparison \n",
    "\n",
    "\"hello\" < \"hellloooo\""
   ]
  },
  {
   "cell_type": "code",
   "execution_count": 47,
   "metadata": {},
   "outputs": [
    {
     "ename": "BoundsError",
     "evalue": "BoundsError: attempt to access String\n  at index [0]",
     "output_type": "error",
     "traceback": [
      "BoundsError: attempt to access String\n  at index [0]",
      "",
      "Stacktrace:",
      " [1] checkbounds at .\\strings\\basic.jl:193 [inlined]",
      " [2] codeunit at .\\strings\\string.jl:89 [inlined]",
      " [3] getindex(::String, ::Int64) at .\\strings\\string.jl:210",
      " [4] top-level scope at In[47]:1"
     ]
    }
   ],
   "source": [
    "# Indexing starts at 1!\n",
    "\n",
    "println(a[0])"
   ]
  },
  {
   "cell_type": "code",
   "execution_count": 46,
   "metadata": {},
   "outputs": [
    {
     "name": "stdout",
     "output_type": "stream",
     "text": [
      "h\n",
      "5\n"
     ]
    }
   ],
   "source": [
    "println(a[1])\n",
    "println(length(a))"
   ]
  },
  {
   "cell_type": "code",
   "execution_count": 50,
   "metadata": {},
   "outputs": [
    {
     "data": {
      "text/plain": [
       "'l': ASCII/Unicode U+006c (category Ll: Letter, lowercase)"
      ]
     },
     "execution_count": 50,
     "metadata": {},
     "output_type": "execute_result"
    }
   ],
   "source": [
    "#Unlike in Python, indexing strings in Julia returns chars\n",
    "\n",
    "\"Hello\"[3]"
   ]
  },
  {
   "cell_type": "code",
   "execution_count": 51,
   "metadata": {},
   "outputs": [
    {
     "data": {
      "text/plain": [
       "'o': ASCII/Unicode U+006f (category Ll: Letter, lowercase)"
      ]
     },
     "execution_count": 51,
     "metadata": {},
     "output_type": "execute_result"
    }
   ],
   "source": [
    "# Accessing the last character\n",
    "\n",
    "a[end] "
   ]
  },
  {
   "cell_type": "code",
   "execution_count": 48,
   "metadata": {},
   "outputs": [
    {
     "data": {
      "text/plain": [
       "3"
      ]
     },
     "execution_count": 48,
     "metadata": {},
     "output_type": "execute_result"
    }
   ],
   "source": [
    "findfirst(isequal('l'), a)"
   ]
  },
  {
   "cell_type": "code",
   "execution_count": 49,
   "metadata": {},
   "outputs": [
    {
     "data": {
      "text/plain": [
       "true"
      ]
     },
     "execution_count": 49,
     "metadata": {},
     "output_type": "execute_result"
    }
   ],
   "source": [
    "occursin(\"o\", \"Xylophon\")"
   ]
  },
  {
   "cell_type": "code",
   "execution_count": 19,
   "metadata": {},
   "outputs": [
    {
     "data": {
      "text/plain": [
       "\"ell\""
      ]
     },
     "execution_count": 19,
     "metadata": {},
     "output_type": "execute_result"
    }
   ],
   "source": [
    "# Parts of string\n",
    "\n",
    "a[2:4]"
   ]
  },
  {
   "cell_type": "code",
   "execution_count": null,
   "metadata": {},
   "outputs": [],
   "source": [
    "# Display the type of variable\n",
    "typeof(a)"
   ]
  },
  {
   "cell_type": "markdown",
   "metadata": {},
   "source": [
    "#### Data Structures"
   ]
  },
  {
   "cell_type": "markdown",
   "metadata": {},
   "source": [
    "Tuples"
   ]
  },
  {
   "cell_type": "code",
   "execution_count": 9,
   "metadata": {},
   "outputs": [
    {
     "data": {
      "text/plain": [
       "(\"item1\", \"item2\", \"item3\")"
      ]
     },
     "execution_count": 9,
     "metadata": {},
     "output_type": "execute_result"
    }
   ],
   "source": [
    "mytuple = (\"item1\", \"item2\", \"item3\")"
   ]
  },
  {
   "cell_type": "code",
   "execution_count": 10,
   "metadata": {},
   "outputs": [
    {
     "data": {
      "text/plain": [
       "\"item1\""
      ]
     },
     "execution_count": 10,
     "metadata": {},
     "output_type": "execute_result"
    }
   ],
   "source": [
    "mytuple[1]"
   ]
  },
  {
   "cell_type": "code",
   "execution_count": 11,
   "metadata": {},
   "outputs": [
    {
     "ename": "MethodError",
     "evalue": "MethodError: no method matching setindex!(::Tuple{String,String,String}, ::String, ::Int64)",
     "output_type": "error",
     "traceback": [
      "MethodError: no method matching setindex!(::Tuple{String,String,String}, ::String, ::Int64)",
      "",
      "Stacktrace:",
      " [1] top-level scope at In[11]:1"
     ]
    }
   ],
   "source": [
    "# Tuples are immutable\n",
    "mytuple[1] = \"item4\""
   ]
  },
  {
   "cell_type": "code",
   "execution_count": 12,
   "metadata": {},
   "outputs": [
    {
     "data": {
      "text/plain": [
       "(bird = \"penguins\", mammal = \"cats\", marsupial = \"sugargliders\")"
      ]
     },
     "execution_count": 12,
     "metadata": {},
     "output_type": "execute_result"
    }
   ],
   "source": [
    "mynamedtuple = (bird = \"penguins\", mammal = \"cats\", marsupial = \"sugargliders\")"
   ]
  },
  {
   "cell_type": "code",
   "execution_count": 13,
   "metadata": {},
   "outputs": [
    {
     "data": {
      "text/plain": [
       "\"penguins\""
      ]
     },
     "execution_count": 13,
     "metadata": {},
     "output_type": "execute_result"
    }
   ],
   "source": [
    "mynamedtuple[1]"
   ]
  },
  {
   "cell_type": "code",
   "execution_count": 14,
   "metadata": {},
   "outputs": [
    {
     "data": {
      "text/plain": [
       "\"penguins\""
      ]
     },
     "execution_count": 14,
     "metadata": {},
     "output_type": "execute_result"
    }
   ],
   "source": [
    "# Access values bu their name\n",
    "mynamedtuple.bird"
   ]
  },
  {
   "cell_type": "markdown",
   "metadata": {},
   "source": [
    "Dictionaries"
   ]
  },
  {
   "cell_type": "code",
   "execution_count": 1,
   "metadata": {},
   "outputs": [
    {
     "data": {
      "text/plain": [
       "Dict{String,String} with 2 entries:\n",
       "  \"Maggie's dog\" => \"Sleeping\"\n",
       "  \"Maggie\"       => \"Learning Julia\""
      ]
     },
     "execution_count": 1,
     "metadata": {},
     "output_type": "execute_result"
    }
   ],
   "source": [
    "# Create dictionary using the Dict() function\n",
    "\n",
    "D = Dict(\"Maggie\" => \"Learning Julia\", \"Maggie's dog\" => \"Sleeping\")"
   ]
  },
  {
   "cell_type": "code",
   "execution_count": 31,
   "metadata": {},
   "outputs": [
    {
     "data": {
      "text/plain": [
       "\"Learning Julia\""
      ]
     },
     "execution_count": 31,
     "metadata": {},
     "output_type": "execute_result"
    }
   ],
   "source": [
    "# Access the elements of a dictionary\n",
    "\n",
    "D[\"Maggie\"]"
   ]
  },
  {
   "cell_type": "code",
   "execution_count": 32,
   "metadata": {},
   "outputs": [
    {
     "data": {
      "text/plain": [
       "2"
      ]
     },
     "execution_count": 32,
     "metadata": {},
     "output_type": "execute_result"
    }
   ],
   "source": [
    "# Count elements of the dictionary\n",
    "\n",
    "D.count "
   ]
  },
  {
   "cell_type": "code",
   "execution_count": 36,
   "metadata": {},
   "outputs": [
    {
     "data": {
      "text/plain": [
       "\"Killing people in Twin Peaks\""
      ]
     },
     "execution_count": 36,
     "metadata": {},
     "output_type": "execute_result"
    }
   ],
   "source": [
    "# Add elements to dictionary\n",
    "\n",
    "D[\"Bob\"] = \"Killing people in Twin Peaks\""
   ]
  },
  {
   "cell_type": "code",
   "execution_count": 37,
   "metadata": {},
   "outputs": [
    {
     "data": {
      "text/plain": [
       "Dict{String,String} with 3 entries:\n",
       "  \"Bob\"    => \"Killing people in Twin Peaks\"\n",
       "  \"Vicky\"  => \"Eating waffle\"\n",
       "  \"Maggie\" => \"Learning Julia\""
      ]
     },
     "execution_count": 37,
     "metadata": {},
     "output_type": "execute_result"
    }
   ],
   "source": [
    "D"
   ]
  },
  {
   "cell_type": "code",
   "execution_count": 38,
   "metadata": {},
   "outputs": [
    {
     "data": {
      "text/plain": [
       "\"Killing people in Twin Peaks\""
      ]
     },
     "execution_count": 38,
     "metadata": {},
     "output_type": "execute_result"
    }
   ],
   "source": [
    "# Delete dictionary items\n",
    "\n",
    "pop!(D, \"Bob\")"
   ]
  },
  {
   "cell_type": "code",
   "execution_count": 40,
   "metadata": {},
   "outputs": [
    {
     "ename": "KeyError",
     "evalue": "KeyError: key 1 not found",
     "output_type": "error",
     "traceback": [
      "KeyError: key 1 not found",
      "",
      "Stacktrace:",
      " [1] getindex(::Dict{String,String}, ::Int64) at .\\dict.jl:477",
      " [2] top-level scope at In[40]:1"
     ]
    }
   ],
   "source": [
    "# Dictioanries are unordered\n",
    "\n",
    "D[1]"
   ]
  },
  {
   "cell_type": "markdown",
   "metadata": {},
   "source": [
    "Arrays"
   ]
  },
  {
   "cell_type": "code",
   "execution_count": 41,
   "metadata": {},
   "outputs": [
    {
     "data": {
      "text/plain": [
       "7-element Array{Int64,1}:\n",
       "  1\n",
       "  1\n",
       "  2\n",
       "  3\n",
       "  5\n",
       "  8\n",
       " 13"
      ]
     },
     "execution_count": 41,
     "metadata": {},
     "output_type": "execute_result"
    }
   ],
   "source": [
    "fibonacci = [1, 1, 2, 3, 5, 8, 13]"
   ]
  },
  {
   "cell_type": "code",
   "execution_count": 42,
   "metadata": {},
   "outputs": [
    {
     "data": {
      "text/plain": [
       "2"
      ]
     },
     "execution_count": 42,
     "metadata": {},
     "output_type": "execute_result"
    }
   ],
   "source": [
    "fibonacci[3]"
   ]
  },
  {
   "cell_type": "code",
   "execution_count": 47,
   "metadata": {},
   "outputs": [
    {
     "data": {
      "text/plain": [
       "888"
      ]
     },
     "execution_count": 47,
     "metadata": {},
     "output_type": "execute_result"
    }
   ],
   "source": [
    "# Change items in array\n",
    "\n",
    "fibonacci[3] = 888"
   ]
  },
  {
   "cell_type": "code",
   "execution_count": 48,
   "metadata": {},
   "outputs": [
    {
     "data": {
      "text/plain": [
       "8-element Array{Int64,1}:\n",
       "   1\n",
       "   1\n",
       " 888\n",
       "   3\n",
       "   5\n",
       "   8\n",
       "  13\n",
       "  21"
      ]
     },
     "execution_count": 48,
     "metadata": {},
     "output_type": "execute_result"
    }
   ],
   "source": [
    "# Add elements \n",
    "\n",
    "push!(fibonacci, 21)"
   ]
  },
  {
   "cell_type": "code",
   "execution_count": 49,
   "metadata": {},
   "outputs": [
    {
     "data": {
      "text/plain": [
       "3-element Array{Array{Int64,1},1}:\n",
       " [1, 2, 3]   \n",
       " [4, 5]      \n",
       " [6, 7, 8, 9]"
      ]
     },
     "execution_count": 49,
     "metadata": {},
     "output_type": "execute_result"
    }
   ],
   "source": [
    "# Arrays of arrays\n",
    "\n",
    "numbers = [[1, 2, 3], [4, 5], [6, 7, 8, 9]]"
   ]
  },
  {
   "cell_type": "code",
   "execution_count": 50,
   "metadata": {},
   "outputs": [
    {
     "data": {
      "text/plain": [
       "8-element Array{Int64,1}:\n",
       " 404\n",
       "   1\n",
       " 888\n",
       "   3\n",
       "   5\n",
       "   8\n",
       "  13\n",
       "  21"
      ]
     },
     "execution_count": 50,
     "metadata": {},
     "output_type": "execute_result"
    }
   ],
   "source": [
    "# Copy arrays can cause issues\n",
    "\n",
    "somenumbers = fibonacci\n",
    "somenumbers[1] = 404\n",
    "fibonacci"
   ]
  },
  {
   "cell_type": "code",
   "execution_count": 52,
   "metadata": {},
   "outputs": [
    {
     "data": {
      "text/plain": [
       "2"
      ]
     },
     "execution_count": 52,
     "metadata": {},
     "output_type": "execute_result"
    }
   ],
   "source": [
    "# First, restore fibonacci\n",
    "\n",
    "fibonacci[1] = 1\n",
    "fibonacci[3] = 2"
   ]
  },
  {
   "cell_type": "code",
   "execution_count": 53,
   "metadata": {
    "scrolled": true
   },
   "outputs": [
    {
     "data": {
      "text/plain": [
       "8-element Array{Int64,1}:\n",
       "  1\n",
       "  1\n",
       "  2\n",
       "  3\n",
       "  5\n",
       "  8\n",
       " 13\n",
       " 21"
      ]
     },
     "execution_count": 53,
     "metadata": {},
     "output_type": "execute_result"
    }
   ],
   "source": [
    "# The correct way to copy\n",
    "\n",
    "somemorenumbers = copy(fibonacci)\n",
    "somemorenumbers[1] = 404\n",
    "fibonacci"
   ]
  },
  {
   "cell_type": "code",
   "execution_count": null,
   "metadata": {},
   "outputs": [],
   "source": [
    "v = [3, 5, 2]"
   ]
  },
  {
   "cell_type": "code",
   "execution_count": null,
   "metadata": {},
   "outputs": [],
   "source": [
    "sort(v) # sorts output"
   ]
  },
  {
   "cell_type": "code",
   "execution_count": null,
   "metadata": {},
   "outputs": [],
   "source": [
    "sort!(v) # sorts in array"
   ]
  },
  {
   "cell_type": "markdown",
   "metadata": {},
   "source": [
    "##### Loops and conditional statements"
   ]
  },
  {
   "cell_type": "code",
   "execution_count": 54,
   "metadata": {
    "collapsed": true
   },
   "outputs": [
    {
     "name": "stdout",
     "output_type": "stream",
     "text": [
      "1\n",
      "2\n",
      "3\n",
      "4\n",
      "5\n",
      "6\n",
      "7\n",
      "8\n",
      "9\n",
      "10\n"
     ]
    },
    {
     "data": {
      "text/plain": [
       "10"
      ]
     },
     "execution_count": 54,
     "metadata": {},
     "output_type": "execute_result"
    }
   ],
   "source": [
    "# While\n",
    "n = 0\n",
    "while n < 10\n",
    "    n += 1\n",
    "    println(n)\n",
    "end\n",
    "n"
   ]
  },
  {
   "cell_type": "code",
   "execution_count": 55,
   "metadata": {
    "collapsed": true
   },
   "outputs": [
    {
     "name": "stdout",
     "output_type": "stream",
     "text": [
      "1\n",
      "2\n",
      "3\n",
      "4\n",
      "5\n",
      "6\n",
      "7\n",
      "8\n",
      "9\n",
      "10\n"
     ]
    }
   ],
   "source": [
    "# For\n",
    "for n in 1:10\n",
    "    println(n)\n",
    "end"
   ]
  },
  {
   "cell_type": "code",
   "execution_count": 56,
   "metadata": {},
   "outputs": [
    {
     "data": {
      "text/plain": [
       "5×5 Array{Int64,2}:\n",
       " 2  3  4  5   6\n",
       " 3  4  5  6   7\n",
       " 4  5  6  7   8\n",
       " 5  6  7  8   9\n",
       " 6  7  8  9  10"
      ]
     },
     "execution_count": 56,
     "metadata": {},
     "output_type": "execute_result"
    }
   ],
   "source": [
    "m, n = 5, 5\n",
    "C = [i + j for i in 1:m, j in 1:n]"
   ]
  },
  {
   "cell_type": "code",
   "execution_count": 59,
   "metadata": {},
   "outputs": [
    {
     "data": {
      "text/plain": [
       "6"
      ]
     },
     "execution_count": 59,
     "metadata": {},
     "output_type": "execute_result"
    }
   ],
   "source": [
    "x = 6\n",
    "y = 2\n",
    "\n",
    "(x > y) ? x : y"
   ]
  },
  {
   "cell_type": "code",
   "execution_count": 60,
   "metadata": {},
   "outputs": [
    {
     "ename": "ErrorException",
     "evalue": "x cannot be greater than 0",
     "output_type": "error",
     "traceback": [
      "x cannot be greater than 0",
      "",
      "Stacktrace:",
      " [1] error(::String) at .\\error.jl:33",
      " [2] top-level scope at In[60]:1"
     ]
    }
   ],
   "source": [
    "(x > 0) && error(\"x cannot be greater than 0\")"
   ]
  },
  {
   "cell_type": "code",
   "execution_count": 63,
   "metadata": {},
   "outputs": [
    {
     "name": "stdout",
     "output_type": "stream",
     "text": [
      "hi\n"
     ]
    }
   ],
   "source": [
    "(x < 0) || println(\"hi\")"
   ]
  },
  {
   "cell_type": "markdown",
   "metadata": {},
   "source": [
    "#### Functions"
   ]
  },
  {
   "cell_type": "code",
   "execution_count": 64,
   "metadata": {},
   "outputs": [
    {
     "data": {
      "text/plain": [
       "f (generic function with 1 method)"
      ]
     },
     "execution_count": 64,
     "metadata": {},
     "output_type": "execute_result"
    }
   ],
   "source": [
    "# Declare function\n",
    "\n",
    "function f(x)\n",
    "    x*5\n",
    "end"
   ]
  },
  {
   "cell_type": "code",
   "execution_count": 65,
   "metadata": {},
   "outputs": [
    {
     "data": {
      "text/plain": [
       "30"
      ]
     },
     "execution_count": 65,
     "metadata": {},
     "output_type": "execute_result"
    }
   ],
   "source": [
    "# Call function\n",
    "f(6)"
   ]
  },
  {
   "cell_type": "code",
   "execution_count": 66,
   "metadata": {},
   "outputs": [
    {
     "data": {
      "text/plain": [
       "f2 (generic function with 1 method)"
      ]
     },
     "execution_count": 66,
     "metadata": {},
     "output_type": "execute_result"
    }
   ],
   "source": [
    "f2(x) = x^2 # Another way to declare on a single line"
   ]
  },
  {
   "cell_type": "code",
   "execution_count": 69,
   "metadata": {},
   "outputs": [
    {
     "data": {
      "text/plain": [
       "3×3 Array{Float64,2}:\n",
       " 0.284542  0.5532    0.959186 \n",
       " 0.227474  0.716216  0.114841 \n",
       " 0.810137  0.288788  0.0350424"
      ]
     },
     "execution_count": 69,
     "metadata": {},
     "output_type": "execute_result"
    }
   ],
   "source": [
    "A = rand(3, 3)\n",
    "A"
   ]
  },
  {
   "cell_type": "code",
   "execution_count": 70,
   "metadata": {},
   "outputs": [
    {
     "data": {
      "text/plain": [
       "3×3 Array{Float64,2}:\n",
       " 0.983875  0.830621  0.370071\n",
       " 0.320684  0.671969  0.304465\n",
       " 0.324599  0.665122  0.811465"
      ]
     },
     "execution_count": 70,
     "metadata": {},
     "output_type": "execute_result"
    }
   ],
   "source": [
    "# Functions in Julia work on any input that makes sence\n",
    "f2(A)"
   ]
  },
  {
   "cell_type": "code",
   "execution_count": 83,
   "metadata": {},
   "outputs": [
    {
     "data": {
      "text/plain": [
       "3-element Array{Int64,1}:\n",
       " 1\n",
       " 4\n",
       " 9"
      ]
     },
     "execution_count": 83,
     "metadata": {},
     "output_type": "execute_result"
    }
   ],
   "source": [
    "broadcast(f2, [1, 2, 3])"
   ]
  },
  {
   "cell_type": "code",
   "execution_count": 84,
   "metadata": {},
   "outputs": [
    {
     "data": {
      "text/plain": [
       "3-element Array{Int64,1}:\n",
       " 1\n",
       " 4\n",
       " 9"
      ]
     },
     "execution_count": 84,
     "metadata": {},
     "output_type": "execute_result"
    }
   ],
   "source": [
    "f2.([1, 2, 3])"
   ]
  },
  {
   "cell_type": "code",
   "execution_count": 85,
   "metadata": {
    "collapsed": true
   },
   "outputs": [
    {
     "ename": "MethodError",
     "evalue": "MethodError: no method matching ^(::Array{Int64,1}, ::Int64)\nClosest candidates are:\n  ^(!Matched::Float16, ::Integer) at math.jl:862\n  ^(!Matched::Regex, ::Integer) at regex.jl:712\n  ^(!Matched::Missing, ::Integer) at missing.jl:151\n  ...",
     "output_type": "error",
     "traceback": [
      "MethodError: no method matching ^(::Array{Int64,1}, ::Int64)\nClosest candidates are:\n  ^(!Matched::Float16, ::Integer) at math.jl:862\n  ^(!Matched::Regex, ::Integer) at regex.jl:712\n  ^(!Matched::Missing, ::Integer) at missing.jl:151\n  ...",
      "",
      "Stacktrace:",
      " [1] macro expansion at .\\none:0 [inlined]",
      " [2] literal_pow at .\\none:0 [inlined]",
      " [3] f2(::Array{Int64,1}) at .\\In[66]:1",
      " [4] top-level scope at In[85]:1"
     ]
    }
   ],
   "source": [
    "f2([1, 2, 3]) # because you cannot square a vector, only it's elements"
   ]
  },
  {
   "cell_type": "markdown",
   "metadata": {},
   "source": [
    "#### Some vector/matrix operations"
   ]
  },
  {
   "cell_type": "code",
   "execution_count": 1,
   "metadata": {},
   "outputs": [
    {
     "data": {
      "text/plain": [
       "3-element Array{Int64,1}:\n",
       "  5\n",
       " 10\n",
       " 15"
      ]
     },
     "execution_count": 1,
     "metadata": {},
     "output_type": "execute_result"
    }
   ],
   "source": [
    "A = [5, 10, 15] # this is a row vector"
   ]
  },
  {
   "cell_type": "code",
   "execution_count": 2,
   "metadata": {},
   "outputs": [
    {
     "data": {
      "text/plain": [
       "5"
      ]
     },
     "execution_count": 2,
     "metadata": {},
     "output_type": "execute_result"
    }
   ],
   "source": [
    "A[1] # 1-indexed"
   ]
  },
  {
   "cell_type": "code",
   "execution_count": 3,
   "metadata": {},
   "outputs": [
    {
     "data": {
      "text/plain": [
       "3-element Array{Int64,1}:\n",
       "  5\n",
       " 10\n",
       " 15"
      ]
     },
     "execution_count": 3,
     "metadata": {},
     "output_type": "execute_result"
    }
   ],
   "source": [
    "A=[5;10;15] #column vector. semi-colon is used  to change row"
   ]
  },
  {
   "cell_type": "code",
   "execution_count": 4,
   "metadata": {},
   "outputs": [
    {
     "data": {
      "text/plain": [
       "3-element Array{Int64,1}:\n",
       " 199\n",
       "  10\n",
       "  15"
      ]
     },
     "execution_count": 4,
     "metadata": {},
     "output_type": "execute_result"
    }
   ],
   "source": [
    "A[1] = 199\n",
    "A"
   ]
  },
  {
   "cell_type": "code",
   "execution_count": 5,
   "metadata": {},
   "outputs": [
    {
     "data": {
      "text/plain": [
       "3×3 Array{Int64,2}:\n",
       " 1  2  3\n",
       " 4  5  6\n",
       " 7  8  9"
      ]
     },
     "execution_count": 5,
     "metadata": {},
     "output_type": "execute_result"
    }
   ],
   "source": [
    "M = [1 2 3;4 5 6;7 8 9] # matrixb"
   ]
  },
  {
   "cell_type": "code",
   "execution_count": 6,
   "metadata": {},
   "outputs": [
    {
     "data": {
      "text/plain": [
       "2"
      ]
     },
     "execution_count": 6,
     "metadata": {},
     "output_type": "execute_result"
    }
   ],
   "source": [
    "M[1,2] # access elements of the matrix"
   ]
  },
  {
   "cell_type": "code",
   "execution_count": 7,
   "metadata": {},
   "outputs": [
    {
     "data": {
      "text/plain": [
       "3×3 LinearAlgebra.Adjoint{Int64,Array{Int64,2}}:\n",
       " 1  4  7\n",
       " 2  5  8\n",
       " 3  6  9"
      ]
     },
     "execution_count": 7,
     "metadata": {},
     "output_type": "execute_result"
    }
   ],
   "source": [
    "M' # transpose quickly "
   ]
  },
  {
   "cell_type": "code",
   "execution_count": 8,
   "metadata": {
    "collapsed": true
   },
   "outputs": [
    {
     "ename": "LinearAlgebra.SingularException",
     "evalue": "LinearAlgebra.SingularException(3)",
     "output_type": "error",
     "traceback": [
      "LinearAlgebra.SingularException(3)",
      "",
      "Stacktrace:",
      " [1] checknonsingular at D:\\buildbot\\worker\\package_win64\\build\\usr\\share\\julia\\stdlib\\v1.3\\LinearAlgebra\\src\\factorization.jl:19 [inlined]",
      " [2] #lu!#131(::Bool, ::typeof(LinearAlgebra.lu!), ::Array{Float64,2}, ::Val{true}) at D:\\buildbot\\worker\\package_win64\\build\\usr\\share\\julia\\stdlib\\v1.3\\LinearAlgebra\\src\\lu.jl:85",
      " [3] #lu! at .\\none:0 [inlined]",
      " [4] #lu#135 at D:\\buildbot\\worker\\package_win64\\build\\usr\\share\\julia\\stdlib\\v1.3\\LinearAlgebra\\src\\lu.jl:273 [inlined]",
      " [5] lu at D:\\buildbot\\worker\\package_win64\\build\\usr\\share\\julia\\stdlib\\v1.3\\LinearAlgebra\\src\\lu.jl:272 [inlined] (repeats 2 times)",
      " [6] inv(::Array{Int64,2}) at D:\\buildbot\\worker\\package_win64\\build\\usr\\share\\julia\\stdlib\\v1.3\\LinearAlgebra\\src\\dense.jl:770",
      " [7] top-level scope at In[8]:1"
     ]
    }
   ],
   "source": [
    "inv(M)"
   ]
  },
  {
   "cell_type": "markdown",
   "metadata": {},
   "source": [
    "#### Compare Julia to Python"
   ]
  },
  {
   "cell_type": "markdown",
   "metadata": {},
   "source": [
    "Consider the  **sum** function `sum(a)`, which computes\n",
    "$$\n",
    "\\mathrm{sum}(a) = \\sum_{i=1}^n a_i,\n",
    "$$\n",
    "where $n$ is the length of `a`."
   ]
  },
  {
   "cell_type": "code",
   "execution_count": 1,
   "metadata": {
    "collapsed": true
   },
   "outputs": [
    {
     "data": {
      "text/plain": [
       "10000000-element Array{Float64,1}:\n",
       " 0.12384740789500093 \n",
       " 0.689078248346936   \n",
       " 0.6008463726083846  \n",
       " 0.7864395266072701  \n",
       " 0.35695063024627927 \n",
       " 0.9748304443639497  \n",
       " 0.9330262973872561  \n",
       " 0.09184285596195796 \n",
       " 0.7222506140557887  \n",
       " 0.004110453647868217\n",
       " 0.23530318117177806 \n",
       " 0.78960026599067    \n",
       " 0.3982502420213727  \n",
       " ⋮                   \n",
       " 0.448606857695494   \n",
       " 0.22080458083719057 \n",
       " 0.7686028289253277  \n",
       " 0.324640478881596   \n",
       " 0.2036155636808128  \n",
       " 0.024683660198912216\n",
       " 0.08280593283552862 \n",
       " 0.9655518704984254  \n",
       " 0.5648979241863326  \n",
       " 0.18982764120377982 \n",
       " 0.7121591822376285  \n",
       " 0.937511764181302   "
      ]
     },
     "execution_count": 1,
     "metadata": {},
     "output_type": "execute_result"
    }
   ],
   "source": [
    "a = rand(10^7) # 1D vector of random numbers, uniform on [0,1)"
   ]
  },
  {
   "cell_type": "code",
   "execution_count": 2,
   "metadata": {
    "collapsed": true
   },
   "outputs": [
    {
     "name": "stdout",
     "output_type": "stream",
     "text": [
      "\u001b[32m\u001b[1m  Updating\u001b[22m\u001b[39m registry at `C:\\Users\\m_b\\.julia\\registries\\General`\n",
      "\u001b[32m\u001b[1m  Updating\u001b[22m\u001b[39m git-repo `https://github.com/JuliaRegistries/General.git`\n",
      "\u001b[2K\u001b[36m\u001b[1mFetching:\u001b[22m\u001b[39m [========================================>]  100.0 %.0 % [==>                                      ]  3.1 %\u001b[36m\u001b[1mFetching:\u001b[22m\u001b[39m [===>                                     ]  5.3 %                                    ]  8.4 % [=====>                                   ]  12.4 % [=======>                                 ]  15.2 %>                                ]  18.6 % [==========>                              ]  23.1 %\u001b[36m\u001b[1mFetching:\u001b[22m\u001b[39m [===========>                             ]  26.9 %>                           ]  31.7 % % [================>                        ]  37.9 % [=================>                       ]  40.5 % [===================>                     ]  45.7 % [=====================>                   ]  50.7 %.7 % [========================>                ]  58.4 %\u001b[36m\u001b[1mFetching:\u001b[22m\u001b[39m [=========================>               ]  61.2 %>              ]  64.7 %.1 %]  70.9 % [===============================>         ]  75.2 % [================================>        ]  77.8 %       ]  81.6 %>      ]  84.8 %\u001b[36m\u001b[1mFetching:\u001b[22m\u001b[39m [====================================>    ]  88.6 % [=====================================>   ]  92.4 % %.3 %\u001b[?25h\u001b[32m\u001b[1m Resolving\u001b[22m\u001b[39m package versions...\n",
      "\u001b[32m\u001b[1m Installed\u001b[22m\u001b[39m Compat ─ v3.6.0\n",
      "\u001b[32m\u001b[1m  Updating\u001b[22m\u001b[39m `C:\\Users\\m_b\\.julia\\environments\\v1.3\\Project.toml`\n",
      "\u001b[90m [no changes]\u001b[39m\n",
      "\u001b[32m\u001b[1m  Updating\u001b[22m\u001b[39m `C:\\Users\\m_b\\.julia\\environments\\v1.3\\Manifest.toml`\n",
      " \u001b[90m [34da2185]\u001b[39m\u001b[93m ↑ Compat v3.5.0 ⇒ v3.6.0\u001b[39m\n"
     ]
    }
   ],
   "source": [
    "using Pkg\n",
    "Pkg.add(\"BenchmarkTools\")"
   ]
  },
  {
   "cell_type": "code",
   "execution_count": 3,
   "metadata": {},
   "outputs": [
    {
     "name": "stderr",
     "output_type": "stream",
     "text": [
      "┌ Info: Precompiling BenchmarkTools [6e4b80f9-dd63-53aa-95a3-0cdb28fa8baf]\n",
      "└ @ Base loading.jl:1273\n"
     ]
    }
   ],
   "source": [
    "using BenchmarkTools"
   ]
  },
  {
   "cell_type": "markdown",
   "metadata": {},
   "source": [
    "Hand-written python"
   ]
  },
  {
   "cell_type": "code",
   "execution_count": 9,
   "metadata": {},
   "outputs": [
    {
     "name": "stderr",
     "output_type": "stream",
     "text": [
      "┌ Info: Precompiling PyCall [438e738f-606a-5dbb-bf0a-cddfbfd45ab0]\n",
      "└ @ Base loading.jl:1273\n"
     ]
    }
   ],
   "source": [
    "using PyCall"
   ]
  },
  {
   "cell_type": "code",
   "execution_count": 10,
   "metadata": {},
   "outputs": [
    {
     "data": {
      "text/plain": [
       "PyObject <function py_sum at 0x0000000039202CA8>"
      ]
     },
     "execution_count": 10,
     "metadata": {},
     "output_type": "execute_result"
    }
   ],
   "source": [
    "# Python code\n",
    "py\"\"\"\n",
    "def py_sum(A):\n",
    "    s = 0.0\n",
    "    for a in A:\n",
    "        s += a\n",
    "    return s\n",
    "\"\"\"\n",
    "\n",
    "sum_py = py\"py_sum\""
   ]
  },
  {
   "cell_type": "code",
   "execution_count": 11,
   "metadata": {},
   "outputs": [
    {
     "data": {
      "text/plain": [
       "BenchmarkTools.Trial: \n",
       "  memory estimate:  352 bytes\n",
       "  allocs estimate:  7\n",
       "  --------------\n",
       "  minimum time:     1.642 s (0.00% GC)\n",
       "  median time:      1.714 s (0.00% GC)\n",
       "  mean time:        1.695 s (0.00% GC)\n",
       "  maximum time:     1.730 s (0.00% GC)\n",
       "  --------------\n",
       "  samples:          3\n",
       "  evals/sample:     1"
      ]
     },
     "execution_count": 11,
     "metadata": {},
     "output_type": "execute_result"
    }
   ],
   "source": [
    "py_hand = @benchmark $sum_py($a)"
   ]
  },
  {
   "cell_type": "code",
   "execution_count": 12,
   "metadata": {},
   "outputs": [
    {
     "data": {
      "text/plain": [
       "5.00135585793737e6"
      ]
     },
     "execution_count": 12,
     "metadata": {},
     "output_type": "execute_result"
    }
   ],
   "source": [
    "sum_py(a)"
   ]
  },
  {
   "cell_type": "code",
   "execution_count": 13,
   "metadata": {},
   "outputs": [
    {
     "data": {
      "text/plain": [
       "true"
      ]
     },
     "execution_count": 13,
     "metadata": {},
     "output_type": "execute_result"
    }
   ],
   "source": [
    "sum_py(a) ≈ sum(a)"
   ]
  },
  {
   "cell_type": "code",
   "execution_count": 15,
   "metadata": {},
   "outputs": [
    {
     "data": {
      "text/plain": [
       "Dict{Any,Any} with 0 entries"
      ]
     },
     "execution_count": 15,
     "metadata": {},
     "output_type": "execute_result"
    }
   ],
   "source": [
    "d = Dict() "
   ]
  },
  {
   "cell_type": "code",
   "execution_count": 16,
   "metadata": {},
   "outputs": [
    {
     "data": {
      "text/plain": [
       "Dict{Any,Any} with 1 entry:\n",
       "  \"Python hand-written\" => 1641.62"
      ]
     },
     "execution_count": 16,
     "metadata": {},
     "output_type": "execute_result"
    }
   ],
   "source": [
    "d[\"Python hand-written\"] = minimum(py_hand.times) / 1e6\n",
    "d"
   ]
  },
  {
   "cell_type": "code",
   "execution_count": 17,
   "metadata": {},
   "outputs": [
    {
     "name": "stderr",
     "output_type": "stream",
     "text": [
      "┌ Info: Precompiling Plots [91a5bcdd-55d7-5caf-9e0b-520d859cae80]\n",
      "└ @ Base loading.jl:1273\n"
     ]
    },
    {
     "data": {
      "text/plain": [
       "Plots.GRBackend()"
      ]
     },
     "execution_count": 17,
     "metadata": {},
     "output_type": "execute_result"
    }
   ],
   "source": [
    "using Plots\n",
    "gr()"
   ]
  },
  {
   "cell_type": "code",
   "execution_count": 18,
   "metadata": {},
   "outputs": [
    {
     "data": {
      "image/svg+xml": [
       "<?xml version=\"1.0\" encoding=\"utf-8\"?>\n",
       "<svg xmlns=\"http://www.w3.org/2000/svg\" xmlns:xlink=\"http://www.w3.org/1999/xlink\" width=\"600\" height=\"400\" viewBox=\"0 0 2400 1600\">\n",
       "<defs>\n",
       "  <clipPath id=\"clip9300\">\n",
       "    <rect x=\"0\" y=\"0\" width=\"2400\" height=\"1600\"/>\n",
       "  </clipPath>\n",
       "</defs>\n",
       "<path clip-path=\"url(#clip9300)\" d=\"\n",
       "M0 1600 L2400 1600 L2400 0 L0 0  Z\n",
       "  \" fill=\"#ffffff\" fill-rule=\"evenodd\" fill-opacity=\"1\"/>\n",
       "<defs>\n",
       "  <clipPath id=\"clip9301\">\n",
       "    <rect x=\"480\" y=\"0\" width=\"1681\" height=\"1600\"/>\n",
       "  </clipPath>\n",
       "</defs>\n",
       "<path clip-path=\"url(#clip9300)\" d=\"\n",
       "M242.516 1425.62 L2352.76 1425.62 L2352.76 47.2441 L242.516 47.2441  Z\n",
       "  \" fill=\"#ffffff\" fill-rule=\"evenodd\" fill-opacity=\"1\"/>\n",
       "<defs>\n",
       "  <clipPath id=\"clip9302\">\n",
       "    <rect x=\"242\" y=\"47\" width=\"2111\" height=\"1379\"/>\n",
       "  </clipPath>\n",
       "</defs>\n",
       "<polyline clip-path=\"url(#clip9302)\" style=\"stroke:#000000; stroke-width:2; stroke-opacity:0.1; fill:none\" points=\"\n",
       "  617.668,1425.62 617.668,47.2441 \n",
       "  \"/>\n",
       "<polyline clip-path=\"url(#clip9302)\" style=\"stroke:#000000; stroke-width:2; stroke-opacity:0.1; fill:none\" points=\"\n",
       "  1064.78,1425.62 1064.78,47.2441 \n",
       "  \"/>\n",
       "<polyline clip-path=\"url(#clip9302)\" style=\"stroke:#000000; stroke-width:2; stroke-opacity:0.1; fill:none\" points=\"\n",
       "  1511.89,1425.62 1511.89,47.2441 \n",
       "  \"/>\n",
       "<polyline clip-path=\"url(#clip9302)\" style=\"stroke:#000000; stroke-width:2; stroke-opacity:0.1; fill:none\" points=\"\n",
       "  1958.99,1425.62 1958.99,47.2441 \n",
       "  \"/>\n",
       "<polyline clip-path=\"url(#clip9302)\" style=\"stroke:#000000; stroke-width:2; stroke-opacity:0.1; fill:none\" points=\"\n",
       "  242.516,1386.61 2352.76,1386.61 \n",
       "  \"/>\n",
       "<polyline clip-path=\"url(#clip9302)\" style=\"stroke:#000000; stroke-width:2; stroke-opacity:0.1; fill:none\" points=\"\n",
       "  242.516,1061.52 2352.76,1061.52 \n",
       "  \"/>\n",
       "<polyline clip-path=\"url(#clip9302)\" style=\"stroke:#000000; stroke-width:2; stroke-opacity:0.1; fill:none\" points=\"\n",
       "  242.516,736.431 2352.76,736.431 \n",
       "  \"/>\n",
       "<polyline clip-path=\"url(#clip9302)\" style=\"stroke:#000000; stroke-width:2; stroke-opacity:0.1; fill:none\" points=\"\n",
       "  242.516,411.343 2352.76,411.343 \n",
       "  \"/>\n",
       "<polyline clip-path=\"url(#clip9302)\" style=\"stroke:#000000; stroke-width:2; stroke-opacity:0.1; fill:none\" points=\"\n",
       "  242.516,86.2547 2352.76,86.2547 \n",
       "  \"/>\n",
       "<polyline clip-path=\"url(#clip9300)\" style=\"stroke:#000000; stroke-width:4; stroke-opacity:1; fill:none\" points=\"\n",
       "  242.516,1425.62 2352.76,1425.62 \n",
       "  \"/>\n",
       "<polyline clip-path=\"url(#clip9300)\" style=\"stroke:#000000; stroke-width:4; stroke-opacity:1; fill:none\" points=\"\n",
       "  242.516,1425.62 242.516,47.2441 \n",
       "  \"/>\n",
       "<polyline clip-path=\"url(#clip9300)\" style=\"stroke:#000000; stroke-width:4; stroke-opacity:1; fill:none\" points=\"\n",
       "  617.668,1425.62 617.668,1409.08 \n",
       "  \"/>\n",
       "<polyline clip-path=\"url(#clip9300)\" style=\"stroke:#000000; stroke-width:4; stroke-opacity:1; fill:none\" points=\"\n",
       "  1064.78,1425.62 1064.78,1409.08 \n",
       "  \"/>\n",
       "<polyline clip-path=\"url(#clip9300)\" style=\"stroke:#000000; stroke-width:4; stroke-opacity:1; fill:none\" points=\"\n",
       "  1511.89,1425.62 1511.89,1409.08 \n",
       "  \"/>\n",
       "<polyline clip-path=\"url(#clip9300)\" style=\"stroke:#000000; stroke-width:4; stroke-opacity:1; fill:none\" points=\"\n",
       "  1958.99,1425.62 1958.99,1409.08 \n",
       "  \"/>\n",
       "<polyline clip-path=\"url(#clip9300)\" style=\"stroke:#000000; stroke-width:4; stroke-opacity:1; fill:none\" points=\"\n",
       "  242.516,1386.61 267.839,1386.61 \n",
       "  \"/>\n",
       "<polyline clip-path=\"url(#clip9300)\" style=\"stroke:#000000; stroke-width:4; stroke-opacity:1; fill:none\" points=\"\n",
       "  242.516,1061.52 267.839,1061.52 \n",
       "  \"/>\n",
       "<polyline clip-path=\"url(#clip9300)\" style=\"stroke:#000000; stroke-width:4; stroke-opacity:1; fill:none\" points=\"\n",
       "  242.516,736.431 267.839,736.431 \n",
       "  \"/>\n",
       "<polyline clip-path=\"url(#clip9300)\" style=\"stroke:#000000; stroke-width:4; stroke-opacity:1; fill:none\" points=\"\n",
       "  242.516,411.343 267.839,411.343 \n",
       "  \"/>\n",
       "<polyline clip-path=\"url(#clip9300)\" style=\"stroke:#000000; stroke-width:4; stroke-opacity:1; fill:none\" points=\"\n",
       "  242.516,86.2547 267.839,86.2547 \n",
       "  \"/>\n",
       "<g clip-path=\"url(#clip9300)\">\n",
       "<text style=\"fill:#000000; fill-opacity:1; font-family:Arial,Helvetica Neue,Helvetica,sans-serif; font-size:48px; text-anchor:middle;\" transform=\"rotate(0, 617.668, 1479.62)\" x=\"617.668\" y=\"1479.62\">1650</text>\n",
       "</g>\n",
       "<g clip-path=\"url(#clip9300)\">\n",
       "<text style=\"fill:#000000; fill-opacity:1; font-family:Arial,Helvetica Neue,Helvetica,sans-serif; font-size:48px; text-anchor:middle;\" transform=\"rotate(0, 1064.78, 1479.62)\" x=\"1064.78\" y=\"1479.62\">1660</text>\n",
       "</g>\n",
       "<g clip-path=\"url(#clip9300)\">\n",
       "<text style=\"fill:#000000; fill-opacity:1; font-family:Arial,Helvetica Neue,Helvetica,sans-serif; font-size:48px; text-anchor:middle;\" transform=\"rotate(0, 1511.89, 1479.62)\" x=\"1511.89\" y=\"1479.62\">1670</text>\n",
       "</g>\n",
       "<g clip-path=\"url(#clip9300)\">\n",
       "<text style=\"fill:#000000; fill-opacity:1; font-family:Arial,Helvetica Neue,Helvetica,sans-serif; font-size:48px; text-anchor:middle;\" transform=\"rotate(0, 1958.99, 1479.62)\" x=\"1958.99\" y=\"1479.62\">1680</text>\n",
       "</g>\n",
       "<g clip-path=\"url(#clip9300)\">\n",
       "<text style=\"fill:#000000; fill-opacity:1; font-family:Arial,Helvetica Neue,Helvetica,sans-serif; font-size:48px; text-anchor:end;\" transform=\"rotate(0, 218.516, 1404.11)\" x=\"218.516\" y=\"1404.11\">0.00</text>\n",
       "</g>\n",
       "<g clip-path=\"url(#clip9300)\">\n",
       "<text style=\"fill:#000000; fill-opacity:1; font-family:Arial,Helvetica Neue,Helvetica,sans-serif; font-size:48px; text-anchor:end;\" transform=\"rotate(0, 218.516, 1079.02)\" x=\"218.516\" y=\"1079.02\">0.25</text>\n",
       "</g>\n",
       "<g clip-path=\"url(#clip9300)\">\n",
       "<text style=\"fill:#000000; fill-opacity:1; font-family:Arial,Helvetica Neue,Helvetica,sans-serif; font-size:48px; text-anchor:end;\" transform=\"rotate(0, 218.516, 753.931)\" x=\"218.516\" y=\"753.931\">0.50</text>\n",
       "</g>\n",
       "<g clip-path=\"url(#clip9300)\">\n",
       "<text style=\"fill:#000000; fill-opacity:1; font-family:Arial,Helvetica Neue,Helvetica,sans-serif; font-size:48px; text-anchor:end;\" transform=\"rotate(0, 218.516, 428.843)\" x=\"218.516\" y=\"428.843\">0.75</text>\n",
       "</g>\n",
       "<g clip-path=\"url(#clip9300)\">\n",
       "<text style=\"fill:#000000; fill-opacity:1; font-family:Arial,Helvetica Neue,Helvetica,sans-serif; font-size:48px; text-anchor:end;\" transform=\"rotate(0, 218.516, 103.755)\" x=\"218.516\" y=\"103.755\">1.00</text>\n",
       "</g>\n",
       "<g clip-path=\"url(#clip9300)\">\n",
       "<text style=\"fill:#000000; fill-opacity:1; font-family:Arial,Helvetica Neue,Helvetica,sans-serif; font-size:66px; text-anchor:middle;\" transform=\"rotate(0, 1297.64, 1559.48)\" x=\"1297.64\" y=\"1559.48\">milliseconds</text>\n",
       "</g>\n",
       "<g clip-path=\"url(#clip9300)\">\n",
       "<text style=\"fill:#000000; fill-opacity:1; font-family:Arial,Helvetica Neue,Helvetica,sans-serif; font-size:66px; text-anchor:middle;\" transform=\"rotate(-90, 89.2861, 736.431)\" x=\"89.2861\" y=\"736.431\">count</text>\n",
       "</g>\n",
       "<path clip-path=\"url(#clip9302)\" d=\"\n",
       "M242.096 86.2547 L242.096 1386.61 L251.038 1386.61 L251.038 86.2547 L242.096 86.2547 L242.096 86.2547  Z\n",
       "  \" fill=\"#009af9\" fill-rule=\"evenodd\" fill-opacity=\"1\"/>\n",
       "<polyline clip-path=\"url(#clip9302)\" style=\"stroke:#000000; stroke-width:4; stroke-opacity:1; fill:none\" points=\"\n",
       "  242.096,86.2547 242.096,1386.61 251.038,1386.61 251.038,86.2547 242.096,86.2547 \n",
       "  \"/>\n",
       "<path clip-path=\"url(#clip9302)\" d=\"\n",
       "M251.038 1386.61 L251.038 1386.61 L259.98 1386.61 L259.98 1386.61 L251.038 1386.61 L251.038 1386.61  Z\n",
       "  \" fill=\"#009af9\" fill-rule=\"evenodd\" fill-opacity=\"1\"/>\n",
       "<polyline clip-path=\"url(#clip9302)\" style=\"stroke:#000000; stroke-width:4; stroke-opacity:1; fill:none\" points=\"\n",
       "  251.038,1386.61 251.038,1386.61 259.98,1386.61 251.038,1386.61 \n",
       "  \"/>\n",
       "<path clip-path=\"url(#clip9302)\" d=\"\n",
       "M259.98 1386.61 L259.98 1386.61 L268.923 1386.61 L268.923 1386.61 L259.98 1386.61 L259.98 1386.61  Z\n",
       "  \" fill=\"#009af9\" fill-rule=\"evenodd\" fill-opacity=\"1\"/>\n",
       "<polyline clip-path=\"url(#clip9302)\" style=\"stroke:#000000; stroke-width:4; stroke-opacity:1; fill:none\" points=\"\n",
       "  259.98,1386.61 259.98,1386.61 268.923,1386.61 259.98,1386.61 \n",
       "  \"/>\n",
       "<path clip-path=\"url(#clip9302)\" d=\"\n",
       "M268.923 1386.61 L268.923 1386.61 L277.865 1386.61 L277.865 1386.61 L268.923 1386.61 L268.923 1386.61  Z\n",
       "  \" fill=\"#009af9\" fill-rule=\"evenodd\" fill-opacity=\"1\"/>\n",
       "<polyline clip-path=\"url(#clip9302)\" style=\"stroke:#000000; stroke-width:4; stroke-opacity:1; fill:none\" points=\"\n",
       "  268.923,1386.61 268.923,1386.61 277.865,1386.61 268.923,1386.61 \n",
       "  \"/>\n",
       "<path clip-path=\"url(#clip9302)\" d=\"\n",
       "M277.865 1386.61 L277.865 1386.61 L286.807 1386.61 L286.807 1386.61 L277.865 1386.61 L277.865 1386.61  Z\n",
       "  \" fill=\"#009af9\" fill-rule=\"evenodd\" fill-opacity=\"1\"/>\n",
       "<polyline clip-path=\"url(#clip9302)\" style=\"stroke:#000000; stroke-width:4; stroke-opacity:1; fill:none\" points=\"\n",
       "  277.865,1386.61 277.865,1386.61 286.807,1386.61 277.865,1386.61 \n",
       "  \"/>\n",
       "<path clip-path=\"url(#clip9302)\" d=\"\n",
       "M286.807 1386.61 L286.807 1386.61 L295.749 1386.61 L295.749 1386.61 L286.807 1386.61 L286.807 1386.61  Z\n",
       "  \" fill=\"#009af9\" fill-rule=\"evenodd\" fill-opacity=\"1\"/>\n",
       "<polyline clip-path=\"url(#clip9302)\" style=\"stroke:#000000; stroke-width:4; stroke-opacity:1; fill:none\" points=\"\n",
       "  286.807,1386.61 286.807,1386.61 295.749,1386.61 286.807,1386.61 \n",
       "  \"/>\n",
       "<path clip-path=\"url(#clip9302)\" d=\"\n",
       "M295.749 1386.61 L295.749 1386.61 L304.691 1386.61 L304.691 1386.61 L295.749 1386.61 L295.749 1386.61  Z\n",
       "  \" fill=\"#009af9\" fill-rule=\"evenodd\" fill-opacity=\"1\"/>\n",
       "<polyline clip-path=\"url(#clip9302)\" style=\"stroke:#000000; stroke-width:4; stroke-opacity:1; fill:none\" points=\"\n",
       "  295.749,1386.61 295.749,1386.61 304.691,1386.61 295.749,1386.61 \n",
       "  \"/>\n",
       "<path clip-path=\"url(#clip9302)\" d=\"\n",
       "M304.691 1386.61 L304.691 1386.61 L313.634 1386.61 L313.634 1386.61 L304.691 1386.61 L304.691 1386.61  Z\n",
       "  \" fill=\"#009af9\" fill-rule=\"evenodd\" fill-opacity=\"1\"/>\n",
       "<polyline clip-path=\"url(#clip9302)\" style=\"stroke:#000000; stroke-width:4; stroke-opacity:1; fill:none\" points=\"\n",
       "  304.691,1386.61 304.691,1386.61 313.634,1386.61 304.691,1386.61 \n",
       "  \"/>\n",
       "<path clip-path=\"url(#clip9302)\" d=\"\n",
       "M313.634 1386.61 L313.634 1386.61 L322.576 1386.61 L322.576 1386.61 L313.634 1386.61 L313.634 1386.61  Z\n",
       "  \" fill=\"#009af9\" fill-rule=\"evenodd\" fill-opacity=\"1\"/>\n",
       "<polyline clip-path=\"url(#clip9302)\" style=\"stroke:#000000; stroke-width:4; stroke-opacity:1; fill:none\" points=\"\n",
       "  313.634,1386.61 313.634,1386.61 322.576,1386.61 313.634,1386.61 \n",
       "  \"/>\n",
       "<path clip-path=\"url(#clip9302)\" d=\"\n",
       "M322.576 1386.61 L322.576 1386.61 L331.518 1386.61 L331.518 1386.61 L322.576 1386.61 L322.576 1386.61  Z\n",
       "  \" fill=\"#009af9\" fill-rule=\"evenodd\" fill-opacity=\"1\"/>\n",
       "<polyline clip-path=\"url(#clip9302)\" style=\"stroke:#000000; stroke-width:4; stroke-opacity:1; fill:none\" points=\"\n",
       "  322.576,1386.61 322.576,1386.61 331.518,1386.61 322.576,1386.61 \n",
       "  \"/>\n",
       "<path clip-path=\"url(#clip9302)\" d=\"\n",
       "M331.518 1386.61 L331.518 1386.61 L340.46 1386.61 L340.46 1386.61 L331.518 1386.61 L331.518 1386.61  Z\n",
       "  \" fill=\"#009af9\" fill-rule=\"evenodd\" fill-opacity=\"1\"/>\n",
       "<polyline clip-path=\"url(#clip9302)\" style=\"stroke:#000000; stroke-width:4; stroke-opacity:1; fill:none\" points=\"\n",
       "  331.518,1386.61 331.518,1386.61 340.46,1386.61 331.518,1386.61 \n",
       "  \"/>\n",
       "<path clip-path=\"url(#clip9302)\" d=\"\n",
       "M340.46 1386.61 L340.46 1386.61 L349.402 1386.61 L349.402 1386.61 L340.46 1386.61 L340.46 1386.61  Z\n",
       "  \" fill=\"#009af9\" fill-rule=\"evenodd\" fill-opacity=\"1\"/>\n",
       "<polyline clip-path=\"url(#clip9302)\" style=\"stroke:#000000; stroke-width:4; stroke-opacity:1; fill:none\" points=\"\n",
       "  340.46,1386.61 340.46,1386.61 349.402,1386.61 340.46,1386.61 \n",
       "  \"/>\n",
       "<path clip-path=\"url(#clip9302)\" d=\"\n",
       "M349.402 1386.61 L349.402 1386.61 L358.344 1386.61 L358.344 1386.61 L349.402 1386.61 L349.402 1386.61  Z\n",
       "  \" fill=\"#009af9\" fill-rule=\"evenodd\" fill-opacity=\"1\"/>\n",
       "<polyline clip-path=\"url(#clip9302)\" style=\"stroke:#000000; stroke-width:4; stroke-opacity:1; fill:none\" points=\"\n",
       "  349.402,1386.61 349.402,1386.61 358.344,1386.61 349.402,1386.61 \n",
       "  \"/>\n",
       "<path clip-path=\"url(#clip9302)\" d=\"\n",
       "M358.344 1386.61 L358.344 1386.61 L367.287 1386.61 L367.287 1386.61 L358.344 1386.61 L358.344 1386.61  Z\n",
       "  \" fill=\"#009af9\" fill-rule=\"evenodd\" fill-opacity=\"1\"/>\n",
       "<polyline clip-path=\"url(#clip9302)\" style=\"stroke:#000000; stroke-width:4; stroke-opacity:1; fill:none\" points=\"\n",
       "  358.344,1386.61 358.344,1386.61 367.287,1386.61 358.344,1386.61 \n",
       "  \"/>\n",
       "<path clip-path=\"url(#clip9302)\" d=\"\n",
       "M367.287 1386.61 L367.287 1386.61 L376.229 1386.61 L376.229 1386.61 L367.287 1386.61 L367.287 1386.61  Z\n",
       "  \" fill=\"#009af9\" fill-rule=\"evenodd\" fill-opacity=\"1\"/>\n",
       "<polyline clip-path=\"url(#clip9302)\" style=\"stroke:#000000; stroke-width:4; stroke-opacity:1; fill:none\" points=\"\n",
       "  367.287,1386.61 367.287,1386.61 376.229,1386.61 367.287,1386.61 \n",
       "  \"/>\n",
       "<path clip-path=\"url(#clip9302)\" d=\"\n",
       "M376.229 1386.61 L376.229 1386.61 L385.171 1386.61 L385.171 1386.61 L376.229 1386.61 L376.229 1386.61  Z\n",
       "  \" fill=\"#009af9\" fill-rule=\"evenodd\" fill-opacity=\"1\"/>\n",
       "<polyline clip-path=\"url(#clip9302)\" style=\"stroke:#000000; stroke-width:4; stroke-opacity:1; fill:none\" points=\"\n",
       "  376.229,1386.61 376.229,1386.61 385.171,1386.61 376.229,1386.61 \n",
       "  \"/>\n",
       "<path clip-path=\"url(#clip9302)\" d=\"\n",
       "M385.171 1386.61 L385.171 1386.61 L394.113 1386.61 L394.113 1386.61 L385.171 1386.61 L385.171 1386.61  Z\n",
       "  \" fill=\"#009af9\" fill-rule=\"evenodd\" fill-opacity=\"1\"/>\n",
       "<polyline clip-path=\"url(#clip9302)\" style=\"stroke:#000000; stroke-width:4; stroke-opacity:1; fill:none\" points=\"\n",
       "  385.171,1386.61 385.171,1386.61 394.113,1386.61 385.171,1386.61 \n",
       "  \"/>\n",
       "<path clip-path=\"url(#clip9302)\" d=\"\n",
       "M394.113 1386.61 L394.113 1386.61 L403.055 1386.61 L403.055 1386.61 L394.113 1386.61 L394.113 1386.61  Z\n",
       "  \" fill=\"#009af9\" fill-rule=\"evenodd\" fill-opacity=\"1\"/>\n",
       "<polyline clip-path=\"url(#clip9302)\" style=\"stroke:#000000; stroke-width:4; stroke-opacity:1; fill:none\" points=\"\n",
       "  394.113,1386.61 394.113,1386.61 403.055,1386.61 394.113,1386.61 \n",
       "  \"/>\n",
       "<path clip-path=\"url(#clip9302)\" d=\"\n",
       "M403.055 1386.61 L403.055 1386.61 L411.997 1386.61 L411.997 1386.61 L403.055 1386.61 L403.055 1386.61  Z\n",
       "  \" fill=\"#009af9\" fill-rule=\"evenodd\" fill-opacity=\"1\"/>\n",
       "<polyline clip-path=\"url(#clip9302)\" style=\"stroke:#000000; stroke-width:4; stroke-opacity:1; fill:none\" points=\"\n",
       "  403.055,1386.61 403.055,1386.61 411.997,1386.61 403.055,1386.61 \n",
       "  \"/>\n",
       "<path clip-path=\"url(#clip9302)\" d=\"\n",
       "M411.997 1386.61 L411.997 1386.61 L420.94 1386.61 L420.94 1386.61 L411.997 1386.61 L411.997 1386.61  Z\n",
       "  \" fill=\"#009af9\" fill-rule=\"evenodd\" fill-opacity=\"1\"/>\n",
       "<polyline clip-path=\"url(#clip9302)\" style=\"stroke:#000000; stroke-width:4; stroke-opacity:1; fill:none\" points=\"\n",
       "  411.997,1386.61 411.997,1386.61 420.94,1386.61 411.997,1386.61 \n",
       "  \"/>\n",
       "<path clip-path=\"url(#clip9302)\" d=\"\n",
       "M420.94 1386.61 L420.94 1386.61 L429.882 1386.61 L429.882 1386.61 L420.94 1386.61 L420.94 1386.61  Z\n",
       "  \" fill=\"#009af9\" fill-rule=\"evenodd\" fill-opacity=\"1\"/>\n",
       "<polyline clip-path=\"url(#clip9302)\" style=\"stroke:#000000; stroke-width:4; stroke-opacity:1; fill:none\" points=\"\n",
       "  420.94,1386.61 420.94,1386.61 429.882,1386.61 420.94,1386.61 \n",
       "  \"/>\n",
       "<path clip-path=\"url(#clip9302)\" d=\"\n",
       "M429.882 1386.61 L429.882 1386.61 L438.824 1386.61 L438.824 1386.61 L429.882 1386.61 L429.882 1386.61  Z\n",
       "  \" fill=\"#009af9\" fill-rule=\"evenodd\" fill-opacity=\"1\"/>\n",
       "<polyline clip-path=\"url(#clip9302)\" style=\"stroke:#000000; stroke-width:4; stroke-opacity:1; fill:none\" points=\"\n",
       "  429.882,1386.61 429.882,1386.61 438.824,1386.61 429.882,1386.61 \n",
       "  \"/>\n",
       "<path clip-path=\"url(#clip9302)\" d=\"\n",
       "M438.824 1386.61 L438.824 1386.61 L447.766 1386.61 L447.766 1386.61 L438.824 1386.61 L438.824 1386.61  Z\n",
       "  \" fill=\"#009af9\" fill-rule=\"evenodd\" fill-opacity=\"1\"/>\n",
       "<polyline clip-path=\"url(#clip9302)\" style=\"stroke:#000000; stroke-width:4; stroke-opacity:1; fill:none\" points=\"\n",
       "  438.824,1386.61 438.824,1386.61 447.766,1386.61 438.824,1386.61 \n",
       "  \"/>\n",
       "<path clip-path=\"url(#clip9302)\" d=\"\n",
       "M447.766 1386.61 L447.766 1386.61 L456.708 1386.61 L456.708 1386.61 L447.766 1386.61 L447.766 1386.61  Z\n",
       "  \" fill=\"#009af9\" fill-rule=\"evenodd\" fill-opacity=\"1\"/>\n",
       "<polyline clip-path=\"url(#clip9302)\" style=\"stroke:#000000; stroke-width:4; stroke-opacity:1; fill:none\" points=\"\n",
       "  447.766,1386.61 447.766,1386.61 456.708,1386.61 447.766,1386.61 \n",
       "  \"/>\n",
       "<path clip-path=\"url(#clip9302)\" d=\"\n",
       "M456.708 1386.61 L456.708 1386.61 L465.651 1386.61 L465.651 1386.61 L456.708 1386.61 L456.708 1386.61  Z\n",
       "  \" fill=\"#009af9\" fill-rule=\"evenodd\" fill-opacity=\"1\"/>\n",
       "<polyline clip-path=\"url(#clip9302)\" style=\"stroke:#000000; stroke-width:4; stroke-opacity:1; fill:none\" points=\"\n",
       "  456.708,1386.61 456.708,1386.61 465.651,1386.61 456.708,1386.61 \n",
       "  \"/>\n",
       "<path clip-path=\"url(#clip9302)\" d=\"\n",
       "M465.651 1386.61 L465.651 1386.61 L474.593 1386.61 L474.593 1386.61 L465.651 1386.61 L465.651 1386.61  Z\n",
       "  \" fill=\"#009af9\" fill-rule=\"evenodd\" fill-opacity=\"1\"/>\n",
       "<polyline clip-path=\"url(#clip9302)\" style=\"stroke:#000000; stroke-width:4; stroke-opacity:1; fill:none\" points=\"\n",
       "  465.651,1386.61 465.651,1386.61 474.593,1386.61 465.651,1386.61 \n",
       "  \"/>\n",
       "<path clip-path=\"url(#clip9302)\" d=\"\n",
       "M474.593 1386.61 L474.593 1386.61 L483.535 1386.61 L483.535 1386.61 L474.593 1386.61 L474.593 1386.61  Z\n",
       "  \" fill=\"#009af9\" fill-rule=\"evenodd\" fill-opacity=\"1\"/>\n",
       "<polyline clip-path=\"url(#clip9302)\" style=\"stroke:#000000; stroke-width:4; stroke-opacity:1; fill:none\" points=\"\n",
       "  474.593,1386.61 474.593,1386.61 483.535,1386.61 474.593,1386.61 \n",
       "  \"/>\n",
       "<path clip-path=\"url(#clip9302)\" d=\"\n",
       "M483.535 1386.61 L483.535 1386.61 L492.477 1386.61 L492.477 1386.61 L483.535 1386.61 L483.535 1386.61  Z\n",
       "  \" fill=\"#009af9\" fill-rule=\"evenodd\" fill-opacity=\"1\"/>\n",
       "<polyline clip-path=\"url(#clip9302)\" style=\"stroke:#000000; stroke-width:4; stroke-opacity:1; fill:none\" points=\"\n",
       "  483.535,1386.61 483.535,1386.61 492.477,1386.61 483.535,1386.61 \n",
       "  \"/>\n",
       "<path clip-path=\"url(#clip9302)\" d=\"\n",
       "M492.477 1386.61 L492.477 1386.61 L501.419 1386.61 L501.419 1386.61 L492.477 1386.61 L492.477 1386.61  Z\n",
       "  \" fill=\"#009af9\" fill-rule=\"evenodd\" fill-opacity=\"1\"/>\n",
       "<polyline clip-path=\"url(#clip9302)\" style=\"stroke:#000000; stroke-width:4; stroke-opacity:1; fill:none\" points=\"\n",
       "  492.477,1386.61 492.477,1386.61 501.419,1386.61 492.477,1386.61 \n",
       "  \"/>\n",
       "<path clip-path=\"url(#clip9302)\" d=\"\n",
       "M501.419 1386.61 L501.419 1386.61 L510.361 1386.61 L510.361 1386.61 L501.419 1386.61 L501.419 1386.61  Z\n",
       "  \" fill=\"#009af9\" fill-rule=\"evenodd\" fill-opacity=\"1\"/>\n",
       "<polyline clip-path=\"url(#clip9302)\" style=\"stroke:#000000; stroke-width:4; stroke-opacity:1; fill:none\" points=\"\n",
       "  501.419,1386.61 501.419,1386.61 510.361,1386.61 501.419,1386.61 \n",
       "  \"/>\n",
       "<path clip-path=\"url(#clip9302)\" d=\"\n",
       "M510.361 1386.61 L510.361 1386.61 L519.304 1386.61 L519.304 1386.61 L510.361 1386.61 L510.361 1386.61  Z\n",
       "  \" fill=\"#009af9\" fill-rule=\"evenodd\" fill-opacity=\"1\"/>\n",
       "<polyline clip-path=\"url(#clip9302)\" style=\"stroke:#000000; stroke-width:4; stroke-opacity:1; fill:none\" points=\"\n",
       "  510.361,1386.61 510.361,1386.61 519.304,1386.61 510.361,1386.61 \n",
       "  \"/>\n",
       "<path clip-path=\"url(#clip9302)\" d=\"\n",
       "M519.304 1386.61 L519.304 1386.61 L528.246 1386.61 L528.246 1386.61 L519.304 1386.61 L519.304 1386.61  Z\n",
       "  \" fill=\"#009af9\" fill-rule=\"evenodd\" fill-opacity=\"1\"/>\n",
       "<polyline clip-path=\"url(#clip9302)\" style=\"stroke:#000000; stroke-width:4; stroke-opacity:1; fill:none\" points=\"\n",
       "  519.304,1386.61 519.304,1386.61 528.246,1386.61 519.304,1386.61 \n",
       "  \"/>\n",
       "<path clip-path=\"url(#clip9302)\" d=\"\n",
       "M528.246 1386.61 L528.246 1386.61 L537.188 1386.61 L537.188 1386.61 L528.246 1386.61 L528.246 1386.61  Z\n",
       "  \" fill=\"#009af9\" fill-rule=\"evenodd\" fill-opacity=\"1\"/>\n",
       "<polyline clip-path=\"url(#clip9302)\" style=\"stroke:#000000; stroke-width:4; stroke-opacity:1; fill:none\" points=\"\n",
       "  528.246,1386.61 528.246,1386.61 537.188,1386.61 528.246,1386.61 \n",
       "  \"/>\n",
       "<path clip-path=\"url(#clip9302)\" d=\"\n",
       "M537.188 1386.61 L537.188 1386.61 L546.13 1386.61 L546.13 1386.61 L537.188 1386.61 L537.188 1386.61  Z\n",
       "  \" fill=\"#009af9\" fill-rule=\"evenodd\" fill-opacity=\"1\"/>\n",
       "<polyline clip-path=\"url(#clip9302)\" style=\"stroke:#000000; stroke-width:4; stroke-opacity:1; fill:none\" points=\"\n",
       "  537.188,1386.61 537.188,1386.61 546.13,1386.61 537.188,1386.61 \n",
       "  \"/>\n",
       "<path clip-path=\"url(#clip9302)\" d=\"\n",
       "M546.13 1386.61 L546.13 1386.61 L555.072 1386.61 L555.072 1386.61 L546.13 1386.61 L546.13 1386.61  Z\n",
       "  \" fill=\"#009af9\" fill-rule=\"evenodd\" fill-opacity=\"1\"/>\n",
       "<polyline clip-path=\"url(#clip9302)\" style=\"stroke:#000000; stroke-width:4; stroke-opacity:1; fill:none\" points=\"\n",
       "  546.13,1386.61 546.13,1386.61 555.072,1386.61 546.13,1386.61 \n",
       "  \"/>\n",
       "<path clip-path=\"url(#clip9302)\" d=\"\n",
       "M555.072 1386.61 L555.072 1386.61 L564.015 1386.61 L564.015 1386.61 L555.072 1386.61 L555.072 1386.61  Z\n",
       "  \" fill=\"#009af9\" fill-rule=\"evenodd\" fill-opacity=\"1\"/>\n",
       "<polyline clip-path=\"url(#clip9302)\" style=\"stroke:#000000; stroke-width:4; stroke-opacity:1; fill:none\" points=\"\n",
       "  555.072,1386.61 555.072,1386.61 564.015,1386.61 555.072,1386.61 \n",
       "  \"/>\n",
       "<path clip-path=\"url(#clip9302)\" d=\"\n",
       "M564.015 1386.61 L564.015 1386.61 L572.957 1386.61 L572.957 1386.61 L564.015 1386.61 L564.015 1386.61  Z\n",
       "  \" fill=\"#009af9\" fill-rule=\"evenodd\" fill-opacity=\"1\"/>\n",
       "<polyline clip-path=\"url(#clip9302)\" style=\"stroke:#000000; stroke-width:4; stroke-opacity:1; fill:none\" points=\"\n",
       "  564.015,1386.61 564.015,1386.61 572.957,1386.61 564.015,1386.61 \n",
       "  \"/>\n",
       "<path clip-path=\"url(#clip9302)\" d=\"\n",
       "M572.957 1386.61 L572.957 1386.61 L581.899 1386.61 L581.899 1386.61 L572.957 1386.61 L572.957 1386.61  Z\n",
       "  \" fill=\"#009af9\" fill-rule=\"evenodd\" fill-opacity=\"1\"/>\n",
       "<polyline clip-path=\"url(#clip9302)\" style=\"stroke:#000000; stroke-width:4; stroke-opacity:1; fill:none\" points=\"\n",
       "  572.957,1386.61 572.957,1386.61 581.899,1386.61 572.957,1386.61 \n",
       "  \"/>\n",
       "<path clip-path=\"url(#clip9302)\" d=\"\n",
       "M581.899 1386.61 L581.899 1386.61 L590.841 1386.61 L590.841 1386.61 L581.899 1386.61 L581.899 1386.61  Z\n",
       "  \" fill=\"#009af9\" fill-rule=\"evenodd\" fill-opacity=\"1\"/>\n",
       "<polyline clip-path=\"url(#clip9302)\" style=\"stroke:#000000; stroke-width:4; stroke-opacity:1; fill:none\" points=\"\n",
       "  581.899,1386.61 581.899,1386.61 590.841,1386.61 581.899,1386.61 \n",
       "  \"/>\n",
       "<path clip-path=\"url(#clip9302)\" d=\"\n",
       "M590.841 1386.61 L590.841 1386.61 L599.783 1386.61 L599.783 1386.61 L590.841 1386.61 L590.841 1386.61  Z\n",
       "  \" fill=\"#009af9\" fill-rule=\"evenodd\" fill-opacity=\"1\"/>\n",
       "<polyline clip-path=\"url(#clip9302)\" style=\"stroke:#000000; stroke-width:4; stroke-opacity:1; fill:none\" points=\"\n",
       "  590.841,1386.61 590.841,1386.61 599.783,1386.61 590.841,1386.61 \n",
       "  \"/>\n",
       "<path clip-path=\"url(#clip9302)\" d=\"\n",
       "M599.783 1386.61 L599.783 1386.61 L608.725 1386.61 L608.725 1386.61 L599.783 1386.61 L599.783 1386.61  Z\n",
       "  \" fill=\"#009af9\" fill-rule=\"evenodd\" fill-opacity=\"1\"/>\n",
       "<polyline clip-path=\"url(#clip9302)\" style=\"stroke:#000000; stroke-width:4; stroke-opacity:1; fill:none\" points=\"\n",
       "  599.783,1386.61 599.783,1386.61 608.725,1386.61 599.783,1386.61 \n",
       "  \"/>\n",
       "<path clip-path=\"url(#clip9302)\" d=\"\n",
       "M608.725 1386.61 L608.725 1386.61 L617.668 1386.61 L617.668 1386.61 L608.725 1386.61 L608.725 1386.61  Z\n",
       "  \" fill=\"#009af9\" fill-rule=\"evenodd\" fill-opacity=\"1\"/>\n",
       "<polyline clip-path=\"url(#clip9302)\" style=\"stroke:#000000; stroke-width:4; stroke-opacity:1; fill:none\" points=\"\n",
       "  608.725,1386.61 608.725,1386.61 617.668,1386.61 608.725,1386.61 \n",
       "  \"/>\n",
       "<path clip-path=\"url(#clip9302)\" d=\"\n",
       "M617.668 1386.61 L617.668 1386.61 L626.61 1386.61 L626.61 1386.61 L617.668 1386.61 L617.668 1386.61  Z\n",
       "  \" fill=\"#009af9\" fill-rule=\"evenodd\" fill-opacity=\"1\"/>\n",
       "<polyline clip-path=\"url(#clip9302)\" style=\"stroke:#000000; stroke-width:4; stroke-opacity:1; fill:none\" points=\"\n",
       "  617.668,1386.61 617.668,1386.61 626.61,1386.61 617.668,1386.61 \n",
       "  \"/>\n",
       "<path clip-path=\"url(#clip9302)\" d=\"\n",
       "M626.61 1386.61 L626.61 1386.61 L635.552 1386.61 L635.552 1386.61 L626.61 1386.61 L626.61 1386.61  Z\n",
       "  \" fill=\"#009af9\" fill-rule=\"evenodd\" fill-opacity=\"1\"/>\n",
       "<polyline clip-path=\"url(#clip9302)\" style=\"stroke:#000000; stroke-width:4; stroke-opacity:1; fill:none\" points=\"\n",
       "  626.61,1386.61 626.61,1386.61 635.552,1386.61 626.61,1386.61 \n",
       "  \"/>\n",
       "<path clip-path=\"url(#clip9302)\" d=\"\n",
       "M635.552 1386.61 L635.552 1386.61 L644.494 1386.61 L644.494 1386.61 L635.552 1386.61 L635.552 1386.61  Z\n",
       "  \" fill=\"#009af9\" fill-rule=\"evenodd\" fill-opacity=\"1\"/>\n",
       "<polyline clip-path=\"url(#clip9302)\" style=\"stroke:#000000; stroke-width:4; stroke-opacity:1; fill:none\" points=\"\n",
       "  635.552,1386.61 635.552,1386.61 644.494,1386.61 635.552,1386.61 \n",
       "  \"/>\n",
       "<path clip-path=\"url(#clip9302)\" d=\"\n",
       "M644.494 1386.61 L644.494 1386.61 L653.436 1386.61 L653.436 1386.61 L644.494 1386.61 L644.494 1386.61  Z\n",
       "  \" fill=\"#009af9\" fill-rule=\"evenodd\" fill-opacity=\"1\"/>\n",
       "<polyline clip-path=\"url(#clip9302)\" style=\"stroke:#000000; stroke-width:4; stroke-opacity:1; fill:none\" points=\"\n",
       "  644.494,1386.61 644.494,1386.61 653.436,1386.61 644.494,1386.61 \n",
       "  \"/>\n",
       "<path clip-path=\"url(#clip9302)\" d=\"\n",
       "M653.436 1386.61 L653.436 1386.61 L662.378 1386.61 L662.378 1386.61 L653.436 1386.61 L653.436 1386.61  Z\n",
       "  \" fill=\"#009af9\" fill-rule=\"evenodd\" fill-opacity=\"1\"/>\n",
       "<polyline clip-path=\"url(#clip9302)\" style=\"stroke:#000000; stroke-width:4; stroke-opacity:1; fill:none\" points=\"\n",
       "  653.436,1386.61 653.436,1386.61 662.378,1386.61 653.436,1386.61 \n",
       "  \"/>\n",
       "<path clip-path=\"url(#clip9302)\" d=\"\n",
       "M662.378 1386.61 L662.378 1386.61 L671.321 1386.61 L671.321 1386.61 L662.378 1386.61 L662.378 1386.61  Z\n",
       "  \" fill=\"#009af9\" fill-rule=\"evenodd\" fill-opacity=\"1\"/>\n",
       "<polyline clip-path=\"url(#clip9302)\" style=\"stroke:#000000; stroke-width:4; stroke-opacity:1; fill:none\" points=\"\n",
       "  662.378,1386.61 662.378,1386.61 671.321,1386.61 662.378,1386.61 \n",
       "  \"/>\n",
       "<path clip-path=\"url(#clip9302)\" d=\"\n",
       "M671.321 1386.61 L671.321 1386.61 L680.263 1386.61 L680.263 1386.61 L671.321 1386.61 L671.321 1386.61  Z\n",
       "  \" fill=\"#009af9\" fill-rule=\"evenodd\" fill-opacity=\"1\"/>\n",
       "<polyline clip-path=\"url(#clip9302)\" style=\"stroke:#000000; stroke-width:4; stroke-opacity:1; fill:none\" points=\"\n",
       "  671.321,1386.61 671.321,1386.61 680.263,1386.61 671.321,1386.61 \n",
       "  \"/>\n",
       "<path clip-path=\"url(#clip9302)\" d=\"\n",
       "M680.263 1386.61 L680.263 1386.61 L689.205 1386.61 L689.205 1386.61 L680.263 1386.61 L680.263 1386.61  Z\n",
       "  \" fill=\"#009af9\" fill-rule=\"evenodd\" fill-opacity=\"1\"/>\n",
       "<polyline clip-path=\"url(#clip9302)\" style=\"stroke:#000000; stroke-width:4; stroke-opacity:1; fill:none\" points=\"\n",
       "  680.263,1386.61 680.263,1386.61 689.205,1386.61 680.263,1386.61 \n",
       "  \"/>\n",
       "<path clip-path=\"url(#clip9302)\" d=\"\n",
       "M689.205 1386.61 L689.205 1386.61 L698.147 1386.61 L698.147 1386.61 L689.205 1386.61 L689.205 1386.61  Z\n",
       "  \" fill=\"#009af9\" fill-rule=\"evenodd\" fill-opacity=\"1\"/>\n",
       "<polyline clip-path=\"url(#clip9302)\" style=\"stroke:#000000; stroke-width:4; stroke-opacity:1; fill:none\" points=\"\n",
       "  689.205,1386.61 689.205,1386.61 698.147,1386.61 689.205,1386.61 \n",
       "  \"/>\n",
       "<path clip-path=\"url(#clip9302)\" d=\"\n",
       "M698.147 1386.61 L698.147 1386.61 L707.089 1386.61 L707.089 1386.61 L698.147 1386.61 L698.147 1386.61  Z\n",
       "  \" fill=\"#009af9\" fill-rule=\"evenodd\" fill-opacity=\"1\"/>\n",
       "<polyline clip-path=\"url(#clip9302)\" style=\"stroke:#000000; stroke-width:4; stroke-opacity:1; fill:none\" points=\"\n",
       "  698.147,1386.61 698.147,1386.61 707.089,1386.61 698.147,1386.61 \n",
       "  \"/>\n",
       "<path clip-path=\"url(#clip9302)\" d=\"\n",
       "M707.089 1386.61 L707.089 1386.61 L716.032 1386.61 L716.032 1386.61 L707.089 1386.61 L707.089 1386.61  Z\n",
       "  \" fill=\"#009af9\" fill-rule=\"evenodd\" fill-opacity=\"1\"/>\n",
       "<polyline clip-path=\"url(#clip9302)\" style=\"stroke:#000000; stroke-width:4; stroke-opacity:1; fill:none\" points=\"\n",
       "  707.089,1386.61 707.089,1386.61 716.032,1386.61 707.089,1386.61 \n",
       "  \"/>\n",
       "<path clip-path=\"url(#clip9302)\" d=\"\n",
       "M716.032 1386.61 L716.032 1386.61 L724.974 1386.61 L724.974 1386.61 L716.032 1386.61 L716.032 1386.61  Z\n",
       "  \" fill=\"#009af9\" fill-rule=\"evenodd\" fill-opacity=\"1\"/>\n",
       "<polyline clip-path=\"url(#clip9302)\" style=\"stroke:#000000; stroke-width:4; stroke-opacity:1; fill:none\" points=\"\n",
       "  716.032,1386.61 716.032,1386.61 724.974,1386.61 716.032,1386.61 \n",
       "  \"/>\n",
       "<path clip-path=\"url(#clip9302)\" d=\"\n",
       "M724.974 1386.61 L724.974 1386.61 L733.916 1386.61 L733.916 1386.61 L724.974 1386.61 L724.974 1386.61  Z\n",
       "  \" fill=\"#009af9\" fill-rule=\"evenodd\" fill-opacity=\"1\"/>\n",
       "<polyline clip-path=\"url(#clip9302)\" style=\"stroke:#000000; stroke-width:4; stroke-opacity:1; fill:none\" points=\"\n",
       "  724.974,1386.61 724.974,1386.61 733.916,1386.61 724.974,1386.61 \n",
       "  \"/>\n",
       "<path clip-path=\"url(#clip9302)\" d=\"\n",
       "M733.916 1386.61 L733.916 1386.61 L742.858 1386.61 L742.858 1386.61 L733.916 1386.61 L733.916 1386.61  Z\n",
       "  \" fill=\"#009af9\" fill-rule=\"evenodd\" fill-opacity=\"1\"/>\n",
       "<polyline clip-path=\"url(#clip9302)\" style=\"stroke:#000000; stroke-width:4; stroke-opacity:1; fill:none\" points=\"\n",
       "  733.916,1386.61 733.916,1386.61 742.858,1386.61 733.916,1386.61 \n",
       "  \"/>\n",
       "<path clip-path=\"url(#clip9302)\" d=\"\n",
       "M742.858 1386.61 L742.858 1386.61 L751.8 1386.61 L751.8 1386.61 L742.858 1386.61 L742.858 1386.61  Z\n",
       "  \" fill=\"#009af9\" fill-rule=\"evenodd\" fill-opacity=\"1\"/>\n",
       "<polyline clip-path=\"url(#clip9302)\" style=\"stroke:#000000; stroke-width:4; stroke-opacity:1; fill:none\" points=\"\n",
       "  742.858,1386.61 742.858,1386.61 751.8,1386.61 742.858,1386.61 \n",
       "  \"/>\n",
       "<path clip-path=\"url(#clip9302)\" d=\"\n",
       "M751.8 1386.61 L751.8 1386.61 L760.742 1386.61 L760.742 1386.61 L751.8 1386.61 L751.8 1386.61  Z\n",
       "  \" fill=\"#009af9\" fill-rule=\"evenodd\" fill-opacity=\"1\"/>\n",
       "<polyline clip-path=\"url(#clip9302)\" style=\"stroke:#000000; stroke-width:4; stroke-opacity:1; fill:none\" points=\"\n",
       "  751.8,1386.61 751.8,1386.61 760.742,1386.61 751.8,1386.61 \n",
       "  \"/>\n",
       "<path clip-path=\"url(#clip9302)\" d=\"\n",
       "M760.742 1386.61 L760.742 1386.61 L769.685 1386.61 L769.685 1386.61 L760.742 1386.61 L760.742 1386.61  Z\n",
       "  \" fill=\"#009af9\" fill-rule=\"evenodd\" fill-opacity=\"1\"/>\n",
       "<polyline clip-path=\"url(#clip9302)\" style=\"stroke:#000000; stroke-width:4; stroke-opacity:1; fill:none\" points=\"\n",
       "  760.742,1386.61 760.742,1386.61 769.685,1386.61 760.742,1386.61 \n",
       "  \"/>\n",
       "<path clip-path=\"url(#clip9302)\" d=\"\n",
       "M769.685 1386.61 L769.685 1386.61 L778.627 1386.61 L778.627 1386.61 L769.685 1386.61 L769.685 1386.61  Z\n",
       "  \" fill=\"#009af9\" fill-rule=\"evenodd\" fill-opacity=\"1\"/>\n",
       "<polyline clip-path=\"url(#clip9302)\" style=\"stroke:#000000; stroke-width:4; stroke-opacity:1; fill:none\" points=\"\n",
       "  769.685,1386.61 769.685,1386.61 778.627,1386.61 769.685,1386.61 \n",
       "  \"/>\n",
       "<path clip-path=\"url(#clip9302)\" d=\"\n",
       "M778.627 1386.61 L778.627 1386.61 L787.569 1386.61 L787.569 1386.61 L778.627 1386.61 L778.627 1386.61  Z\n",
       "  \" fill=\"#009af9\" fill-rule=\"evenodd\" fill-opacity=\"1\"/>\n",
       "<polyline clip-path=\"url(#clip9302)\" style=\"stroke:#000000; stroke-width:4; stroke-opacity:1; fill:none\" points=\"\n",
       "  778.627,1386.61 778.627,1386.61 787.569,1386.61 778.627,1386.61 \n",
       "  \"/>\n",
       "<path clip-path=\"url(#clip9302)\" d=\"\n",
       "M787.569 1386.61 L787.569 1386.61 L796.511 1386.61 L796.511 1386.61 L787.569 1386.61 L787.569 1386.61  Z\n",
       "  \" fill=\"#009af9\" fill-rule=\"evenodd\" fill-opacity=\"1\"/>\n",
       "<polyline clip-path=\"url(#clip9302)\" style=\"stroke:#000000; stroke-width:4; stroke-opacity:1; fill:none\" points=\"\n",
       "  787.569,1386.61 787.569,1386.61 796.511,1386.61 787.569,1386.61 \n",
       "  \"/>\n",
       "<path clip-path=\"url(#clip9302)\" d=\"\n",
       "M796.511 1386.61 L796.511 1386.61 L805.453 1386.61 L805.453 1386.61 L796.511 1386.61 L796.511 1386.61  Z\n",
       "  \" fill=\"#009af9\" fill-rule=\"evenodd\" fill-opacity=\"1\"/>\n",
       "<polyline clip-path=\"url(#clip9302)\" style=\"stroke:#000000; stroke-width:4; stroke-opacity:1; fill:none\" points=\"\n",
       "  796.511,1386.61 796.511,1386.61 805.453,1386.61 796.511,1386.61 \n",
       "  \"/>\n",
       "<path clip-path=\"url(#clip9302)\" d=\"\n",
       "M805.453 1386.61 L805.453 1386.61 L814.395 1386.61 L814.395 1386.61 L805.453 1386.61 L805.453 1386.61  Z\n",
       "  \" fill=\"#009af9\" fill-rule=\"evenodd\" fill-opacity=\"1\"/>\n",
       "<polyline clip-path=\"url(#clip9302)\" style=\"stroke:#000000; stroke-width:4; stroke-opacity:1; fill:none\" points=\"\n",
       "  805.453,1386.61 805.453,1386.61 814.395,1386.61 805.453,1386.61 \n",
       "  \"/>\n",
       "<path clip-path=\"url(#clip9302)\" d=\"\n",
       "M814.395 1386.61 L814.395 1386.61 L823.338 1386.61 L823.338 1386.61 L814.395 1386.61 L814.395 1386.61  Z\n",
       "  \" fill=\"#009af9\" fill-rule=\"evenodd\" fill-opacity=\"1\"/>\n",
       "<polyline clip-path=\"url(#clip9302)\" style=\"stroke:#000000; stroke-width:4; stroke-opacity:1; fill:none\" points=\"\n",
       "  814.395,1386.61 814.395,1386.61 823.338,1386.61 814.395,1386.61 \n",
       "  \"/>\n",
       "<path clip-path=\"url(#clip9302)\" d=\"\n",
       "M823.338 1386.61 L823.338 1386.61 L832.28 1386.61 L832.28 1386.61 L823.338 1386.61 L823.338 1386.61  Z\n",
       "  \" fill=\"#009af9\" fill-rule=\"evenodd\" fill-opacity=\"1\"/>\n",
       "<polyline clip-path=\"url(#clip9302)\" style=\"stroke:#000000; stroke-width:4; stroke-opacity:1; fill:none\" points=\"\n",
       "  823.338,1386.61 823.338,1386.61 832.28,1386.61 823.338,1386.61 \n",
       "  \"/>\n",
       "<path clip-path=\"url(#clip9302)\" d=\"\n",
       "M832.28 1386.61 L832.28 1386.61 L841.222 1386.61 L841.222 1386.61 L832.28 1386.61 L832.28 1386.61  Z\n",
       "  \" fill=\"#009af9\" fill-rule=\"evenodd\" fill-opacity=\"1\"/>\n",
       "<polyline clip-path=\"url(#clip9302)\" style=\"stroke:#000000; stroke-width:4; stroke-opacity:1; fill:none\" points=\"\n",
       "  832.28,1386.61 832.28,1386.61 841.222,1386.61 832.28,1386.61 \n",
       "  \"/>\n",
       "<path clip-path=\"url(#clip9302)\" d=\"\n",
       "M841.222 1386.61 L841.222 1386.61 L850.164 1386.61 L850.164 1386.61 L841.222 1386.61 L841.222 1386.61  Z\n",
       "  \" fill=\"#009af9\" fill-rule=\"evenodd\" fill-opacity=\"1\"/>\n",
       "<polyline clip-path=\"url(#clip9302)\" style=\"stroke:#000000; stroke-width:4; stroke-opacity:1; fill:none\" points=\"\n",
       "  841.222,1386.61 841.222,1386.61 850.164,1386.61 841.222,1386.61 \n",
       "  \"/>\n",
       "<path clip-path=\"url(#clip9302)\" d=\"\n",
       "M850.164 1386.61 L850.164 1386.61 L859.106 1386.61 L859.106 1386.61 L850.164 1386.61 L850.164 1386.61  Z\n",
       "  \" fill=\"#009af9\" fill-rule=\"evenodd\" fill-opacity=\"1\"/>\n",
       "<polyline clip-path=\"url(#clip9302)\" style=\"stroke:#000000; stroke-width:4; stroke-opacity:1; fill:none\" points=\"\n",
       "  850.164,1386.61 850.164,1386.61 859.106,1386.61 850.164,1386.61 \n",
       "  \"/>\n",
       "<path clip-path=\"url(#clip9302)\" d=\"\n",
       "M859.106 1386.61 L859.106 1386.61 L868.049 1386.61 L868.049 1386.61 L859.106 1386.61 L859.106 1386.61  Z\n",
       "  \" fill=\"#009af9\" fill-rule=\"evenodd\" fill-opacity=\"1\"/>\n",
       "<polyline clip-path=\"url(#clip9302)\" style=\"stroke:#000000; stroke-width:4; stroke-opacity:1; fill:none\" points=\"\n",
       "  859.106,1386.61 859.106,1386.61 868.049,1386.61 859.106,1386.61 \n",
       "  \"/>\n",
       "<path clip-path=\"url(#clip9302)\" d=\"\n",
       "M868.049 1386.61 L868.049 1386.61 L876.991 1386.61 L876.991 1386.61 L868.049 1386.61 L868.049 1386.61  Z\n",
       "  \" fill=\"#009af9\" fill-rule=\"evenodd\" fill-opacity=\"1\"/>\n",
       "<polyline clip-path=\"url(#clip9302)\" style=\"stroke:#000000; stroke-width:4; stroke-opacity:1; fill:none\" points=\"\n",
       "  868.049,1386.61 868.049,1386.61 876.991,1386.61 868.049,1386.61 \n",
       "  \"/>\n",
       "<path clip-path=\"url(#clip9302)\" d=\"\n",
       "M876.991 1386.61 L876.991 1386.61 L885.933 1386.61 L885.933 1386.61 L876.991 1386.61 L876.991 1386.61  Z\n",
       "  \" fill=\"#009af9\" fill-rule=\"evenodd\" fill-opacity=\"1\"/>\n",
       "<polyline clip-path=\"url(#clip9302)\" style=\"stroke:#000000; stroke-width:4; stroke-opacity:1; fill:none\" points=\"\n",
       "  876.991,1386.61 876.991,1386.61 885.933,1386.61 876.991,1386.61 \n",
       "  \"/>\n",
       "<path clip-path=\"url(#clip9302)\" d=\"\n",
       "M885.933 1386.61 L885.933 1386.61 L894.875 1386.61 L894.875 1386.61 L885.933 1386.61 L885.933 1386.61  Z\n",
       "  \" fill=\"#009af9\" fill-rule=\"evenodd\" fill-opacity=\"1\"/>\n",
       "<polyline clip-path=\"url(#clip9302)\" style=\"stroke:#000000; stroke-width:4; stroke-opacity:1; fill:none\" points=\"\n",
       "  885.933,1386.61 885.933,1386.61 894.875,1386.61 885.933,1386.61 \n",
       "  \"/>\n",
       "<path clip-path=\"url(#clip9302)\" d=\"\n",
       "M894.875 1386.61 L894.875 1386.61 L903.817 1386.61 L903.817 1386.61 L894.875 1386.61 L894.875 1386.61  Z\n",
       "  \" fill=\"#009af9\" fill-rule=\"evenodd\" fill-opacity=\"1\"/>\n",
       "<polyline clip-path=\"url(#clip9302)\" style=\"stroke:#000000; stroke-width:4; stroke-opacity:1; fill:none\" points=\"\n",
       "  894.875,1386.61 894.875,1386.61 903.817,1386.61 894.875,1386.61 \n",
       "  \"/>\n",
       "<path clip-path=\"url(#clip9302)\" d=\"\n",
       "M903.817 1386.61 L903.817 1386.61 L912.759 1386.61 L912.759 1386.61 L903.817 1386.61 L903.817 1386.61  Z\n",
       "  \" fill=\"#009af9\" fill-rule=\"evenodd\" fill-opacity=\"1\"/>\n",
       "<polyline clip-path=\"url(#clip9302)\" style=\"stroke:#000000; stroke-width:4; stroke-opacity:1; fill:none\" points=\"\n",
       "  903.817,1386.61 903.817,1386.61 912.759,1386.61 903.817,1386.61 \n",
       "  \"/>\n",
       "<path clip-path=\"url(#clip9302)\" d=\"\n",
       "M912.759 1386.61 L912.759 1386.61 L921.702 1386.61 L921.702 1386.61 L912.759 1386.61 L912.759 1386.61  Z\n",
       "  \" fill=\"#009af9\" fill-rule=\"evenodd\" fill-opacity=\"1\"/>\n",
       "<polyline clip-path=\"url(#clip9302)\" style=\"stroke:#000000; stroke-width:4; stroke-opacity:1; fill:none\" points=\"\n",
       "  912.759,1386.61 912.759,1386.61 921.702,1386.61 912.759,1386.61 \n",
       "  \"/>\n",
       "<path clip-path=\"url(#clip9302)\" d=\"\n",
       "M921.702 1386.61 L921.702 1386.61 L930.644 1386.61 L930.644 1386.61 L921.702 1386.61 L921.702 1386.61  Z\n",
       "  \" fill=\"#009af9\" fill-rule=\"evenodd\" fill-opacity=\"1\"/>\n",
       "<polyline clip-path=\"url(#clip9302)\" style=\"stroke:#000000; stroke-width:4; stroke-opacity:1; fill:none\" points=\"\n",
       "  921.702,1386.61 921.702,1386.61 930.644,1386.61 921.702,1386.61 \n",
       "  \"/>\n",
       "<path clip-path=\"url(#clip9302)\" d=\"\n",
       "M930.644 1386.61 L930.644 1386.61 L939.586 1386.61 L939.586 1386.61 L930.644 1386.61 L930.644 1386.61  Z\n",
       "  \" fill=\"#009af9\" fill-rule=\"evenodd\" fill-opacity=\"1\"/>\n",
       "<polyline clip-path=\"url(#clip9302)\" style=\"stroke:#000000; stroke-width:4; stroke-opacity:1; fill:none\" points=\"\n",
       "  930.644,1386.61 930.644,1386.61 939.586,1386.61 930.644,1386.61 \n",
       "  \"/>\n",
       "<path clip-path=\"url(#clip9302)\" d=\"\n",
       "M939.586 1386.61 L939.586 1386.61 L948.528 1386.61 L948.528 1386.61 L939.586 1386.61 L939.586 1386.61  Z\n",
       "  \" fill=\"#009af9\" fill-rule=\"evenodd\" fill-opacity=\"1\"/>\n",
       "<polyline clip-path=\"url(#clip9302)\" style=\"stroke:#000000; stroke-width:4; stroke-opacity:1; fill:none\" points=\"\n",
       "  939.586,1386.61 939.586,1386.61 948.528,1386.61 939.586,1386.61 \n",
       "  \"/>\n",
       "<path clip-path=\"url(#clip9302)\" d=\"\n",
       "M948.528 1386.61 L948.528 1386.61 L957.47 1386.61 L957.47 1386.61 L948.528 1386.61 L948.528 1386.61  Z\n",
       "  \" fill=\"#009af9\" fill-rule=\"evenodd\" fill-opacity=\"1\"/>\n",
       "<polyline clip-path=\"url(#clip9302)\" style=\"stroke:#000000; stroke-width:4; stroke-opacity:1; fill:none\" points=\"\n",
       "  948.528,1386.61 948.528,1386.61 957.47,1386.61 948.528,1386.61 \n",
       "  \"/>\n",
       "<path clip-path=\"url(#clip9302)\" d=\"\n",
       "M957.47 1386.61 L957.47 1386.61 L966.412 1386.61 L966.412 1386.61 L957.47 1386.61 L957.47 1386.61  Z\n",
       "  \" fill=\"#009af9\" fill-rule=\"evenodd\" fill-opacity=\"1\"/>\n",
       "<polyline clip-path=\"url(#clip9302)\" style=\"stroke:#000000; stroke-width:4; stroke-opacity:1; fill:none\" points=\"\n",
       "  957.47,1386.61 957.47,1386.61 966.412,1386.61 957.47,1386.61 \n",
       "  \"/>\n",
       "<path clip-path=\"url(#clip9302)\" d=\"\n",
       "M966.412 1386.61 L966.412 1386.61 L975.355 1386.61 L975.355 1386.61 L966.412 1386.61 L966.412 1386.61  Z\n",
       "  \" fill=\"#009af9\" fill-rule=\"evenodd\" fill-opacity=\"1\"/>\n",
       "<polyline clip-path=\"url(#clip9302)\" style=\"stroke:#000000; stroke-width:4; stroke-opacity:1; fill:none\" points=\"\n",
       "  966.412,1386.61 966.412,1386.61 975.355,1386.61 966.412,1386.61 \n",
       "  \"/>\n",
       "<path clip-path=\"url(#clip9302)\" d=\"\n",
       "M975.355 1386.61 L975.355 1386.61 L984.297 1386.61 L984.297 1386.61 L975.355 1386.61 L975.355 1386.61  Z\n",
       "  \" fill=\"#009af9\" fill-rule=\"evenodd\" fill-opacity=\"1\"/>\n",
       "<polyline clip-path=\"url(#clip9302)\" style=\"stroke:#000000; stroke-width:4; stroke-opacity:1; fill:none\" points=\"\n",
       "  975.355,1386.61 975.355,1386.61 984.297,1386.61 975.355,1386.61 \n",
       "  \"/>\n",
       "<path clip-path=\"url(#clip9302)\" d=\"\n",
       "M984.297 1386.61 L984.297 1386.61 L993.239 1386.61 L993.239 1386.61 L984.297 1386.61 L984.297 1386.61  Z\n",
       "  \" fill=\"#009af9\" fill-rule=\"evenodd\" fill-opacity=\"1\"/>\n",
       "<polyline clip-path=\"url(#clip9302)\" style=\"stroke:#000000; stroke-width:4; stroke-opacity:1; fill:none\" points=\"\n",
       "  984.297,1386.61 984.297,1386.61 993.239,1386.61 984.297,1386.61 \n",
       "  \"/>\n",
       "<path clip-path=\"url(#clip9302)\" d=\"\n",
       "M993.239 1386.61 L993.239 1386.61 L1002.18 1386.61 L1002.18 1386.61 L993.239 1386.61 L993.239 1386.61  Z\n",
       "  \" fill=\"#009af9\" fill-rule=\"evenodd\" fill-opacity=\"1\"/>\n",
       "<polyline clip-path=\"url(#clip9302)\" style=\"stroke:#000000; stroke-width:4; stroke-opacity:1; fill:none\" points=\"\n",
       "  993.239,1386.61 993.239,1386.61 1002.18,1386.61 993.239,1386.61 \n",
       "  \"/>\n",
       "<path clip-path=\"url(#clip9302)\" d=\"\n",
       "M1002.18 1386.61 L1002.18 1386.61 L1011.12 1386.61 L1011.12 1386.61 L1002.18 1386.61 L1002.18 1386.61  Z\n",
       "  \" fill=\"#009af9\" fill-rule=\"evenodd\" fill-opacity=\"1\"/>\n",
       "<polyline clip-path=\"url(#clip9302)\" style=\"stroke:#000000; stroke-width:4; stroke-opacity:1; fill:none\" points=\"\n",
       "  1002.18,1386.61 1002.18,1386.61 1011.12,1386.61 1002.18,1386.61 \n",
       "  \"/>\n",
       "<path clip-path=\"url(#clip9302)\" d=\"\n",
       "M1011.12 1386.61 L1011.12 1386.61 L1020.07 1386.61 L1020.07 1386.61 L1011.12 1386.61 L1011.12 1386.61  Z\n",
       "  \" fill=\"#009af9\" fill-rule=\"evenodd\" fill-opacity=\"1\"/>\n",
       "<polyline clip-path=\"url(#clip9302)\" style=\"stroke:#000000; stroke-width:4; stroke-opacity:1; fill:none\" points=\"\n",
       "  1011.12,1386.61 1011.12,1386.61 1020.07,1386.61 1011.12,1386.61 \n",
       "  \"/>\n",
       "<path clip-path=\"url(#clip9302)\" d=\"\n",
       "M1020.07 1386.61 L1020.07 1386.61 L1029.01 1386.61 L1029.01 1386.61 L1020.07 1386.61 L1020.07 1386.61  Z\n",
       "  \" fill=\"#009af9\" fill-rule=\"evenodd\" fill-opacity=\"1\"/>\n",
       "<polyline clip-path=\"url(#clip9302)\" style=\"stroke:#000000; stroke-width:4; stroke-opacity:1; fill:none\" points=\"\n",
       "  1020.07,1386.61 1020.07,1386.61 1029.01,1386.61 1020.07,1386.61 \n",
       "  \"/>\n",
       "<path clip-path=\"url(#clip9302)\" d=\"\n",
       "M1029.01 1386.61 L1029.01 1386.61 L1037.95 1386.61 L1037.95 1386.61 L1029.01 1386.61 L1029.01 1386.61  Z\n",
       "  \" fill=\"#009af9\" fill-rule=\"evenodd\" fill-opacity=\"1\"/>\n",
       "<polyline clip-path=\"url(#clip9302)\" style=\"stroke:#000000; stroke-width:4; stroke-opacity:1; fill:none\" points=\"\n",
       "  1029.01,1386.61 1029.01,1386.61 1037.95,1386.61 1029.01,1386.61 \n",
       "  \"/>\n",
       "<path clip-path=\"url(#clip9302)\" d=\"\n",
       "M1037.95 1386.61 L1037.95 1386.61 L1046.89 1386.61 L1046.89 1386.61 L1037.95 1386.61 L1037.95 1386.61  Z\n",
       "  \" fill=\"#009af9\" fill-rule=\"evenodd\" fill-opacity=\"1\"/>\n",
       "<polyline clip-path=\"url(#clip9302)\" style=\"stroke:#000000; stroke-width:4; stroke-opacity:1; fill:none\" points=\"\n",
       "  1037.95,1386.61 1037.95,1386.61 1046.89,1386.61 1037.95,1386.61 \n",
       "  \"/>\n",
       "<path clip-path=\"url(#clip9302)\" d=\"\n",
       "M1046.89 1386.61 L1046.89 1386.61 L1055.83 1386.61 L1055.83 1386.61 L1046.89 1386.61 L1046.89 1386.61  Z\n",
       "  \" fill=\"#009af9\" fill-rule=\"evenodd\" fill-opacity=\"1\"/>\n",
       "<polyline clip-path=\"url(#clip9302)\" style=\"stroke:#000000; stroke-width:4; stroke-opacity:1; fill:none\" points=\"\n",
       "  1046.89,1386.61 1046.89,1386.61 1055.83,1386.61 1046.89,1386.61 \n",
       "  \"/>\n",
       "<path clip-path=\"url(#clip9302)\" d=\"\n",
       "M1055.83 1386.61 L1055.83 1386.61 L1064.78 1386.61 L1064.78 1386.61 L1055.83 1386.61 L1055.83 1386.61  Z\n",
       "  \" fill=\"#009af9\" fill-rule=\"evenodd\" fill-opacity=\"1\"/>\n",
       "<polyline clip-path=\"url(#clip9302)\" style=\"stroke:#000000; stroke-width:4; stroke-opacity:1; fill:none\" points=\"\n",
       "  1055.83,1386.61 1055.83,1386.61 1064.78,1386.61 1055.83,1386.61 \n",
       "  \"/>\n",
       "<path clip-path=\"url(#clip9302)\" d=\"\n",
       "M1064.78 1386.61 L1064.78 1386.61 L1073.72 1386.61 L1073.72 1386.61 L1064.78 1386.61 L1064.78 1386.61  Z\n",
       "  \" fill=\"#009af9\" fill-rule=\"evenodd\" fill-opacity=\"1\"/>\n",
       "<polyline clip-path=\"url(#clip9302)\" style=\"stroke:#000000; stroke-width:4; stroke-opacity:1; fill:none\" points=\"\n",
       "  1064.78,1386.61 1064.78,1386.61 1073.72,1386.61 1064.78,1386.61 \n",
       "  \"/>\n",
       "<path clip-path=\"url(#clip9302)\" d=\"\n",
       "M1073.72 1386.61 L1073.72 1386.61 L1082.66 1386.61 L1082.66 1386.61 L1073.72 1386.61 L1073.72 1386.61  Z\n",
       "  \" fill=\"#009af9\" fill-rule=\"evenodd\" fill-opacity=\"1\"/>\n",
       "<polyline clip-path=\"url(#clip9302)\" style=\"stroke:#000000; stroke-width:4; stroke-opacity:1; fill:none\" points=\"\n",
       "  1073.72,1386.61 1073.72,1386.61 1082.66,1386.61 1073.72,1386.61 \n",
       "  \"/>\n",
       "<path clip-path=\"url(#clip9302)\" d=\"\n",
       "M1082.66 1386.61 L1082.66 1386.61 L1091.6 1386.61 L1091.6 1386.61 L1082.66 1386.61 L1082.66 1386.61  Z\n",
       "  \" fill=\"#009af9\" fill-rule=\"evenodd\" fill-opacity=\"1\"/>\n",
       "<polyline clip-path=\"url(#clip9302)\" style=\"stroke:#000000; stroke-width:4; stroke-opacity:1; fill:none\" points=\"\n",
       "  1082.66,1386.61 1082.66,1386.61 1091.6,1386.61 1082.66,1386.61 \n",
       "  \"/>\n",
       "<path clip-path=\"url(#clip9302)\" d=\"\n",
       "M1091.6 1386.61 L1091.6 1386.61 L1100.55 1386.61 L1100.55 1386.61 L1091.6 1386.61 L1091.6 1386.61  Z\n",
       "  \" fill=\"#009af9\" fill-rule=\"evenodd\" fill-opacity=\"1\"/>\n",
       "<polyline clip-path=\"url(#clip9302)\" style=\"stroke:#000000; stroke-width:4; stroke-opacity:1; fill:none\" points=\"\n",
       "  1091.6,1386.61 1091.6,1386.61 1100.55,1386.61 1091.6,1386.61 \n",
       "  \"/>\n",
       "<path clip-path=\"url(#clip9302)\" d=\"\n",
       "M1100.55 1386.61 L1100.55 1386.61 L1109.49 1386.61 L1109.49 1386.61 L1100.55 1386.61 L1100.55 1386.61  Z\n",
       "  \" fill=\"#009af9\" fill-rule=\"evenodd\" fill-opacity=\"1\"/>\n",
       "<polyline clip-path=\"url(#clip9302)\" style=\"stroke:#000000; stroke-width:4; stroke-opacity:1; fill:none\" points=\"\n",
       "  1100.55,1386.61 1100.55,1386.61 1109.49,1386.61 1100.55,1386.61 \n",
       "  \"/>\n",
       "<path clip-path=\"url(#clip9302)\" d=\"\n",
       "M1109.49 1386.61 L1109.49 1386.61 L1118.43 1386.61 L1118.43 1386.61 L1109.49 1386.61 L1109.49 1386.61  Z\n",
       "  \" fill=\"#009af9\" fill-rule=\"evenodd\" fill-opacity=\"1\"/>\n",
       "<polyline clip-path=\"url(#clip9302)\" style=\"stroke:#000000; stroke-width:4; stroke-opacity:1; fill:none\" points=\"\n",
       "  1109.49,1386.61 1109.49,1386.61 1118.43,1386.61 1109.49,1386.61 \n",
       "  \"/>\n",
       "<path clip-path=\"url(#clip9302)\" d=\"\n",
       "M1118.43 1386.61 L1118.43 1386.61 L1127.37 1386.61 L1127.37 1386.61 L1118.43 1386.61 L1118.43 1386.61  Z\n",
       "  \" fill=\"#009af9\" fill-rule=\"evenodd\" fill-opacity=\"1\"/>\n",
       "<polyline clip-path=\"url(#clip9302)\" style=\"stroke:#000000; stroke-width:4; stroke-opacity:1; fill:none\" points=\"\n",
       "  1118.43,1386.61 1118.43,1386.61 1127.37,1386.61 1118.43,1386.61 \n",
       "  \"/>\n",
       "<path clip-path=\"url(#clip9302)\" d=\"\n",
       "M1127.37 1386.61 L1127.37 1386.61 L1136.31 1386.61 L1136.31 1386.61 L1127.37 1386.61 L1127.37 1386.61  Z\n",
       "  \" fill=\"#009af9\" fill-rule=\"evenodd\" fill-opacity=\"1\"/>\n",
       "<polyline clip-path=\"url(#clip9302)\" style=\"stroke:#000000; stroke-width:4; stroke-opacity:1; fill:none\" points=\"\n",
       "  1127.37,1386.61 1127.37,1386.61 1136.31,1386.61 1127.37,1386.61 \n",
       "  \"/>\n",
       "<path clip-path=\"url(#clip9302)\" d=\"\n",
       "M1136.31 1386.61 L1136.31 1386.61 L1145.26 1386.61 L1145.26 1386.61 L1136.31 1386.61 L1136.31 1386.61  Z\n",
       "  \" fill=\"#009af9\" fill-rule=\"evenodd\" fill-opacity=\"1\"/>\n",
       "<polyline clip-path=\"url(#clip9302)\" style=\"stroke:#000000; stroke-width:4; stroke-opacity:1; fill:none\" points=\"\n",
       "  1136.31,1386.61 1136.31,1386.61 1145.26,1386.61 1136.31,1386.61 \n",
       "  \"/>\n",
       "<path clip-path=\"url(#clip9302)\" d=\"\n",
       "M1145.26 1386.61 L1145.26 1386.61 L1154.2 1386.61 L1154.2 1386.61 L1145.26 1386.61 L1145.26 1386.61  Z\n",
       "  \" fill=\"#009af9\" fill-rule=\"evenodd\" fill-opacity=\"1\"/>\n",
       "<polyline clip-path=\"url(#clip9302)\" style=\"stroke:#000000; stroke-width:4; stroke-opacity:1; fill:none\" points=\"\n",
       "  1145.26,1386.61 1145.26,1386.61 1154.2,1386.61 1145.26,1386.61 \n",
       "  \"/>\n",
       "<path clip-path=\"url(#clip9302)\" d=\"\n",
       "M1154.2 1386.61 L1154.2 1386.61 L1163.14 1386.61 L1163.14 1386.61 L1154.2 1386.61 L1154.2 1386.61  Z\n",
       "  \" fill=\"#009af9\" fill-rule=\"evenodd\" fill-opacity=\"1\"/>\n",
       "<polyline clip-path=\"url(#clip9302)\" style=\"stroke:#000000; stroke-width:4; stroke-opacity:1; fill:none\" points=\"\n",
       "  1154.2,1386.61 1154.2,1386.61 1163.14,1386.61 1154.2,1386.61 \n",
       "  \"/>\n",
       "<path clip-path=\"url(#clip9302)\" d=\"\n",
       "M1163.14 1386.61 L1163.14 1386.61 L1172.08 1386.61 L1172.08 1386.61 L1163.14 1386.61 L1163.14 1386.61  Z\n",
       "  \" fill=\"#009af9\" fill-rule=\"evenodd\" fill-opacity=\"1\"/>\n",
       "<polyline clip-path=\"url(#clip9302)\" style=\"stroke:#000000; stroke-width:4; stroke-opacity:1; fill:none\" points=\"\n",
       "  1163.14,1386.61 1163.14,1386.61 1172.08,1386.61 1163.14,1386.61 \n",
       "  \"/>\n",
       "<path clip-path=\"url(#clip9302)\" d=\"\n",
       "M1172.08 1386.61 L1172.08 1386.61 L1181.02 1386.61 L1181.02 1386.61 L1172.08 1386.61 L1172.08 1386.61  Z\n",
       "  \" fill=\"#009af9\" fill-rule=\"evenodd\" fill-opacity=\"1\"/>\n",
       "<polyline clip-path=\"url(#clip9302)\" style=\"stroke:#000000; stroke-width:4; stroke-opacity:1; fill:none\" points=\"\n",
       "  1172.08,1386.61 1172.08,1386.61 1181.02,1386.61 1172.08,1386.61 \n",
       "  \"/>\n",
       "<path clip-path=\"url(#clip9302)\" d=\"\n",
       "M1181.02 1386.61 L1181.02 1386.61 L1189.97 1386.61 L1189.97 1386.61 L1181.02 1386.61 L1181.02 1386.61  Z\n",
       "  \" fill=\"#009af9\" fill-rule=\"evenodd\" fill-opacity=\"1\"/>\n",
       "<polyline clip-path=\"url(#clip9302)\" style=\"stroke:#000000; stroke-width:4; stroke-opacity:1; fill:none\" points=\"\n",
       "  1181.02,1386.61 1181.02,1386.61 1189.97,1386.61 1181.02,1386.61 \n",
       "  \"/>\n",
       "<path clip-path=\"url(#clip9302)\" d=\"\n",
       "M1189.97 1386.61 L1189.97 1386.61 L1198.91 1386.61 L1198.91 1386.61 L1189.97 1386.61 L1189.97 1386.61  Z\n",
       "  \" fill=\"#009af9\" fill-rule=\"evenodd\" fill-opacity=\"1\"/>\n",
       "<polyline clip-path=\"url(#clip9302)\" style=\"stroke:#000000; stroke-width:4; stroke-opacity:1; fill:none\" points=\"\n",
       "  1189.97,1386.61 1189.97,1386.61 1198.91,1386.61 1189.97,1386.61 \n",
       "  \"/>\n",
       "<path clip-path=\"url(#clip9302)\" d=\"\n",
       "M1198.91 1386.61 L1198.91 1386.61 L1207.85 1386.61 L1207.85 1386.61 L1198.91 1386.61 L1198.91 1386.61  Z\n",
       "  \" fill=\"#009af9\" fill-rule=\"evenodd\" fill-opacity=\"1\"/>\n",
       "<polyline clip-path=\"url(#clip9302)\" style=\"stroke:#000000; stroke-width:4; stroke-opacity:1; fill:none\" points=\"\n",
       "  1198.91,1386.61 1198.91,1386.61 1207.85,1386.61 1198.91,1386.61 \n",
       "  \"/>\n",
       "<path clip-path=\"url(#clip9302)\" d=\"\n",
       "M1207.85 1386.61 L1207.85 1386.61 L1216.79 1386.61 L1216.79 1386.61 L1207.85 1386.61 L1207.85 1386.61  Z\n",
       "  \" fill=\"#009af9\" fill-rule=\"evenodd\" fill-opacity=\"1\"/>\n",
       "<polyline clip-path=\"url(#clip9302)\" style=\"stroke:#000000; stroke-width:4; stroke-opacity:1; fill:none\" points=\"\n",
       "  1207.85,1386.61 1207.85,1386.61 1216.79,1386.61 1207.85,1386.61 \n",
       "  \"/>\n",
       "<path clip-path=\"url(#clip9302)\" d=\"\n",
       "M1216.79 1386.61 L1216.79 1386.61 L1225.74 1386.61 L1225.74 1386.61 L1216.79 1386.61 L1216.79 1386.61  Z\n",
       "  \" fill=\"#009af9\" fill-rule=\"evenodd\" fill-opacity=\"1\"/>\n",
       "<polyline clip-path=\"url(#clip9302)\" style=\"stroke:#000000; stroke-width:4; stroke-opacity:1; fill:none\" points=\"\n",
       "  1216.79,1386.61 1216.79,1386.61 1225.74,1386.61 1216.79,1386.61 \n",
       "  \"/>\n",
       "<path clip-path=\"url(#clip9302)\" d=\"\n",
       "M1225.74 1386.61 L1225.74 1386.61 L1234.68 1386.61 L1234.68 1386.61 L1225.74 1386.61 L1225.74 1386.61  Z\n",
       "  \" fill=\"#009af9\" fill-rule=\"evenodd\" fill-opacity=\"1\"/>\n",
       "<polyline clip-path=\"url(#clip9302)\" style=\"stroke:#000000; stroke-width:4; stroke-opacity:1; fill:none\" points=\"\n",
       "  1225.74,1386.61 1225.74,1386.61 1234.68,1386.61 1225.74,1386.61 \n",
       "  \"/>\n",
       "<path clip-path=\"url(#clip9302)\" d=\"\n",
       "M1234.68 1386.61 L1234.68 1386.61 L1243.62 1386.61 L1243.62 1386.61 L1234.68 1386.61 L1234.68 1386.61  Z\n",
       "  \" fill=\"#009af9\" fill-rule=\"evenodd\" fill-opacity=\"1\"/>\n",
       "<polyline clip-path=\"url(#clip9302)\" style=\"stroke:#000000; stroke-width:4; stroke-opacity:1; fill:none\" points=\"\n",
       "  1234.68,1386.61 1234.68,1386.61 1243.62,1386.61 1234.68,1386.61 \n",
       "  \"/>\n",
       "<path clip-path=\"url(#clip9302)\" d=\"\n",
       "M1243.62 1386.61 L1243.62 1386.61 L1252.56 1386.61 L1252.56 1386.61 L1243.62 1386.61 L1243.62 1386.61  Z\n",
       "  \" fill=\"#009af9\" fill-rule=\"evenodd\" fill-opacity=\"1\"/>\n",
       "<polyline clip-path=\"url(#clip9302)\" style=\"stroke:#000000; stroke-width:4; stroke-opacity:1; fill:none\" points=\"\n",
       "  1243.62,1386.61 1243.62,1386.61 1252.56,1386.61 1243.62,1386.61 \n",
       "  \"/>\n",
       "<path clip-path=\"url(#clip9302)\" d=\"\n",
       "M1252.56 1386.61 L1252.56 1386.61 L1261.5 1386.61 L1261.5 1386.61 L1252.56 1386.61 L1252.56 1386.61  Z\n",
       "  \" fill=\"#009af9\" fill-rule=\"evenodd\" fill-opacity=\"1\"/>\n",
       "<polyline clip-path=\"url(#clip9302)\" style=\"stroke:#000000; stroke-width:4; stroke-opacity:1; fill:none\" points=\"\n",
       "  1252.56,1386.61 1252.56,1386.61 1261.5,1386.61 1252.56,1386.61 \n",
       "  \"/>\n",
       "<path clip-path=\"url(#clip9302)\" d=\"\n",
       "M1261.5 1386.61 L1261.5 1386.61 L1270.45 1386.61 L1270.45 1386.61 L1261.5 1386.61 L1261.5 1386.61  Z\n",
       "  \" fill=\"#009af9\" fill-rule=\"evenodd\" fill-opacity=\"1\"/>\n",
       "<polyline clip-path=\"url(#clip9302)\" style=\"stroke:#000000; stroke-width:4; stroke-opacity:1; fill:none\" points=\"\n",
       "  1261.5,1386.61 1261.5,1386.61 1270.45,1386.61 1261.5,1386.61 \n",
       "  \"/>\n",
       "<path clip-path=\"url(#clip9302)\" d=\"\n",
       "M1270.45 1386.61 L1270.45 1386.61 L1279.39 1386.61 L1279.39 1386.61 L1270.45 1386.61 L1270.45 1386.61  Z\n",
       "  \" fill=\"#009af9\" fill-rule=\"evenodd\" fill-opacity=\"1\"/>\n",
       "<polyline clip-path=\"url(#clip9302)\" style=\"stroke:#000000; stroke-width:4; stroke-opacity:1; fill:none\" points=\"\n",
       "  1270.45,1386.61 1270.45,1386.61 1279.39,1386.61 1270.45,1386.61 \n",
       "  \"/>\n",
       "<path clip-path=\"url(#clip9302)\" d=\"\n",
       "M1279.39 1386.61 L1279.39 1386.61 L1288.33 1386.61 L1288.33 1386.61 L1279.39 1386.61 L1279.39 1386.61  Z\n",
       "  \" fill=\"#009af9\" fill-rule=\"evenodd\" fill-opacity=\"1\"/>\n",
       "<polyline clip-path=\"url(#clip9302)\" style=\"stroke:#000000; stroke-width:4; stroke-opacity:1; fill:none\" points=\"\n",
       "  1279.39,1386.61 1279.39,1386.61 1288.33,1386.61 1279.39,1386.61 \n",
       "  \"/>\n",
       "<path clip-path=\"url(#clip9302)\" d=\"\n",
       "M1288.33 1386.61 L1288.33 1386.61 L1297.27 1386.61 L1297.27 1386.61 L1288.33 1386.61 L1288.33 1386.61  Z\n",
       "  \" fill=\"#009af9\" fill-rule=\"evenodd\" fill-opacity=\"1\"/>\n",
       "<polyline clip-path=\"url(#clip9302)\" style=\"stroke:#000000; stroke-width:4; stroke-opacity:1; fill:none\" points=\"\n",
       "  1288.33,1386.61 1288.33,1386.61 1297.27,1386.61 1288.33,1386.61 \n",
       "  \"/>\n",
       "<path clip-path=\"url(#clip9302)\" d=\"\n",
       "M1297.27 1386.61 L1297.27 1386.61 L1306.22 1386.61 L1306.22 1386.61 L1297.27 1386.61 L1297.27 1386.61  Z\n",
       "  \" fill=\"#009af9\" fill-rule=\"evenodd\" fill-opacity=\"1\"/>\n",
       "<polyline clip-path=\"url(#clip9302)\" style=\"stroke:#000000; stroke-width:4; stroke-opacity:1; fill:none\" points=\"\n",
       "  1297.27,1386.61 1297.27,1386.61 1306.22,1386.61 1297.27,1386.61 \n",
       "  \"/>\n",
       "<path clip-path=\"url(#clip9302)\" d=\"\n",
       "M1306.22 1386.61 L1306.22 1386.61 L1315.16 1386.61 L1315.16 1386.61 L1306.22 1386.61 L1306.22 1386.61  Z\n",
       "  \" fill=\"#009af9\" fill-rule=\"evenodd\" fill-opacity=\"1\"/>\n",
       "<polyline clip-path=\"url(#clip9302)\" style=\"stroke:#000000; stroke-width:4; stroke-opacity:1; fill:none\" points=\"\n",
       "  1306.22,1386.61 1306.22,1386.61 1315.16,1386.61 1306.22,1386.61 \n",
       "  \"/>\n",
       "<path clip-path=\"url(#clip9302)\" d=\"\n",
       "M1315.16 1386.61 L1315.16 1386.61 L1324.1 1386.61 L1324.1 1386.61 L1315.16 1386.61 L1315.16 1386.61  Z\n",
       "  \" fill=\"#009af9\" fill-rule=\"evenodd\" fill-opacity=\"1\"/>\n",
       "<polyline clip-path=\"url(#clip9302)\" style=\"stroke:#000000; stroke-width:4; stroke-opacity:1; fill:none\" points=\"\n",
       "  1315.16,1386.61 1315.16,1386.61 1324.1,1386.61 1315.16,1386.61 \n",
       "  \"/>\n",
       "<path clip-path=\"url(#clip9302)\" d=\"\n",
       "M1324.1 1386.61 L1324.1 1386.61 L1333.04 1386.61 L1333.04 1386.61 L1324.1 1386.61 L1324.1 1386.61  Z\n",
       "  \" fill=\"#009af9\" fill-rule=\"evenodd\" fill-opacity=\"1\"/>\n",
       "<polyline clip-path=\"url(#clip9302)\" style=\"stroke:#000000; stroke-width:4; stroke-opacity:1; fill:none\" points=\"\n",
       "  1324.1,1386.61 1324.1,1386.61 1333.04,1386.61 1324.1,1386.61 \n",
       "  \"/>\n",
       "<path clip-path=\"url(#clip9302)\" d=\"\n",
       "M1333.04 1386.61 L1333.04 1386.61 L1341.98 1386.61 L1341.98 1386.61 L1333.04 1386.61 L1333.04 1386.61  Z\n",
       "  \" fill=\"#009af9\" fill-rule=\"evenodd\" fill-opacity=\"1\"/>\n",
       "<polyline clip-path=\"url(#clip9302)\" style=\"stroke:#000000; stroke-width:4; stroke-opacity:1; fill:none\" points=\"\n",
       "  1333.04,1386.61 1333.04,1386.61 1341.98,1386.61 1333.04,1386.61 \n",
       "  \"/>\n",
       "<path clip-path=\"url(#clip9302)\" d=\"\n",
       "M1341.98 1386.61 L1341.98 1386.61 L1350.93 1386.61 L1350.93 1386.61 L1341.98 1386.61 L1341.98 1386.61  Z\n",
       "  \" fill=\"#009af9\" fill-rule=\"evenodd\" fill-opacity=\"1\"/>\n",
       "<polyline clip-path=\"url(#clip9302)\" style=\"stroke:#000000; stroke-width:4; stroke-opacity:1; fill:none\" points=\"\n",
       "  1341.98,1386.61 1341.98,1386.61 1350.93,1386.61 1341.98,1386.61 \n",
       "  \"/>\n",
       "<path clip-path=\"url(#clip9302)\" d=\"\n",
       "M1350.93 1386.61 L1350.93 1386.61 L1359.87 1386.61 L1359.87 1386.61 L1350.93 1386.61 L1350.93 1386.61  Z\n",
       "  \" fill=\"#009af9\" fill-rule=\"evenodd\" fill-opacity=\"1\"/>\n",
       "<polyline clip-path=\"url(#clip9302)\" style=\"stroke:#000000; stroke-width:4; stroke-opacity:1; fill:none\" points=\"\n",
       "  1350.93,1386.61 1350.93,1386.61 1359.87,1386.61 1350.93,1386.61 \n",
       "  \"/>\n",
       "<path clip-path=\"url(#clip9302)\" d=\"\n",
       "M1359.87 1386.61 L1359.87 1386.61 L1368.81 1386.61 L1368.81 1386.61 L1359.87 1386.61 L1359.87 1386.61  Z\n",
       "  \" fill=\"#009af9\" fill-rule=\"evenodd\" fill-opacity=\"1\"/>\n",
       "<polyline clip-path=\"url(#clip9302)\" style=\"stroke:#000000; stroke-width:4; stroke-opacity:1; fill:none\" points=\"\n",
       "  1359.87,1386.61 1359.87,1386.61 1368.81,1386.61 1359.87,1386.61 \n",
       "  \"/>\n",
       "<path clip-path=\"url(#clip9302)\" d=\"\n",
       "M1368.81 1386.61 L1368.81 1386.61 L1377.75 1386.61 L1377.75 1386.61 L1368.81 1386.61 L1368.81 1386.61  Z\n",
       "  \" fill=\"#009af9\" fill-rule=\"evenodd\" fill-opacity=\"1\"/>\n",
       "<polyline clip-path=\"url(#clip9302)\" style=\"stroke:#000000; stroke-width:4; stroke-opacity:1; fill:none\" points=\"\n",
       "  1368.81,1386.61 1368.81,1386.61 1377.75,1386.61 1368.81,1386.61 \n",
       "  \"/>\n",
       "<path clip-path=\"url(#clip9302)\" d=\"\n",
       "M1377.75 1386.61 L1377.75 1386.61 L1386.69 1386.61 L1386.69 1386.61 L1377.75 1386.61 L1377.75 1386.61  Z\n",
       "  \" fill=\"#009af9\" fill-rule=\"evenodd\" fill-opacity=\"1\"/>\n",
       "<polyline clip-path=\"url(#clip9302)\" style=\"stroke:#000000; stroke-width:4; stroke-opacity:1; fill:none\" points=\"\n",
       "  1377.75,1386.61 1377.75,1386.61 1386.69,1386.61 1377.75,1386.61 \n",
       "  \"/>\n",
       "<path clip-path=\"url(#clip9302)\" d=\"\n",
       "M1386.69 1386.61 L1386.69 1386.61 L1395.64 1386.61 L1395.64 1386.61 L1386.69 1386.61 L1386.69 1386.61  Z\n",
       "  \" fill=\"#009af9\" fill-rule=\"evenodd\" fill-opacity=\"1\"/>\n",
       "<polyline clip-path=\"url(#clip9302)\" style=\"stroke:#000000; stroke-width:4; stroke-opacity:1; fill:none\" points=\"\n",
       "  1386.69,1386.61 1386.69,1386.61 1395.64,1386.61 1386.69,1386.61 \n",
       "  \"/>\n",
       "<path clip-path=\"url(#clip9302)\" d=\"\n",
       "M1395.64 1386.61 L1395.64 1386.61 L1404.58 1386.61 L1404.58 1386.61 L1395.64 1386.61 L1395.64 1386.61  Z\n",
       "  \" fill=\"#009af9\" fill-rule=\"evenodd\" fill-opacity=\"1\"/>\n",
       "<polyline clip-path=\"url(#clip9302)\" style=\"stroke:#000000; stroke-width:4; stroke-opacity:1; fill:none\" points=\"\n",
       "  1395.64,1386.61 1395.64,1386.61 1404.58,1386.61 1395.64,1386.61 \n",
       "  \"/>\n",
       "<path clip-path=\"url(#clip9302)\" d=\"\n",
       "M1404.58 1386.61 L1404.58 1386.61 L1413.52 1386.61 L1413.52 1386.61 L1404.58 1386.61 L1404.58 1386.61  Z\n",
       "  \" fill=\"#009af9\" fill-rule=\"evenodd\" fill-opacity=\"1\"/>\n",
       "<polyline clip-path=\"url(#clip9302)\" style=\"stroke:#000000; stroke-width:4; stroke-opacity:1; fill:none\" points=\"\n",
       "  1404.58,1386.61 1404.58,1386.61 1413.52,1386.61 1404.58,1386.61 \n",
       "  \"/>\n",
       "<path clip-path=\"url(#clip9302)\" d=\"\n",
       "M1413.52 1386.61 L1413.52 1386.61 L1422.46 1386.61 L1422.46 1386.61 L1413.52 1386.61 L1413.52 1386.61  Z\n",
       "  \" fill=\"#009af9\" fill-rule=\"evenodd\" fill-opacity=\"1\"/>\n",
       "<polyline clip-path=\"url(#clip9302)\" style=\"stroke:#000000; stroke-width:4; stroke-opacity:1; fill:none\" points=\"\n",
       "  1413.52,1386.61 1413.52,1386.61 1422.46,1386.61 1413.52,1386.61 \n",
       "  \"/>\n",
       "<path clip-path=\"url(#clip9302)\" d=\"\n",
       "M1422.46 1386.61 L1422.46 1386.61 L1431.41 1386.61 L1431.41 1386.61 L1422.46 1386.61 L1422.46 1386.61  Z\n",
       "  \" fill=\"#009af9\" fill-rule=\"evenodd\" fill-opacity=\"1\"/>\n",
       "<polyline clip-path=\"url(#clip9302)\" style=\"stroke:#000000; stroke-width:4; stroke-opacity:1; fill:none\" points=\"\n",
       "  1422.46,1386.61 1422.46,1386.61 1431.41,1386.61 1422.46,1386.61 \n",
       "  \"/>\n",
       "<path clip-path=\"url(#clip9302)\" d=\"\n",
       "M1431.41 1386.61 L1431.41 1386.61 L1440.35 1386.61 L1440.35 1386.61 L1431.41 1386.61 L1431.41 1386.61  Z\n",
       "  \" fill=\"#009af9\" fill-rule=\"evenodd\" fill-opacity=\"1\"/>\n",
       "<polyline clip-path=\"url(#clip9302)\" style=\"stroke:#000000; stroke-width:4; stroke-opacity:1; fill:none\" points=\"\n",
       "  1431.41,1386.61 1431.41,1386.61 1440.35,1386.61 1431.41,1386.61 \n",
       "  \"/>\n",
       "<path clip-path=\"url(#clip9302)\" d=\"\n",
       "M1440.35 1386.61 L1440.35 1386.61 L1449.29 1386.61 L1449.29 1386.61 L1440.35 1386.61 L1440.35 1386.61  Z\n",
       "  \" fill=\"#009af9\" fill-rule=\"evenodd\" fill-opacity=\"1\"/>\n",
       "<polyline clip-path=\"url(#clip9302)\" style=\"stroke:#000000; stroke-width:4; stroke-opacity:1; fill:none\" points=\"\n",
       "  1440.35,1386.61 1440.35,1386.61 1449.29,1386.61 1440.35,1386.61 \n",
       "  \"/>\n",
       "<path clip-path=\"url(#clip9302)\" d=\"\n",
       "M1449.29 1386.61 L1449.29 1386.61 L1458.23 1386.61 L1458.23 1386.61 L1449.29 1386.61 L1449.29 1386.61  Z\n",
       "  \" fill=\"#009af9\" fill-rule=\"evenodd\" fill-opacity=\"1\"/>\n",
       "<polyline clip-path=\"url(#clip9302)\" style=\"stroke:#000000; stroke-width:4; stroke-opacity:1; fill:none\" points=\"\n",
       "  1449.29,1386.61 1449.29,1386.61 1458.23,1386.61 1449.29,1386.61 \n",
       "  \"/>\n",
       "<path clip-path=\"url(#clip9302)\" d=\"\n",
       "M1458.23 1386.61 L1458.23 1386.61 L1467.17 1386.61 L1467.17 1386.61 L1458.23 1386.61 L1458.23 1386.61  Z\n",
       "  \" fill=\"#009af9\" fill-rule=\"evenodd\" fill-opacity=\"1\"/>\n",
       "<polyline clip-path=\"url(#clip9302)\" style=\"stroke:#000000; stroke-width:4; stroke-opacity:1; fill:none\" points=\"\n",
       "  1458.23,1386.61 1458.23,1386.61 1467.17,1386.61 1458.23,1386.61 \n",
       "  \"/>\n",
       "<path clip-path=\"url(#clip9302)\" d=\"\n",
       "M1467.17 1386.61 L1467.17 1386.61 L1476.12 1386.61 L1476.12 1386.61 L1467.17 1386.61 L1467.17 1386.61  Z\n",
       "  \" fill=\"#009af9\" fill-rule=\"evenodd\" fill-opacity=\"1\"/>\n",
       "<polyline clip-path=\"url(#clip9302)\" style=\"stroke:#000000; stroke-width:4; stroke-opacity:1; fill:none\" points=\"\n",
       "  1467.17,1386.61 1467.17,1386.61 1476.12,1386.61 1467.17,1386.61 \n",
       "  \"/>\n",
       "<path clip-path=\"url(#clip9302)\" d=\"\n",
       "M1476.12 1386.61 L1476.12 1386.61 L1485.06 1386.61 L1485.06 1386.61 L1476.12 1386.61 L1476.12 1386.61  Z\n",
       "  \" fill=\"#009af9\" fill-rule=\"evenodd\" fill-opacity=\"1\"/>\n",
       "<polyline clip-path=\"url(#clip9302)\" style=\"stroke:#000000; stroke-width:4; stroke-opacity:1; fill:none\" points=\"\n",
       "  1476.12,1386.61 1476.12,1386.61 1485.06,1386.61 1476.12,1386.61 \n",
       "  \"/>\n",
       "<path clip-path=\"url(#clip9302)\" d=\"\n",
       "M1485.06 1386.61 L1485.06 1386.61 L1494 1386.61 L1494 1386.61 L1485.06 1386.61 L1485.06 1386.61  Z\n",
       "  \" fill=\"#009af9\" fill-rule=\"evenodd\" fill-opacity=\"1\"/>\n",
       "<polyline clip-path=\"url(#clip9302)\" style=\"stroke:#000000; stroke-width:4; stroke-opacity:1; fill:none\" points=\"\n",
       "  1485.06,1386.61 1485.06,1386.61 1494,1386.61 1485.06,1386.61 \n",
       "  \"/>\n",
       "<path clip-path=\"url(#clip9302)\" d=\"\n",
       "M1494 1386.61 L1494 1386.61 L1502.94 1386.61 L1502.94 1386.61 L1494 1386.61 L1494 1386.61  Z\n",
       "  \" fill=\"#009af9\" fill-rule=\"evenodd\" fill-opacity=\"1\"/>\n",
       "<polyline clip-path=\"url(#clip9302)\" style=\"stroke:#000000; stroke-width:4; stroke-opacity:1; fill:none\" points=\"\n",
       "  1494,1386.61 1494,1386.61 1502.94,1386.61 1494,1386.61 \n",
       "  \"/>\n",
       "<path clip-path=\"url(#clip9302)\" d=\"\n",
       "M1502.94 1386.61 L1502.94 1386.61 L1511.89 1386.61 L1511.89 1386.61 L1502.94 1386.61 L1502.94 1386.61  Z\n",
       "  \" fill=\"#009af9\" fill-rule=\"evenodd\" fill-opacity=\"1\"/>\n",
       "<polyline clip-path=\"url(#clip9302)\" style=\"stroke:#000000; stroke-width:4; stroke-opacity:1; fill:none\" points=\"\n",
       "  1502.94,1386.61 1502.94,1386.61 1511.89,1386.61 1502.94,1386.61 \n",
       "  \"/>\n",
       "<path clip-path=\"url(#clip9302)\" d=\"\n",
       "M1511.89 1386.61 L1511.89 1386.61 L1520.83 1386.61 L1520.83 1386.61 L1511.89 1386.61 L1511.89 1386.61  Z\n",
       "  \" fill=\"#009af9\" fill-rule=\"evenodd\" fill-opacity=\"1\"/>\n",
       "<polyline clip-path=\"url(#clip9302)\" style=\"stroke:#000000; stroke-width:4; stroke-opacity:1; fill:none\" points=\"\n",
       "  1511.89,1386.61 1511.89,1386.61 1520.83,1386.61 1511.89,1386.61 \n",
       "  \"/>\n",
       "<path clip-path=\"url(#clip9302)\" d=\"\n",
       "M1520.83 1386.61 L1520.83 1386.61 L1529.77 1386.61 L1529.77 1386.61 L1520.83 1386.61 L1520.83 1386.61  Z\n",
       "  \" fill=\"#009af9\" fill-rule=\"evenodd\" fill-opacity=\"1\"/>\n",
       "<polyline clip-path=\"url(#clip9302)\" style=\"stroke:#000000; stroke-width:4; stroke-opacity:1; fill:none\" points=\"\n",
       "  1520.83,1386.61 1520.83,1386.61 1529.77,1386.61 1520.83,1386.61 \n",
       "  \"/>\n",
       "<path clip-path=\"url(#clip9302)\" d=\"\n",
       "M1529.77 1386.61 L1529.77 1386.61 L1538.71 1386.61 L1538.71 1386.61 L1529.77 1386.61 L1529.77 1386.61  Z\n",
       "  \" fill=\"#009af9\" fill-rule=\"evenodd\" fill-opacity=\"1\"/>\n",
       "<polyline clip-path=\"url(#clip9302)\" style=\"stroke:#000000; stroke-width:4; stroke-opacity:1; fill:none\" points=\"\n",
       "  1529.77,1386.61 1529.77,1386.61 1538.71,1386.61 1529.77,1386.61 \n",
       "  \"/>\n",
       "<path clip-path=\"url(#clip9302)\" d=\"\n",
       "M1538.71 1386.61 L1538.71 1386.61 L1547.65 1386.61 L1547.65 1386.61 L1538.71 1386.61 L1538.71 1386.61  Z\n",
       "  \" fill=\"#009af9\" fill-rule=\"evenodd\" fill-opacity=\"1\"/>\n",
       "<polyline clip-path=\"url(#clip9302)\" style=\"stroke:#000000; stroke-width:4; stroke-opacity:1; fill:none\" points=\"\n",
       "  1538.71,1386.61 1538.71,1386.61 1547.65,1386.61 1538.71,1386.61 \n",
       "  \"/>\n",
       "<path clip-path=\"url(#clip9302)\" d=\"\n",
       "M1547.65 1386.61 L1547.65 1386.61 L1556.6 1386.61 L1556.6 1386.61 L1547.65 1386.61 L1547.65 1386.61  Z\n",
       "  \" fill=\"#009af9\" fill-rule=\"evenodd\" fill-opacity=\"1\"/>\n",
       "<polyline clip-path=\"url(#clip9302)\" style=\"stroke:#000000; stroke-width:4; stroke-opacity:1; fill:none\" points=\"\n",
       "  1547.65,1386.61 1547.65,1386.61 1556.6,1386.61 1547.65,1386.61 \n",
       "  \"/>\n",
       "<path clip-path=\"url(#clip9302)\" d=\"\n",
       "M1556.6 1386.61 L1556.6 1386.61 L1565.54 1386.61 L1565.54 1386.61 L1556.6 1386.61 L1556.6 1386.61  Z\n",
       "  \" fill=\"#009af9\" fill-rule=\"evenodd\" fill-opacity=\"1\"/>\n",
       "<polyline clip-path=\"url(#clip9302)\" style=\"stroke:#000000; stroke-width:4; stroke-opacity:1; fill:none\" points=\"\n",
       "  1556.6,1386.61 1556.6,1386.61 1565.54,1386.61 1556.6,1386.61 \n",
       "  \"/>\n",
       "<path clip-path=\"url(#clip9302)\" d=\"\n",
       "M1565.54 1386.61 L1565.54 1386.61 L1574.48 1386.61 L1574.48 1386.61 L1565.54 1386.61 L1565.54 1386.61  Z\n",
       "  \" fill=\"#009af9\" fill-rule=\"evenodd\" fill-opacity=\"1\"/>\n",
       "<polyline clip-path=\"url(#clip9302)\" style=\"stroke:#000000; stroke-width:4; stroke-opacity:1; fill:none\" points=\"\n",
       "  1565.54,1386.61 1565.54,1386.61 1574.48,1386.61 1565.54,1386.61 \n",
       "  \"/>\n",
       "<path clip-path=\"url(#clip9302)\" d=\"\n",
       "M1574.48 1386.61 L1574.48 1386.61 L1583.42 1386.61 L1583.42 1386.61 L1574.48 1386.61 L1574.48 1386.61  Z\n",
       "  \" fill=\"#009af9\" fill-rule=\"evenodd\" fill-opacity=\"1\"/>\n",
       "<polyline clip-path=\"url(#clip9302)\" style=\"stroke:#000000; stroke-width:4; stroke-opacity:1; fill:none\" points=\"\n",
       "  1574.48,1386.61 1574.48,1386.61 1583.42,1386.61 1574.48,1386.61 \n",
       "  \"/>\n",
       "<path clip-path=\"url(#clip9302)\" d=\"\n",
       "M1583.42 1386.61 L1583.42 1386.61 L1592.36 1386.61 L1592.36 1386.61 L1583.42 1386.61 L1583.42 1386.61  Z\n",
       "  \" fill=\"#009af9\" fill-rule=\"evenodd\" fill-opacity=\"1\"/>\n",
       "<polyline clip-path=\"url(#clip9302)\" style=\"stroke:#000000; stroke-width:4; stroke-opacity:1; fill:none\" points=\"\n",
       "  1583.42,1386.61 1583.42,1386.61 1592.36,1386.61 1583.42,1386.61 \n",
       "  \"/>\n",
       "<path clip-path=\"url(#clip9302)\" d=\"\n",
       "M1592.36 1386.61 L1592.36 1386.61 L1601.31 1386.61 L1601.31 1386.61 L1592.36 1386.61 L1592.36 1386.61  Z\n",
       "  \" fill=\"#009af9\" fill-rule=\"evenodd\" fill-opacity=\"1\"/>\n",
       "<polyline clip-path=\"url(#clip9302)\" style=\"stroke:#000000; stroke-width:4; stroke-opacity:1; fill:none\" points=\"\n",
       "  1592.36,1386.61 1592.36,1386.61 1601.31,1386.61 1592.36,1386.61 \n",
       "  \"/>\n",
       "<path clip-path=\"url(#clip9302)\" d=\"\n",
       "M1601.31 1386.61 L1601.31 1386.61 L1610.25 1386.61 L1610.25 1386.61 L1601.31 1386.61 L1601.31 1386.61  Z\n",
       "  \" fill=\"#009af9\" fill-rule=\"evenodd\" fill-opacity=\"1\"/>\n",
       "<polyline clip-path=\"url(#clip9302)\" style=\"stroke:#000000; stroke-width:4; stroke-opacity:1; fill:none\" points=\"\n",
       "  1601.31,1386.61 1601.31,1386.61 1610.25,1386.61 1601.31,1386.61 \n",
       "  \"/>\n",
       "<path clip-path=\"url(#clip9302)\" d=\"\n",
       "M1610.25 1386.61 L1610.25 1386.61 L1619.19 1386.61 L1619.19 1386.61 L1610.25 1386.61 L1610.25 1386.61  Z\n",
       "  \" fill=\"#009af9\" fill-rule=\"evenodd\" fill-opacity=\"1\"/>\n",
       "<polyline clip-path=\"url(#clip9302)\" style=\"stroke:#000000; stroke-width:4; stroke-opacity:1; fill:none\" points=\"\n",
       "  1610.25,1386.61 1610.25,1386.61 1619.19,1386.61 1610.25,1386.61 \n",
       "  \"/>\n",
       "<path clip-path=\"url(#clip9302)\" d=\"\n",
       "M1619.19 1386.61 L1619.19 1386.61 L1628.13 1386.61 L1628.13 1386.61 L1619.19 1386.61 L1619.19 1386.61  Z\n",
       "  \" fill=\"#009af9\" fill-rule=\"evenodd\" fill-opacity=\"1\"/>\n",
       "<polyline clip-path=\"url(#clip9302)\" style=\"stroke:#000000; stroke-width:4; stroke-opacity:1; fill:none\" points=\"\n",
       "  1619.19,1386.61 1619.19,1386.61 1628.13,1386.61 1619.19,1386.61 \n",
       "  \"/>\n",
       "<path clip-path=\"url(#clip9302)\" d=\"\n",
       "M1628.13 1386.61 L1628.13 1386.61 L1637.08 1386.61 L1637.08 1386.61 L1628.13 1386.61 L1628.13 1386.61  Z\n",
       "  \" fill=\"#009af9\" fill-rule=\"evenodd\" fill-opacity=\"1\"/>\n",
       "<polyline clip-path=\"url(#clip9302)\" style=\"stroke:#000000; stroke-width:4; stroke-opacity:1; fill:none\" points=\"\n",
       "  1628.13,1386.61 1628.13,1386.61 1637.08,1386.61 1628.13,1386.61 \n",
       "  \"/>\n",
       "<path clip-path=\"url(#clip9302)\" d=\"\n",
       "M1637.08 1386.61 L1637.08 1386.61 L1646.02 1386.61 L1646.02 1386.61 L1637.08 1386.61 L1637.08 1386.61  Z\n",
       "  \" fill=\"#009af9\" fill-rule=\"evenodd\" fill-opacity=\"1\"/>\n",
       "<polyline clip-path=\"url(#clip9302)\" style=\"stroke:#000000; stroke-width:4; stroke-opacity:1; fill:none\" points=\"\n",
       "  1637.08,1386.61 1637.08,1386.61 1646.02,1386.61 1637.08,1386.61 \n",
       "  \"/>\n",
       "<path clip-path=\"url(#clip9302)\" d=\"\n",
       "M1646.02 1386.61 L1646.02 1386.61 L1654.96 1386.61 L1654.96 1386.61 L1646.02 1386.61 L1646.02 1386.61  Z\n",
       "  \" fill=\"#009af9\" fill-rule=\"evenodd\" fill-opacity=\"1\"/>\n",
       "<polyline clip-path=\"url(#clip9302)\" style=\"stroke:#000000; stroke-width:4; stroke-opacity:1; fill:none\" points=\"\n",
       "  1646.02,1386.61 1646.02,1386.61 1654.96,1386.61 1646.02,1386.61 \n",
       "  \"/>\n",
       "<path clip-path=\"url(#clip9302)\" d=\"\n",
       "M1654.96 1386.61 L1654.96 1386.61 L1663.9 1386.61 L1663.9 1386.61 L1654.96 1386.61 L1654.96 1386.61  Z\n",
       "  \" fill=\"#009af9\" fill-rule=\"evenodd\" fill-opacity=\"1\"/>\n",
       "<polyline clip-path=\"url(#clip9302)\" style=\"stroke:#000000; stroke-width:4; stroke-opacity:1; fill:none\" points=\"\n",
       "  1654.96,1386.61 1654.96,1386.61 1663.9,1386.61 1654.96,1386.61 \n",
       "  \"/>\n",
       "<path clip-path=\"url(#clip9302)\" d=\"\n",
       "M1663.9 1386.61 L1663.9 1386.61 L1672.84 1386.61 L1672.84 1386.61 L1663.9 1386.61 L1663.9 1386.61  Z\n",
       "  \" fill=\"#009af9\" fill-rule=\"evenodd\" fill-opacity=\"1\"/>\n",
       "<polyline clip-path=\"url(#clip9302)\" style=\"stroke:#000000; stroke-width:4; stroke-opacity:1; fill:none\" points=\"\n",
       "  1663.9,1386.61 1663.9,1386.61 1672.84,1386.61 1663.9,1386.61 \n",
       "  \"/>\n",
       "<path clip-path=\"url(#clip9302)\" d=\"\n",
       "M1672.84 1386.61 L1672.84 1386.61 L1681.79 1386.61 L1681.79 1386.61 L1672.84 1386.61 L1672.84 1386.61  Z\n",
       "  \" fill=\"#009af9\" fill-rule=\"evenodd\" fill-opacity=\"1\"/>\n",
       "<polyline clip-path=\"url(#clip9302)\" style=\"stroke:#000000; stroke-width:4; stroke-opacity:1; fill:none\" points=\"\n",
       "  1672.84,1386.61 1672.84,1386.61 1681.79,1386.61 1672.84,1386.61 \n",
       "  \"/>\n",
       "<path clip-path=\"url(#clip9302)\" d=\"\n",
       "M1681.79 1386.61 L1681.79 1386.61 L1690.73 1386.61 L1690.73 1386.61 L1681.79 1386.61 L1681.79 1386.61  Z\n",
       "  \" fill=\"#009af9\" fill-rule=\"evenodd\" fill-opacity=\"1\"/>\n",
       "<polyline clip-path=\"url(#clip9302)\" style=\"stroke:#000000; stroke-width:4; stroke-opacity:1; fill:none\" points=\"\n",
       "  1681.79,1386.61 1681.79,1386.61 1690.73,1386.61 1681.79,1386.61 \n",
       "  \"/>\n",
       "<path clip-path=\"url(#clip9302)\" d=\"\n",
       "M1690.73 1386.61 L1690.73 1386.61 L1699.67 1386.61 L1699.67 1386.61 L1690.73 1386.61 L1690.73 1386.61  Z\n",
       "  \" fill=\"#009af9\" fill-rule=\"evenodd\" fill-opacity=\"1\"/>\n",
       "<polyline clip-path=\"url(#clip9302)\" style=\"stroke:#000000; stroke-width:4; stroke-opacity:1; fill:none\" points=\"\n",
       "  1690.73,1386.61 1690.73,1386.61 1699.67,1386.61 1690.73,1386.61 \n",
       "  \"/>\n",
       "<path clip-path=\"url(#clip9302)\" d=\"\n",
       "M1699.67 1386.61 L1699.67 1386.61 L1708.61 1386.61 L1708.61 1386.61 L1699.67 1386.61 L1699.67 1386.61  Z\n",
       "  \" fill=\"#009af9\" fill-rule=\"evenodd\" fill-opacity=\"1\"/>\n",
       "<polyline clip-path=\"url(#clip9302)\" style=\"stroke:#000000; stroke-width:4; stroke-opacity:1; fill:none\" points=\"\n",
       "  1699.67,1386.61 1699.67,1386.61 1708.61,1386.61 1699.67,1386.61 \n",
       "  \"/>\n",
       "<path clip-path=\"url(#clip9302)\" d=\"\n",
       "M1708.61 1386.61 L1708.61 1386.61 L1717.56 1386.61 L1717.56 1386.61 L1708.61 1386.61 L1708.61 1386.61  Z\n",
       "  \" fill=\"#009af9\" fill-rule=\"evenodd\" fill-opacity=\"1\"/>\n",
       "<polyline clip-path=\"url(#clip9302)\" style=\"stroke:#000000; stroke-width:4; stroke-opacity:1; fill:none\" points=\"\n",
       "  1708.61,1386.61 1708.61,1386.61 1717.56,1386.61 1708.61,1386.61 \n",
       "  \"/>\n",
       "<path clip-path=\"url(#clip9302)\" d=\"\n",
       "M1717.56 1386.61 L1717.56 1386.61 L1726.5 1386.61 L1726.5 1386.61 L1717.56 1386.61 L1717.56 1386.61  Z\n",
       "  \" fill=\"#009af9\" fill-rule=\"evenodd\" fill-opacity=\"1\"/>\n",
       "<polyline clip-path=\"url(#clip9302)\" style=\"stroke:#000000; stroke-width:4; stroke-opacity:1; fill:none\" points=\"\n",
       "  1717.56,1386.61 1717.56,1386.61 1726.5,1386.61 1717.56,1386.61 \n",
       "  \"/>\n",
       "<path clip-path=\"url(#clip9302)\" d=\"\n",
       "M1726.5 1386.61 L1726.5 1386.61 L1735.44 1386.61 L1735.44 1386.61 L1726.5 1386.61 L1726.5 1386.61  Z\n",
       "  \" fill=\"#009af9\" fill-rule=\"evenodd\" fill-opacity=\"1\"/>\n",
       "<polyline clip-path=\"url(#clip9302)\" style=\"stroke:#000000; stroke-width:4; stroke-opacity:1; fill:none\" points=\"\n",
       "  1726.5,1386.61 1726.5,1386.61 1735.44,1386.61 1726.5,1386.61 \n",
       "  \"/>\n",
       "<path clip-path=\"url(#clip9302)\" d=\"\n",
       "M1735.44 1386.61 L1735.44 1386.61 L1744.38 1386.61 L1744.38 1386.61 L1735.44 1386.61 L1735.44 1386.61  Z\n",
       "  \" fill=\"#009af9\" fill-rule=\"evenodd\" fill-opacity=\"1\"/>\n",
       "<polyline clip-path=\"url(#clip9302)\" style=\"stroke:#000000; stroke-width:4; stroke-opacity:1; fill:none\" points=\"\n",
       "  1735.44,1386.61 1735.44,1386.61 1744.38,1386.61 1735.44,1386.61 \n",
       "  \"/>\n",
       "<path clip-path=\"url(#clip9302)\" d=\"\n",
       "M1744.38 1386.61 L1744.38 1386.61 L1753.32 1386.61 L1753.32 1386.61 L1744.38 1386.61 L1744.38 1386.61  Z\n",
       "  \" fill=\"#009af9\" fill-rule=\"evenodd\" fill-opacity=\"1\"/>\n",
       "<polyline clip-path=\"url(#clip9302)\" style=\"stroke:#000000; stroke-width:4; stroke-opacity:1; fill:none\" points=\"\n",
       "  1744.38,1386.61 1744.38,1386.61 1753.32,1386.61 1744.38,1386.61 \n",
       "  \"/>\n",
       "<path clip-path=\"url(#clip9302)\" d=\"\n",
       "M1753.32 1386.61 L1753.32 1386.61 L1762.27 1386.61 L1762.27 1386.61 L1753.32 1386.61 L1753.32 1386.61  Z\n",
       "  \" fill=\"#009af9\" fill-rule=\"evenodd\" fill-opacity=\"1\"/>\n",
       "<polyline clip-path=\"url(#clip9302)\" style=\"stroke:#000000; stroke-width:4; stroke-opacity:1; fill:none\" points=\"\n",
       "  1753.32,1386.61 1753.32,1386.61 1762.27,1386.61 1753.32,1386.61 \n",
       "  \"/>\n",
       "<path clip-path=\"url(#clip9302)\" d=\"\n",
       "M1762.27 1386.61 L1762.27 1386.61 L1771.21 1386.61 L1771.21 1386.61 L1762.27 1386.61 L1762.27 1386.61  Z\n",
       "  \" fill=\"#009af9\" fill-rule=\"evenodd\" fill-opacity=\"1\"/>\n",
       "<polyline clip-path=\"url(#clip9302)\" style=\"stroke:#000000; stroke-width:4; stroke-opacity:1; fill:none\" points=\"\n",
       "  1762.27,1386.61 1762.27,1386.61 1771.21,1386.61 1762.27,1386.61 \n",
       "  \"/>\n",
       "<path clip-path=\"url(#clip9302)\" d=\"\n",
       "M1771.21 1386.61 L1771.21 1386.61 L1780.15 1386.61 L1780.15 1386.61 L1771.21 1386.61 L1771.21 1386.61  Z\n",
       "  \" fill=\"#009af9\" fill-rule=\"evenodd\" fill-opacity=\"1\"/>\n",
       "<polyline clip-path=\"url(#clip9302)\" style=\"stroke:#000000; stroke-width:4; stroke-opacity:1; fill:none\" points=\"\n",
       "  1771.21,1386.61 1771.21,1386.61 1780.15,1386.61 1771.21,1386.61 \n",
       "  \"/>\n",
       "<path clip-path=\"url(#clip9302)\" d=\"\n",
       "M1780.15 1386.61 L1780.15 1386.61 L1789.09 1386.61 L1789.09 1386.61 L1780.15 1386.61 L1780.15 1386.61  Z\n",
       "  \" fill=\"#009af9\" fill-rule=\"evenodd\" fill-opacity=\"1\"/>\n",
       "<polyline clip-path=\"url(#clip9302)\" style=\"stroke:#000000; stroke-width:4; stroke-opacity:1; fill:none\" points=\"\n",
       "  1780.15,1386.61 1780.15,1386.61 1789.09,1386.61 1780.15,1386.61 \n",
       "  \"/>\n",
       "<path clip-path=\"url(#clip9302)\" d=\"\n",
       "M1789.09 1386.61 L1789.09 1386.61 L1798.03 1386.61 L1798.03 1386.61 L1789.09 1386.61 L1789.09 1386.61  Z\n",
       "  \" fill=\"#009af9\" fill-rule=\"evenodd\" fill-opacity=\"1\"/>\n",
       "<polyline clip-path=\"url(#clip9302)\" style=\"stroke:#000000; stroke-width:4; stroke-opacity:1; fill:none\" points=\"\n",
       "  1789.09,1386.61 1789.09,1386.61 1798.03,1386.61 1789.09,1386.61 \n",
       "  \"/>\n",
       "<path clip-path=\"url(#clip9302)\" d=\"\n",
       "M1798.03 1386.61 L1798.03 1386.61 L1806.98 1386.61 L1806.98 1386.61 L1798.03 1386.61 L1798.03 1386.61  Z\n",
       "  \" fill=\"#009af9\" fill-rule=\"evenodd\" fill-opacity=\"1\"/>\n",
       "<polyline clip-path=\"url(#clip9302)\" style=\"stroke:#000000; stroke-width:4; stroke-opacity:1; fill:none\" points=\"\n",
       "  1798.03,1386.61 1798.03,1386.61 1806.98,1386.61 1798.03,1386.61 \n",
       "  \"/>\n",
       "<path clip-path=\"url(#clip9302)\" d=\"\n",
       "M1806.98 1386.61 L1806.98 1386.61 L1815.92 1386.61 L1815.92 1386.61 L1806.98 1386.61 L1806.98 1386.61  Z\n",
       "  \" fill=\"#009af9\" fill-rule=\"evenodd\" fill-opacity=\"1\"/>\n",
       "<polyline clip-path=\"url(#clip9302)\" style=\"stroke:#000000; stroke-width:4; stroke-opacity:1; fill:none\" points=\"\n",
       "  1806.98,1386.61 1806.98,1386.61 1815.92,1386.61 1806.98,1386.61 \n",
       "  \"/>\n",
       "<path clip-path=\"url(#clip9302)\" d=\"\n",
       "M1815.92 1386.61 L1815.92 1386.61 L1824.86 1386.61 L1824.86 1386.61 L1815.92 1386.61 L1815.92 1386.61  Z\n",
       "  \" fill=\"#009af9\" fill-rule=\"evenodd\" fill-opacity=\"1\"/>\n",
       "<polyline clip-path=\"url(#clip9302)\" style=\"stroke:#000000; stroke-width:4; stroke-opacity:1; fill:none\" points=\"\n",
       "  1815.92,1386.61 1815.92,1386.61 1824.86,1386.61 1815.92,1386.61 \n",
       "  \"/>\n",
       "<path clip-path=\"url(#clip9302)\" d=\"\n",
       "M1824.86 1386.61 L1824.86 1386.61 L1833.8 1386.61 L1833.8 1386.61 L1824.86 1386.61 L1824.86 1386.61  Z\n",
       "  \" fill=\"#009af9\" fill-rule=\"evenodd\" fill-opacity=\"1\"/>\n",
       "<polyline clip-path=\"url(#clip9302)\" style=\"stroke:#000000; stroke-width:4; stroke-opacity:1; fill:none\" points=\"\n",
       "  1824.86,1386.61 1824.86,1386.61 1833.8,1386.61 1824.86,1386.61 \n",
       "  \"/>\n",
       "<path clip-path=\"url(#clip9302)\" d=\"\n",
       "M1833.8 1386.61 L1833.8 1386.61 L1842.75 1386.61 L1842.75 1386.61 L1833.8 1386.61 L1833.8 1386.61  Z\n",
       "  \" fill=\"#009af9\" fill-rule=\"evenodd\" fill-opacity=\"1\"/>\n",
       "<polyline clip-path=\"url(#clip9302)\" style=\"stroke:#000000; stroke-width:4; stroke-opacity:1; fill:none\" points=\"\n",
       "  1833.8,1386.61 1833.8,1386.61 1842.75,1386.61 1833.8,1386.61 \n",
       "  \"/>\n",
       "<path clip-path=\"url(#clip9302)\" d=\"\n",
       "M1842.75 1386.61 L1842.75 1386.61 L1851.69 1386.61 L1851.69 1386.61 L1842.75 1386.61 L1842.75 1386.61  Z\n",
       "  \" fill=\"#009af9\" fill-rule=\"evenodd\" fill-opacity=\"1\"/>\n",
       "<polyline clip-path=\"url(#clip9302)\" style=\"stroke:#000000; stroke-width:4; stroke-opacity:1; fill:none\" points=\"\n",
       "  1842.75,1386.61 1842.75,1386.61 1851.69,1386.61 1842.75,1386.61 \n",
       "  \"/>\n",
       "<path clip-path=\"url(#clip9302)\" d=\"\n",
       "M1851.69 1386.61 L1851.69 1386.61 L1860.63 1386.61 L1860.63 1386.61 L1851.69 1386.61 L1851.69 1386.61  Z\n",
       "  \" fill=\"#009af9\" fill-rule=\"evenodd\" fill-opacity=\"1\"/>\n",
       "<polyline clip-path=\"url(#clip9302)\" style=\"stroke:#000000; stroke-width:4; stroke-opacity:1; fill:none\" points=\"\n",
       "  1851.69,1386.61 1851.69,1386.61 1860.63,1386.61 1851.69,1386.61 \n",
       "  \"/>\n",
       "<path clip-path=\"url(#clip9302)\" d=\"\n",
       "M1860.63 1386.61 L1860.63 1386.61 L1869.57 1386.61 L1869.57 1386.61 L1860.63 1386.61 L1860.63 1386.61  Z\n",
       "  \" fill=\"#009af9\" fill-rule=\"evenodd\" fill-opacity=\"1\"/>\n",
       "<polyline clip-path=\"url(#clip9302)\" style=\"stroke:#000000; stroke-width:4; stroke-opacity:1; fill:none\" points=\"\n",
       "  1860.63,1386.61 1860.63,1386.61 1869.57,1386.61 1860.63,1386.61 \n",
       "  \"/>\n",
       "<path clip-path=\"url(#clip9302)\" d=\"\n",
       "M1869.57 1386.61 L1869.57 1386.61 L1878.51 1386.61 L1878.51 1386.61 L1869.57 1386.61 L1869.57 1386.61  Z\n",
       "  \" fill=\"#009af9\" fill-rule=\"evenodd\" fill-opacity=\"1\"/>\n",
       "<polyline clip-path=\"url(#clip9302)\" style=\"stroke:#000000; stroke-width:4; stroke-opacity:1; fill:none\" points=\"\n",
       "  1869.57,1386.61 1869.57,1386.61 1878.51,1386.61 1869.57,1386.61 \n",
       "  \"/>\n",
       "<path clip-path=\"url(#clip9302)\" d=\"\n",
       "M1878.51 1386.61 L1878.51 1386.61 L1887.46 1386.61 L1887.46 1386.61 L1878.51 1386.61 L1878.51 1386.61  Z\n",
       "  \" fill=\"#009af9\" fill-rule=\"evenodd\" fill-opacity=\"1\"/>\n",
       "<polyline clip-path=\"url(#clip9302)\" style=\"stroke:#000000; stroke-width:4; stroke-opacity:1; fill:none\" points=\"\n",
       "  1878.51,1386.61 1878.51,1386.61 1887.46,1386.61 1878.51,1386.61 \n",
       "  \"/>\n",
       "<path clip-path=\"url(#clip9302)\" d=\"\n",
       "M1887.46 1386.61 L1887.46 1386.61 L1896.4 1386.61 L1896.4 1386.61 L1887.46 1386.61 L1887.46 1386.61  Z\n",
       "  \" fill=\"#009af9\" fill-rule=\"evenodd\" fill-opacity=\"1\"/>\n",
       "<polyline clip-path=\"url(#clip9302)\" style=\"stroke:#000000; stroke-width:4; stroke-opacity:1; fill:none\" points=\"\n",
       "  1887.46,1386.61 1887.46,1386.61 1896.4,1386.61 1887.46,1386.61 \n",
       "  \"/>\n",
       "<path clip-path=\"url(#clip9302)\" d=\"\n",
       "M1896.4 1386.61 L1896.4 1386.61 L1905.34 1386.61 L1905.34 1386.61 L1896.4 1386.61 L1896.4 1386.61  Z\n",
       "  \" fill=\"#009af9\" fill-rule=\"evenodd\" fill-opacity=\"1\"/>\n",
       "<polyline clip-path=\"url(#clip9302)\" style=\"stroke:#000000; stroke-width:4; stroke-opacity:1; fill:none\" points=\"\n",
       "  1896.4,1386.61 1896.4,1386.61 1905.34,1386.61 1896.4,1386.61 \n",
       "  \"/>\n",
       "<path clip-path=\"url(#clip9302)\" d=\"\n",
       "M1905.34 1386.61 L1905.34 1386.61 L1914.28 1386.61 L1914.28 1386.61 L1905.34 1386.61 L1905.34 1386.61  Z\n",
       "  \" fill=\"#009af9\" fill-rule=\"evenodd\" fill-opacity=\"1\"/>\n",
       "<polyline clip-path=\"url(#clip9302)\" style=\"stroke:#000000; stroke-width:4; stroke-opacity:1; fill:none\" points=\"\n",
       "  1905.34,1386.61 1905.34,1386.61 1914.28,1386.61 1905.34,1386.61 \n",
       "  \"/>\n",
       "<path clip-path=\"url(#clip9302)\" d=\"\n",
       "M1914.28 1386.61 L1914.28 1386.61 L1923.23 1386.61 L1923.23 1386.61 L1914.28 1386.61 L1914.28 1386.61  Z\n",
       "  \" fill=\"#009af9\" fill-rule=\"evenodd\" fill-opacity=\"1\"/>\n",
       "<polyline clip-path=\"url(#clip9302)\" style=\"stroke:#000000; stroke-width:4; stroke-opacity:1; fill:none\" points=\"\n",
       "  1914.28,1386.61 1914.28,1386.61 1923.23,1386.61 1914.28,1386.61 \n",
       "  \"/>\n",
       "<path clip-path=\"url(#clip9302)\" d=\"\n",
       "M1923.23 1386.61 L1923.23 1386.61 L1932.17 1386.61 L1932.17 1386.61 L1923.23 1386.61 L1923.23 1386.61  Z\n",
       "  \" fill=\"#009af9\" fill-rule=\"evenodd\" fill-opacity=\"1\"/>\n",
       "<polyline clip-path=\"url(#clip9302)\" style=\"stroke:#000000; stroke-width:4; stroke-opacity:1; fill:none\" points=\"\n",
       "  1923.23,1386.61 1923.23,1386.61 1932.17,1386.61 1923.23,1386.61 \n",
       "  \"/>\n",
       "<path clip-path=\"url(#clip9302)\" d=\"\n",
       "M1932.17 1386.61 L1932.17 1386.61 L1941.11 1386.61 L1941.11 1386.61 L1932.17 1386.61 L1932.17 1386.61  Z\n",
       "  \" fill=\"#009af9\" fill-rule=\"evenodd\" fill-opacity=\"1\"/>\n",
       "<polyline clip-path=\"url(#clip9302)\" style=\"stroke:#000000; stroke-width:4; stroke-opacity:1; fill:none\" points=\"\n",
       "  1932.17,1386.61 1932.17,1386.61 1941.11,1386.61 1932.17,1386.61 \n",
       "  \"/>\n",
       "<path clip-path=\"url(#clip9302)\" d=\"\n",
       "M1941.11 1386.61 L1941.11 1386.61 L1950.05 1386.61 L1950.05 1386.61 L1941.11 1386.61 L1941.11 1386.61  Z\n",
       "  \" fill=\"#009af9\" fill-rule=\"evenodd\" fill-opacity=\"1\"/>\n",
       "<polyline clip-path=\"url(#clip9302)\" style=\"stroke:#000000; stroke-width:4; stroke-opacity:1; fill:none\" points=\"\n",
       "  1941.11,1386.61 1941.11,1386.61 1950.05,1386.61 1941.11,1386.61 \n",
       "  \"/>\n",
       "<path clip-path=\"url(#clip9302)\" d=\"\n",
       "M1950.05 1386.61 L1950.05 1386.61 L1958.99 1386.61 L1958.99 1386.61 L1950.05 1386.61 L1950.05 1386.61  Z\n",
       "  \" fill=\"#009af9\" fill-rule=\"evenodd\" fill-opacity=\"1\"/>\n",
       "<polyline clip-path=\"url(#clip9302)\" style=\"stroke:#000000; stroke-width:4; stroke-opacity:1; fill:none\" points=\"\n",
       "  1950.05,1386.61 1950.05,1386.61 1958.99,1386.61 1950.05,1386.61 \n",
       "  \"/>\n",
       "<path clip-path=\"url(#clip9302)\" d=\"\n",
       "M1958.99 1386.61 L1958.99 1386.61 L1967.94 1386.61 L1967.94 1386.61 L1958.99 1386.61 L1958.99 1386.61  Z\n",
       "  \" fill=\"#009af9\" fill-rule=\"evenodd\" fill-opacity=\"1\"/>\n",
       "<polyline clip-path=\"url(#clip9302)\" style=\"stroke:#000000; stroke-width:4; stroke-opacity:1; fill:none\" points=\"\n",
       "  1958.99,1386.61 1958.99,1386.61 1967.94,1386.61 1958.99,1386.61 \n",
       "  \"/>\n",
       "<path clip-path=\"url(#clip9302)\" d=\"\n",
       "M1967.94 1386.61 L1967.94 1386.61 L1976.88 1386.61 L1976.88 1386.61 L1967.94 1386.61 L1967.94 1386.61  Z\n",
       "  \" fill=\"#009af9\" fill-rule=\"evenodd\" fill-opacity=\"1\"/>\n",
       "<polyline clip-path=\"url(#clip9302)\" style=\"stroke:#000000; stroke-width:4; stroke-opacity:1; fill:none\" points=\"\n",
       "  1967.94,1386.61 1967.94,1386.61 1976.88,1386.61 1967.94,1386.61 \n",
       "  \"/>\n",
       "<path clip-path=\"url(#clip9302)\" d=\"\n",
       "M1976.88 1386.61 L1976.88 1386.61 L1985.82 1386.61 L1985.82 1386.61 L1976.88 1386.61 L1976.88 1386.61  Z\n",
       "  \" fill=\"#009af9\" fill-rule=\"evenodd\" fill-opacity=\"1\"/>\n",
       "<polyline clip-path=\"url(#clip9302)\" style=\"stroke:#000000; stroke-width:4; stroke-opacity:1; fill:none\" points=\"\n",
       "  1976.88,1386.61 1976.88,1386.61 1985.82,1386.61 1976.88,1386.61 \n",
       "  \"/>\n",
       "<path clip-path=\"url(#clip9302)\" d=\"\n",
       "M1985.82 1386.61 L1985.82 1386.61 L1994.76 1386.61 L1994.76 1386.61 L1985.82 1386.61 L1985.82 1386.61  Z\n",
       "  \" fill=\"#009af9\" fill-rule=\"evenodd\" fill-opacity=\"1\"/>\n",
       "<polyline clip-path=\"url(#clip9302)\" style=\"stroke:#000000; stroke-width:4; stroke-opacity:1; fill:none\" points=\"\n",
       "  1985.82,1386.61 1985.82,1386.61 1994.76,1386.61 1985.82,1386.61 \n",
       "  \"/>\n",
       "<path clip-path=\"url(#clip9302)\" d=\"\n",
       "M1994.76 1386.61 L1994.76 1386.61 L2003.7 1386.61 L2003.7 1386.61 L1994.76 1386.61 L1994.76 1386.61  Z\n",
       "  \" fill=\"#009af9\" fill-rule=\"evenodd\" fill-opacity=\"1\"/>\n",
       "<polyline clip-path=\"url(#clip9302)\" style=\"stroke:#000000; stroke-width:4; stroke-opacity:1; fill:none\" points=\"\n",
       "  1994.76,1386.61 1994.76,1386.61 2003.7,1386.61 1994.76,1386.61 \n",
       "  \"/>\n",
       "<path clip-path=\"url(#clip9302)\" d=\"\n",
       "M2003.7 1386.61 L2003.7 1386.61 L2012.65 1386.61 L2012.65 1386.61 L2003.7 1386.61 L2003.7 1386.61  Z\n",
       "  \" fill=\"#009af9\" fill-rule=\"evenodd\" fill-opacity=\"1\"/>\n",
       "<polyline clip-path=\"url(#clip9302)\" style=\"stroke:#000000; stroke-width:4; stroke-opacity:1; fill:none\" points=\"\n",
       "  2003.7,1386.61 2003.7,1386.61 2012.65,1386.61 2003.7,1386.61 \n",
       "  \"/>\n",
       "<path clip-path=\"url(#clip9302)\" d=\"\n",
       "M2012.65 1386.61 L2012.65 1386.61 L2021.59 1386.61 L2021.59 1386.61 L2012.65 1386.61 L2012.65 1386.61  Z\n",
       "  \" fill=\"#009af9\" fill-rule=\"evenodd\" fill-opacity=\"1\"/>\n",
       "<polyline clip-path=\"url(#clip9302)\" style=\"stroke:#000000; stroke-width:4; stroke-opacity:1; fill:none\" points=\"\n",
       "  2012.65,1386.61 2012.65,1386.61 2021.59,1386.61 2012.65,1386.61 \n",
       "  \"/>\n",
       "<path clip-path=\"url(#clip9302)\" d=\"\n",
       "M2021.59 1386.61 L2021.59 1386.61 L2030.53 1386.61 L2030.53 1386.61 L2021.59 1386.61 L2021.59 1386.61  Z\n",
       "  \" fill=\"#009af9\" fill-rule=\"evenodd\" fill-opacity=\"1\"/>\n",
       "<polyline clip-path=\"url(#clip9302)\" style=\"stroke:#000000; stroke-width:4; stroke-opacity:1; fill:none\" points=\"\n",
       "  2021.59,1386.61 2021.59,1386.61 2030.53,1386.61 2021.59,1386.61 \n",
       "  \"/>\n",
       "<path clip-path=\"url(#clip9302)\" d=\"\n",
       "M2030.53 1386.61 L2030.53 1386.61 L2039.47 1386.61 L2039.47 1386.61 L2030.53 1386.61 L2030.53 1386.61  Z\n",
       "  \" fill=\"#009af9\" fill-rule=\"evenodd\" fill-opacity=\"1\"/>\n",
       "<polyline clip-path=\"url(#clip9302)\" style=\"stroke:#000000; stroke-width:4; stroke-opacity:1; fill:none\" points=\"\n",
       "  2030.53,1386.61 2030.53,1386.61 2039.47,1386.61 2030.53,1386.61 \n",
       "  \"/>\n",
       "<path clip-path=\"url(#clip9302)\" d=\"\n",
       "M2039.47 1386.61 L2039.47 1386.61 L2048.42 1386.61 L2048.42 1386.61 L2039.47 1386.61 L2039.47 1386.61  Z\n",
       "  \" fill=\"#009af9\" fill-rule=\"evenodd\" fill-opacity=\"1\"/>\n",
       "<polyline clip-path=\"url(#clip9302)\" style=\"stroke:#000000; stroke-width:4; stroke-opacity:1; fill:none\" points=\"\n",
       "  2039.47,1386.61 2039.47,1386.61 2048.42,1386.61 2039.47,1386.61 \n",
       "  \"/>\n",
       "<path clip-path=\"url(#clip9302)\" d=\"\n",
       "M2048.42 1386.61 L2048.42 1386.61 L2057.36 1386.61 L2057.36 1386.61 L2048.42 1386.61 L2048.42 1386.61  Z\n",
       "  \" fill=\"#009af9\" fill-rule=\"evenodd\" fill-opacity=\"1\"/>\n",
       "<polyline clip-path=\"url(#clip9302)\" style=\"stroke:#000000; stroke-width:4; stroke-opacity:1; fill:none\" points=\"\n",
       "  2048.42,1386.61 2048.42,1386.61 2057.36,1386.61 2048.42,1386.61 \n",
       "  \"/>\n",
       "<path clip-path=\"url(#clip9302)\" d=\"\n",
       "M2057.36 1386.61 L2057.36 1386.61 L2066.3 1386.61 L2066.3 1386.61 L2057.36 1386.61 L2057.36 1386.61  Z\n",
       "  \" fill=\"#009af9\" fill-rule=\"evenodd\" fill-opacity=\"1\"/>\n",
       "<polyline clip-path=\"url(#clip9302)\" style=\"stroke:#000000; stroke-width:4; stroke-opacity:1; fill:none\" points=\"\n",
       "  2057.36,1386.61 2057.36,1386.61 2066.3,1386.61 2057.36,1386.61 \n",
       "  \"/>\n",
       "<path clip-path=\"url(#clip9302)\" d=\"\n",
       "M2066.3 1386.61 L2066.3 1386.61 L2075.24 1386.61 L2075.24 1386.61 L2066.3 1386.61 L2066.3 1386.61  Z\n",
       "  \" fill=\"#009af9\" fill-rule=\"evenodd\" fill-opacity=\"1\"/>\n",
       "<polyline clip-path=\"url(#clip9302)\" style=\"stroke:#000000; stroke-width:4; stroke-opacity:1; fill:none\" points=\"\n",
       "  2066.3,1386.61 2066.3,1386.61 2075.24,1386.61 2066.3,1386.61 \n",
       "  \"/>\n",
       "<path clip-path=\"url(#clip9302)\" d=\"\n",
       "M2075.24 1386.61 L2075.24 1386.61 L2084.18 1386.61 L2084.18 1386.61 L2075.24 1386.61 L2075.24 1386.61  Z\n",
       "  \" fill=\"#009af9\" fill-rule=\"evenodd\" fill-opacity=\"1\"/>\n",
       "<polyline clip-path=\"url(#clip9302)\" style=\"stroke:#000000; stroke-width:4; stroke-opacity:1; fill:none\" points=\"\n",
       "  2075.24,1386.61 2075.24,1386.61 2084.18,1386.61 2075.24,1386.61 \n",
       "  \"/>\n",
       "<path clip-path=\"url(#clip9302)\" d=\"\n",
       "M2084.18 1386.61 L2084.18 1386.61 L2093.13 1386.61 L2093.13 1386.61 L2084.18 1386.61 L2084.18 1386.61  Z\n",
       "  \" fill=\"#009af9\" fill-rule=\"evenodd\" fill-opacity=\"1\"/>\n",
       "<polyline clip-path=\"url(#clip9302)\" style=\"stroke:#000000; stroke-width:4; stroke-opacity:1; fill:none\" points=\"\n",
       "  2084.18,1386.61 2084.18,1386.61 2093.13,1386.61 2084.18,1386.61 \n",
       "  \"/>\n",
       "<path clip-path=\"url(#clip9302)\" d=\"\n",
       "M2093.13 1386.61 L2093.13 1386.61 L2102.07 1386.61 L2102.07 1386.61 L2093.13 1386.61 L2093.13 1386.61  Z\n",
       "  \" fill=\"#009af9\" fill-rule=\"evenodd\" fill-opacity=\"1\"/>\n",
       "<polyline clip-path=\"url(#clip9302)\" style=\"stroke:#000000; stroke-width:4; stroke-opacity:1; fill:none\" points=\"\n",
       "  2093.13,1386.61 2093.13,1386.61 2102.07,1386.61 2093.13,1386.61 \n",
       "  \"/>\n",
       "<path clip-path=\"url(#clip9302)\" d=\"\n",
       "M2102.07 1386.61 L2102.07 1386.61 L2111.01 1386.61 L2111.01 1386.61 L2102.07 1386.61 L2102.07 1386.61  Z\n",
       "  \" fill=\"#009af9\" fill-rule=\"evenodd\" fill-opacity=\"1\"/>\n",
       "<polyline clip-path=\"url(#clip9302)\" style=\"stroke:#000000; stroke-width:4; stroke-opacity:1; fill:none\" points=\"\n",
       "  2102.07,1386.61 2102.07,1386.61 2111.01,1386.61 2102.07,1386.61 \n",
       "  \"/>\n",
       "<path clip-path=\"url(#clip9302)\" d=\"\n",
       "M2111.01 1386.61 L2111.01 1386.61 L2119.95 1386.61 L2119.95 1386.61 L2111.01 1386.61 L2111.01 1386.61  Z\n",
       "  \" fill=\"#009af9\" fill-rule=\"evenodd\" fill-opacity=\"1\"/>\n",
       "<polyline clip-path=\"url(#clip9302)\" style=\"stroke:#000000; stroke-width:4; stroke-opacity:1; fill:none\" points=\"\n",
       "  2111.01,1386.61 2111.01,1386.61 2119.95,1386.61 2111.01,1386.61 \n",
       "  \"/>\n",
       "<path clip-path=\"url(#clip9302)\" d=\"\n",
       "M2119.95 1386.61 L2119.95 1386.61 L2128.9 1386.61 L2128.9 1386.61 L2119.95 1386.61 L2119.95 1386.61  Z\n",
       "  \" fill=\"#009af9\" fill-rule=\"evenodd\" fill-opacity=\"1\"/>\n",
       "<polyline clip-path=\"url(#clip9302)\" style=\"stroke:#000000; stroke-width:4; stroke-opacity:1; fill:none\" points=\"\n",
       "  2119.95,1386.61 2119.95,1386.61 2128.9,1386.61 2119.95,1386.61 \n",
       "  \"/>\n",
       "<path clip-path=\"url(#clip9302)\" d=\"\n",
       "M2128.9 1386.61 L2128.9 1386.61 L2137.84 1386.61 L2137.84 1386.61 L2128.9 1386.61 L2128.9 1386.61  Z\n",
       "  \" fill=\"#009af9\" fill-rule=\"evenodd\" fill-opacity=\"1\"/>\n",
       "<polyline clip-path=\"url(#clip9302)\" style=\"stroke:#000000; stroke-width:4; stroke-opacity:1; fill:none\" points=\"\n",
       "  2128.9,1386.61 2128.9,1386.61 2137.84,1386.61 2128.9,1386.61 \n",
       "  \"/>\n",
       "<path clip-path=\"url(#clip9302)\" d=\"\n",
       "M2137.84 1386.61 L2137.84 1386.61 L2146.78 1386.61 L2146.78 1386.61 L2137.84 1386.61 L2137.84 1386.61  Z\n",
       "  \" fill=\"#009af9\" fill-rule=\"evenodd\" fill-opacity=\"1\"/>\n",
       "<polyline clip-path=\"url(#clip9302)\" style=\"stroke:#000000; stroke-width:4; stroke-opacity:1; fill:none\" points=\"\n",
       "  2137.84,1386.61 2137.84,1386.61 2146.78,1386.61 2137.84,1386.61 \n",
       "  \"/>\n",
       "<path clip-path=\"url(#clip9302)\" d=\"\n",
       "M2146.78 1386.61 L2146.78 1386.61 L2155.72 1386.61 L2155.72 1386.61 L2146.78 1386.61 L2146.78 1386.61  Z\n",
       "  \" fill=\"#009af9\" fill-rule=\"evenodd\" fill-opacity=\"1\"/>\n",
       "<polyline clip-path=\"url(#clip9302)\" style=\"stroke:#000000; stroke-width:4; stroke-opacity:1; fill:none\" points=\"\n",
       "  2146.78,1386.61 2146.78,1386.61 2155.72,1386.61 2146.78,1386.61 \n",
       "  \"/>\n",
       "<path clip-path=\"url(#clip9302)\" d=\"\n",
       "M2155.72 1386.61 L2155.72 1386.61 L2164.66 1386.61 L2164.66 1386.61 L2155.72 1386.61 L2155.72 1386.61  Z\n",
       "  \" fill=\"#009af9\" fill-rule=\"evenodd\" fill-opacity=\"1\"/>\n",
       "<polyline clip-path=\"url(#clip9302)\" style=\"stroke:#000000; stroke-width:4; stroke-opacity:1; fill:none\" points=\"\n",
       "  2155.72,1386.61 2155.72,1386.61 2164.66,1386.61 2155.72,1386.61 \n",
       "  \"/>\n",
       "<path clip-path=\"url(#clip9302)\" d=\"\n",
       "M2164.66 1386.61 L2164.66 1386.61 L2173.61 1386.61 L2173.61 1386.61 L2164.66 1386.61 L2164.66 1386.61  Z\n",
       "  \" fill=\"#009af9\" fill-rule=\"evenodd\" fill-opacity=\"1\"/>\n",
       "<polyline clip-path=\"url(#clip9302)\" style=\"stroke:#000000; stroke-width:4; stroke-opacity:1; fill:none\" points=\"\n",
       "  2164.66,1386.61 2164.66,1386.61 2173.61,1386.61 2164.66,1386.61 \n",
       "  \"/>\n",
       "<path clip-path=\"url(#clip9302)\" d=\"\n",
       "M2173.61 1386.61 L2173.61 1386.61 L2182.55 1386.61 L2182.55 1386.61 L2173.61 1386.61 L2173.61 1386.61  Z\n",
       "  \" fill=\"#009af9\" fill-rule=\"evenodd\" fill-opacity=\"1\"/>\n",
       "<polyline clip-path=\"url(#clip9302)\" style=\"stroke:#000000; stroke-width:4; stroke-opacity:1; fill:none\" points=\"\n",
       "  2173.61,1386.61 2173.61,1386.61 2182.55,1386.61 2173.61,1386.61 \n",
       "  \"/>\n",
       "<path clip-path=\"url(#clip9302)\" d=\"\n",
       "M2182.55 1386.61 L2182.55 1386.61 L2191.49 1386.61 L2191.49 1386.61 L2182.55 1386.61 L2182.55 1386.61  Z\n",
       "  \" fill=\"#009af9\" fill-rule=\"evenodd\" fill-opacity=\"1\"/>\n",
       "<polyline clip-path=\"url(#clip9302)\" style=\"stroke:#000000; stroke-width:4; stroke-opacity:1; fill:none\" points=\"\n",
       "  2182.55,1386.61 2182.55,1386.61 2191.49,1386.61 2182.55,1386.61 \n",
       "  \"/>\n",
       "<path clip-path=\"url(#clip9302)\" d=\"\n",
       "M2191.49 1386.61 L2191.49 1386.61 L2200.43 1386.61 L2200.43 1386.61 L2191.49 1386.61 L2191.49 1386.61  Z\n",
       "  \" fill=\"#009af9\" fill-rule=\"evenodd\" fill-opacity=\"1\"/>\n",
       "<polyline clip-path=\"url(#clip9302)\" style=\"stroke:#000000; stroke-width:4; stroke-opacity:1; fill:none\" points=\"\n",
       "  2191.49,1386.61 2191.49,1386.61 2200.43,1386.61 2191.49,1386.61 \n",
       "  \"/>\n",
       "<path clip-path=\"url(#clip9302)\" d=\"\n",
       "M2200.43 1386.61 L2200.43 1386.61 L2209.38 1386.61 L2209.38 1386.61 L2200.43 1386.61 L2200.43 1386.61  Z\n",
       "  \" fill=\"#009af9\" fill-rule=\"evenodd\" fill-opacity=\"1\"/>\n",
       "<polyline clip-path=\"url(#clip9302)\" style=\"stroke:#000000; stroke-width:4; stroke-opacity:1; fill:none\" points=\"\n",
       "  2200.43,1386.61 2200.43,1386.61 2209.38,1386.61 2200.43,1386.61 \n",
       "  \"/>\n",
       "<path clip-path=\"url(#clip9302)\" d=\"\n",
       "M2209.38 1386.61 L2209.38 1386.61 L2218.32 1386.61 L2218.32 1386.61 L2209.38 1386.61 L2209.38 1386.61  Z\n",
       "  \" fill=\"#009af9\" fill-rule=\"evenodd\" fill-opacity=\"1\"/>\n",
       "<polyline clip-path=\"url(#clip9302)\" style=\"stroke:#000000; stroke-width:4; stroke-opacity:1; fill:none\" points=\"\n",
       "  2209.38,1386.61 2209.38,1386.61 2218.32,1386.61 2209.38,1386.61 \n",
       "  \"/>\n",
       "<path clip-path=\"url(#clip9302)\" d=\"\n",
       "M2218.32 1386.61 L2218.32 1386.61 L2227.26 1386.61 L2227.26 1386.61 L2218.32 1386.61 L2218.32 1386.61  Z\n",
       "  \" fill=\"#009af9\" fill-rule=\"evenodd\" fill-opacity=\"1\"/>\n",
       "<polyline clip-path=\"url(#clip9302)\" style=\"stroke:#000000; stroke-width:4; stroke-opacity:1; fill:none\" points=\"\n",
       "  2218.32,1386.61 2218.32,1386.61 2227.26,1386.61 2218.32,1386.61 \n",
       "  \"/>\n",
       "<path clip-path=\"url(#clip9302)\" d=\"\n",
       "M2227.26 1386.61 L2227.26 1386.61 L2236.2 1386.61 L2236.2 1386.61 L2227.26 1386.61 L2227.26 1386.61  Z\n",
       "  \" fill=\"#009af9\" fill-rule=\"evenodd\" fill-opacity=\"1\"/>\n",
       "<polyline clip-path=\"url(#clip9302)\" style=\"stroke:#000000; stroke-width:4; stroke-opacity:1; fill:none\" points=\"\n",
       "  2227.26,1386.61 2227.26,1386.61 2236.2,1386.61 2227.26,1386.61 \n",
       "  \"/>\n",
       "<path clip-path=\"url(#clip9302)\" d=\"\n",
       "M2236.2 1386.61 L2236.2 1386.61 L2245.14 1386.61 L2245.14 1386.61 L2236.2 1386.61 L2236.2 1386.61  Z\n",
       "  \" fill=\"#009af9\" fill-rule=\"evenodd\" fill-opacity=\"1\"/>\n",
       "<polyline clip-path=\"url(#clip9302)\" style=\"stroke:#000000; stroke-width:4; stroke-opacity:1; fill:none\" points=\"\n",
       "  2236.2,1386.61 2236.2,1386.61 2245.14,1386.61 2236.2,1386.61 \n",
       "  \"/>\n",
       "<path clip-path=\"url(#clip9302)\" d=\"\n",
       "M2245.14 1386.61 L2245.14 1386.61 L2254.09 1386.61 L2254.09 1386.61 L2245.14 1386.61 L2245.14 1386.61  Z\n",
       "  \" fill=\"#009af9\" fill-rule=\"evenodd\" fill-opacity=\"1\"/>\n",
       "<polyline clip-path=\"url(#clip9302)\" style=\"stroke:#000000; stroke-width:4; stroke-opacity:1; fill:none\" points=\"\n",
       "  2245.14,1386.61 2245.14,1386.61 2254.09,1386.61 2245.14,1386.61 \n",
       "  \"/>\n",
       "<path clip-path=\"url(#clip9302)\" d=\"\n",
       "M2254.09 1386.61 L2254.09 1386.61 L2263.03 1386.61 L2263.03 1386.61 L2254.09 1386.61 L2254.09 1386.61  Z\n",
       "  \" fill=\"#009af9\" fill-rule=\"evenodd\" fill-opacity=\"1\"/>\n",
       "<polyline clip-path=\"url(#clip9302)\" style=\"stroke:#000000; stroke-width:4; stroke-opacity:1; fill:none\" points=\"\n",
       "  2254.09,1386.61 2254.09,1386.61 2263.03,1386.61 2254.09,1386.61 \n",
       "  \"/>\n",
       "<path clip-path=\"url(#clip9302)\" d=\"\n",
       "M2263.03 1386.61 L2263.03 1386.61 L2271.97 1386.61 L2271.97 1386.61 L2263.03 1386.61 L2263.03 1386.61  Z\n",
       "  \" fill=\"#009af9\" fill-rule=\"evenodd\" fill-opacity=\"1\"/>\n",
       "<polyline clip-path=\"url(#clip9302)\" style=\"stroke:#000000; stroke-width:4; stroke-opacity:1; fill:none\" points=\"\n",
       "  2263.03,1386.61 2263.03,1386.61 2271.97,1386.61 2263.03,1386.61 \n",
       "  \"/>\n",
       "<path clip-path=\"url(#clip9302)\" d=\"\n",
       "M2271.97 1386.61 L2271.97 1386.61 L2280.91 1386.61 L2280.91 1386.61 L2271.97 1386.61 L2271.97 1386.61  Z\n",
       "  \" fill=\"#009af9\" fill-rule=\"evenodd\" fill-opacity=\"1\"/>\n",
       "<polyline clip-path=\"url(#clip9302)\" style=\"stroke:#000000; stroke-width:4; stroke-opacity:1; fill:none\" points=\"\n",
       "  2271.97,1386.61 2271.97,1386.61 2280.91,1386.61 2271.97,1386.61 \n",
       "  \"/>\n",
       "<path clip-path=\"url(#clip9302)\" d=\"\n",
       "M2280.91 1386.61 L2280.91 1386.61 L2289.85 1386.61 L2289.85 1386.61 L2280.91 1386.61 L2280.91 1386.61  Z\n",
       "  \" fill=\"#009af9\" fill-rule=\"evenodd\" fill-opacity=\"1\"/>\n",
       "<polyline clip-path=\"url(#clip9302)\" style=\"stroke:#000000; stroke-width:4; stroke-opacity:1; fill:none\" points=\"\n",
       "  2280.91,1386.61 2280.91,1386.61 2289.85,1386.61 2280.91,1386.61 \n",
       "  \"/>\n",
       "<path clip-path=\"url(#clip9302)\" d=\"\n",
       "M2289.85 1386.61 L2289.85 1386.61 L2298.8 1386.61 L2298.8 1386.61 L2289.85 1386.61 L2289.85 1386.61  Z\n",
       "  \" fill=\"#009af9\" fill-rule=\"evenodd\" fill-opacity=\"1\"/>\n",
       "<polyline clip-path=\"url(#clip9302)\" style=\"stroke:#000000; stroke-width:4; stroke-opacity:1; fill:none\" points=\"\n",
       "  2289.85,1386.61 2289.85,1386.61 2298.8,1386.61 2289.85,1386.61 \n",
       "  \"/>\n",
       "<path clip-path=\"url(#clip9302)\" d=\"\n",
       "M2298.8 1386.61 L2298.8 1386.61 L2307.74 1386.61 L2307.74 1386.61 L2298.8 1386.61 L2298.8 1386.61  Z\n",
       "  \" fill=\"#009af9\" fill-rule=\"evenodd\" fill-opacity=\"1\"/>\n",
       "<polyline clip-path=\"url(#clip9302)\" style=\"stroke:#000000; stroke-width:4; stroke-opacity:1; fill:none\" points=\"\n",
       "  2298.8,1386.61 2298.8,1386.61 2307.74,1386.61 2298.8,1386.61 \n",
       "  \"/>\n",
       "<path clip-path=\"url(#clip9302)\" d=\"\n",
       "M2307.74 1386.61 L2307.74 1386.61 L2316.68 1386.61 L2316.68 1386.61 L2307.74 1386.61 L2307.74 1386.61  Z\n",
       "  \" fill=\"#009af9\" fill-rule=\"evenodd\" fill-opacity=\"1\"/>\n",
       "<polyline clip-path=\"url(#clip9302)\" style=\"stroke:#000000; stroke-width:4; stroke-opacity:1; fill:none\" points=\"\n",
       "  2307.74,1386.61 2307.74,1386.61 2316.68,1386.61 2307.74,1386.61 \n",
       "  \"/>\n",
       "<path clip-path=\"url(#clip9302)\" d=\"\n",
       "M2316.68 1386.61 L2316.68 1386.61 L2325.62 1386.61 L2325.62 1386.61 L2316.68 1386.61 L2316.68 1386.61  Z\n",
       "  \" fill=\"#009af9\" fill-rule=\"evenodd\" fill-opacity=\"1\"/>\n",
       "<polyline clip-path=\"url(#clip9302)\" style=\"stroke:#000000; stroke-width:4; stroke-opacity:1; fill:none\" points=\"\n",
       "  2316.68,1386.61 2316.68,1386.61 2325.62,1386.61 2316.68,1386.61 \n",
       "  \"/>\n",
       "<path clip-path=\"url(#clip9302)\" d=\"\n",
       "M2325.62 1386.61 L2325.62 1386.61 L2334.57 1386.61 L2334.57 1386.61 L2325.62 1386.61 L2325.62 1386.61  Z\n",
       "  \" fill=\"#009af9\" fill-rule=\"evenodd\" fill-opacity=\"1\"/>\n",
       "<polyline clip-path=\"url(#clip9302)\" style=\"stroke:#000000; stroke-width:4; stroke-opacity:1; fill:none\" points=\"\n",
       "  2325.62,1386.61 2325.62,1386.61 2334.57,1386.61 2325.62,1386.61 \n",
       "  \"/>\n",
       "<path clip-path=\"url(#clip9302)\" d=\"\n",
       "M2334.57 1386.61 L2334.57 1386.61 L2343.51 1386.61 L2343.51 1386.61 L2334.57 1386.61 L2334.57 1386.61  Z\n",
       "  \" fill=\"#009af9\" fill-rule=\"evenodd\" fill-opacity=\"1\"/>\n",
       "<polyline clip-path=\"url(#clip9302)\" style=\"stroke:#000000; stroke-width:4; stroke-opacity:1; fill:none\" points=\"\n",
       "  2334.57,1386.61 2334.57,1386.61 2343.51,1386.61 2334.57,1386.61 \n",
       "  \"/>\n",
       "<path clip-path=\"url(#clip9302)\" d=\"\n",
       "M2343.51 1386.61 L2343.51 1386.61 L2352.45 1386.61 L2352.45 1386.61 L2343.51 1386.61 L2343.51 1386.61  Z\n",
       "  \" fill=\"#009af9\" fill-rule=\"evenodd\" fill-opacity=\"1\"/>\n",
       "<polyline clip-path=\"url(#clip9302)\" style=\"stroke:#000000; stroke-width:4; stroke-opacity:1; fill:none\" points=\"\n",
       "  2343.51,1386.61 2343.51,1386.61 2352.45,1386.61 2343.51,1386.61 \n",
       "  \"/>\n",
       "<path clip-path=\"url(#clip9302)\" d=\"\n",
       "M2352.45 1386.61 L2352.45 1386.61 L2361.39 1386.61 L2361.39 1386.61 L2352.45 1386.61 L2352.45 1386.61  Z\n",
       "  \" fill=\"#009af9\" fill-rule=\"evenodd\" fill-opacity=\"1\"/>\n",
       "<polyline clip-path=\"url(#clip9302)\" style=\"stroke:#000000; stroke-width:4; stroke-opacity:1; fill:none\" points=\"\n",
       "  2352.45,1386.61 2352.45,1386.61 2361.39,1386.61 2352.45,1386.61 \n",
       "  \"/>\n",
       "<path clip-path=\"url(#clip9302)\" d=\"\n",
       "M2361.39 1386.61 L2361.39 1386.61 L2370.33 1386.61 L2370.33 1386.61 L2361.39 1386.61 L2361.39 1386.61  Z\n",
       "  \" fill=\"#009af9\" fill-rule=\"evenodd\" fill-opacity=\"1\"/>\n",
       "<polyline clip-path=\"url(#clip9302)\" style=\"stroke:#000000; stroke-width:4; stroke-opacity:1; fill:none\" points=\"\n",
       "  2361.39,1386.61 2361.39,1386.61 2370.33,1386.61 2361.39,1386.61 \n",
       "  \"/>\n",
       "<path clip-path=\"url(#clip9302)\" d=\"\n",
       "M2370.33 1386.61 L2370.33 1386.61 L2379.28 1386.61 L2379.28 1386.61 L2370.33 1386.61 L2370.33 1386.61  Z\n",
       "  \" fill=\"#009af9\" fill-rule=\"evenodd\" fill-opacity=\"1\"/>\n",
       "<polyline clip-path=\"url(#clip9302)\" style=\"stroke:#000000; stroke-width:4; stroke-opacity:1; fill:none\" points=\"\n",
       "  2370.33,1386.61 2370.33,1386.61 2379.28,1386.61 2370.33,1386.61 \n",
       "  \"/>\n",
       "<path clip-path=\"url(#clip9302)\" d=\"\n",
       "M2379.28 1386.61 L2379.28 1386.61 L2388.22 1386.61 L2388.22 1386.61 L2379.28 1386.61 L2379.28 1386.61  Z\n",
       "  \" fill=\"#009af9\" fill-rule=\"evenodd\" fill-opacity=\"1\"/>\n",
       "<polyline clip-path=\"url(#clip9302)\" style=\"stroke:#000000; stroke-width:4; stroke-opacity:1; fill:none\" points=\"\n",
       "  2379.28,1386.61 2379.28,1386.61 2388.22,1386.61 2379.28,1386.61 \n",
       "  \"/>\n",
       "<path clip-path=\"url(#clip9302)\" d=\"\n",
       "M2388.22 1386.61 L2388.22 1386.61 L2397.16 1386.61 L2397.16 1386.61 L2388.22 1386.61 L2388.22 1386.61  Z\n",
       "  \" fill=\"#009af9\" fill-rule=\"evenodd\" fill-opacity=\"1\"/>\n",
       "<polyline clip-path=\"url(#clip9302)\" style=\"stroke:#000000; stroke-width:4; stroke-opacity:1; fill:none\" points=\"\n",
       "  2388.22,1386.61 2388.22,1386.61 2397.16,1386.61 2388.22,1386.61 \n",
       "  \"/>\n",
       "<path clip-path=\"url(#clip9302)\" d=\"\n",
       "M2397.16 1386.61 L2397.16 1386.61 L2406.1 1386.61 L2406.1 1386.61 L2397.16 1386.61 L2397.16 1386.61  Z\n",
       "  \" fill=\"#009af9\" fill-rule=\"evenodd\" fill-opacity=\"1\"/>\n",
       "<polyline clip-path=\"url(#clip9302)\" style=\"stroke:#000000; stroke-width:4; stroke-opacity:1; fill:none\" points=\"\n",
       "  2397.16,1386.61 2397.16,1386.61 2406.1,1386.61 2397.16,1386.61 \n",
       "  \"/>\n",
       "<path clip-path=\"url(#clip9302)\" d=\"\n",
       "M2406.1 1386.61 L2406.1 1386.61 L2415.05 1386.61 L2415.05 1386.61 L2406.1 1386.61 L2406.1 1386.61  Z\n",
       "  \" fill=\"#009af9\" fill-rule=\"evenodd\" fill-opacity=\"1\"/>\n",
       "<polyline clip-path=\"url(#clip9302)\" style=\"stroke:#000000; stroke-width:4; stroke-opacity:1; fill:none\" points=\"\n",
       "  2406.1,1386.61 2406.1,1386.61 2415.05,1386.61 2406.1,1386.61 \n",
       "  \"/>\n",
       "<path clip-path=\"url(#clip9302)\" d=\"\n",
       "M2415.05 1386.61 L2415.05 1386.61 L2423.99 1386.61 L2423.99 1386.61 L2415.05 1386.61 L2415.05 1386.61  Z\n",
       "  \" fill=\"#009af9\" fill-rule=\"evenodd\" fill-opacity=\"1\"/>\n",
       "<polyline clip-path=\"url(#clip9302)\" style=\"stroke:#000000; stroke-width:4; stroke-opacity:1; fill:none\" points=\"\n",
       "  2415.05,1386.61 2415.05,1386.61 2423.99,1386.61 2415.05,1386.61 \n",
       "  \"/>\n",
       "<path clip-path=\"url(#clip9302)\" d=\"\n",
       "M2423.99 1386.61 L2423.99 1386.61 L2432.93 1386.61 L2432.93 1386.61 L2423.99 1386.61 L2423.99 1386.61  Z\n",
       "  \" fill=\"#009af9\" fill-rule=\"evenodd\" fill-opacity=\"1\"/>\n",
       "<polyline clip-path=\"url(#clip9302)\" style=\"stroke:#000000; stroke-width:4; stroke-opacity:1; fill:none\" points=\"\n",
       "  2423.99,1386.61 2423.99,1386.61 2432.93,1386.61 2423.99,1386.61 \n",
       "  \"/>\n",
       "<path clip-path=\"url(#clip9302)\" d=\"\n",
       "M2432.93 1386.61 L2432.93 1386.61 L2441.87 1386.61 L2441.87 1386.61 L2432.93 1386.61 L2432.93 1386.61  Z\n",
       "  \" fill=\"#009af9\" fill-rule=\"evenodd\" fill-opacity=\"1\"/>\n",
       "<polyline clip-path=\"url(#clip9302)\" style=\"stroke:#000000; stroke-width:4; stroke-opacity:1; fill:none\" points=\"\n",
       "  2432.93,1386.61 2432.93,1386.61 2441.87,1386.61 2432.93,1386.61 \n",
       "  \"/>\n",
       "<path clip-path=\"url(#clip9302)\" d=\"\n",
       "M2441.87 1386.61 L2441.87 1386.61 L2450.81 1386.61 L2450.81 1386.61 L2441.87 1386.61 L2441.87 1386.61  Z\n",
       "  \" fill=\"#009af9\" fill-rule=\"evenodd\" fill-opacity=\"1\"/>\n",
       "<polyline clip-path=\"url(#clip9302)\" style=\"stroke:#000000; stroke-width:4; stroke-opacity:1; fill:none\" points=\"\n",
       "  2441.87,1386.61 2441.87,1386.61 2450.81,1386.61 2441.87,1386.61 \n",
       "  \"/>\n",
       "<path clip-path=\"url(#clip9302)\" d=\"\n",
       "M2450.81 1386.61 L2450.81 1386.61 L2459.76 1386.61 L2459.76 1386.61 L2450.81 1386.61 L2450.81 1386.61  Z\n",
       "  \" fill=\"#009af9\" fill-rule=\"evenodd\" fill-opacity=\"1\"/>\n",
       "<polyline clip-path=\"url(#clip9302)\" style=\"stroke:#000000; stroke-width:4; stroke-opacity:1; fill:none\" points=\"\n",
       "  2450.81,1386.61 2450.81,1386.61 2459.76,1386.61 2450.81,1386.61 \n",
       "  \"/>\n",
       "<path clip-path=\"url(#clip9302)\" d=\"\n",
       "M2459.76 1386.61 L2459.76 1386.61 L2468.7 1386.61 L2468.7 1386.61 L2459.76 1386.61 L2459.76 1386.61  Z\n",
       "  \" fill=\"#009af9\" fill-rule=\"evenodd\" fill-opacity=\"1\"/>\n",
       "<polyline clip-path=\"url(#clip9302)\" style=\"stroke:#000000; stroke-width:4; stroke-opacity:1; fill:none\" points=\"\n",
       "  2459.76,1386.61 2459.76,1386.61 2468.7,1386.61 2459.76,1386.61 \n",
       "  \"/>\n",
       "<path clip-path=\"url(#clip9302)\" d=\"\n",
       "M2468.7 1386.61 L2468.7 1386.61 L2477.64 1386.61 L2477.64 1386.61 L2468.7 1386.61 L2468.7 1386.61  Z\n",
       "  \" fill=\"#009af9\" fill-rule=\"evenodd\" fill-opacity=\"1\"/>\n",
       "<polyline clip-path=\"url(#clip9302)\" style=\"stroke:#000000; stroke-width:4; stroke-opacity:1; fill:none\" points=\"\n",
       "  2468.7,1386.61 2468.7,1386.61 2477.64,1386.61 2468.7,1386.61 \n",
       "  \"/>\n",
       "<path clip-path=\"url(#clip9302)\" d=\"\n",
       "M2477.64 1386.61 L2477.64 1386.61 L2486.58 1386.61 L2486.58 1386.61 L2477.64 1386.61 L2477.64 1386.61  Z\n",
       "  \" fill=\"#009af9\" fill-rule=\"evenodd\" fill-opacity=\"1\"/>\n",
       "<polyline clip-path=\"url(#clip9302)\" style=\"stroke:#000000; stroke-width:4; stroke-opacity:1; fill:none\" points=\"\n",
       "  2477.64,1386.61 2477.64,1386.61 2486.58,1386.61 2477.64,1386.61 \n",
       "  \"/>\n",
       "<path clip-path=\"url(#clip9302)\" d=\"\n",
       "M2486.58 1386.61 L2486.58 1386.61 L2495.52 1386.61 L2495.52 1386.61 L2486.58 1386.61 L2486.58 1386.61  Z\n",
       "  \" fill=\"#009af9\" fill-rule=\"evenodd\" fill-opacity=\"1\"/>\n",
       "<polyline clip-path=\"url(#clip9302)\" style=\"stroke:#000000; stroke-width:4; stroke-opacity:1; fill:none\" points=\"\n",
       "  2486.58,1386.61 2486.58,1386.61 2495.52,1386.61 2486.58,1386.61 \n",
       "  \"/>\n",
       "<path clip-path=\"url(#clip9302)\" d=\"\n",
       "M2495.52 1386.61 L2495.52 1386.61 L2504.47 1386.61 L2504.47 1386.61 L2495.52 1386.61 L2495.52 1386.61  Z\n",
       "  \" fill=\"#009af9\" fill-rule=\"evenodd\" fill-opacity=\"1\"/>\n",
       "<polyline clip-path=\"url(#clip9302)\" style=\"stroke:#000000; stroke-width:4; stroke-opacity:1; fill:none\" points=\"\n",
       "  2495.52,1386.61 2495.52,1386.61 2504.47,1386.61 2495.52,1386.61 \n",
       "  \"/>\n",
       "<path clip-path=\"url(#clip9302)\" d=\"\n",
       "M2504.47 1386.61 L2504.47 1386.61 L2513.41 1386.61 L2513.41 1386.61 L2504.47 1386.61 L2504.47 1386.61  Z\n",
       "  \" fill=\"#009af9\" fill-rule=\"evenodd\" fill-opacity=\"1\"/>\n",
       "<polyline clip-path=\"url(#clip9302)\" style=\"stroke:#000000; stroke-width:4; stroke-opacity:1; fill:none\" points=\"\n",
       "  2504.47,1386.61 2504.47,1386.61 2513.41,1386.61 2504.47,1386.61 \n",
       "  \"/>\n",
       "<path clip-path=\"url(#clip9302)\" d=\"\n",
       "M2513.41 1386.61 L2513.41 1386.61 L2522.35 1386.61 L2522.35 1386.61 L2513.41 1386.61 L2513.41 1386.61  Z\n",
       "  \" fill=\"#009af9\" fill-rule=\"evenodd\" fill-opacity=\"1\"/>\n",
       "<polyline clip-path=\"url(#clip9302)\" style=\"stroke:#000000; stroke-width:4; stroke-opacity:1; fill:none\" points=\"\n",
       "  2513.41,1386.61 2513.41,1386.61 2522.35,1386.61 2513.41,1386.61 \n",
       "  \"/>\n",
       "<path clip-path=\"url(#clip9302)\" d=\"\n",
       "M2522.35 1386.61 L2522.35 1386.61 L2531.29 1386.61 L2531.29 1386.61 L2522.35 1386.61 L2522.35 1386.61  Z\n",
       "  \" fill=\"#009af9\" fill-rule=\"evenodd\" fill-opacity=\"1\"/>\n",
       "<polyline clip-path=\"url(#clip9302)\" style=\"stroke:#000000; stroke-width:4; stroke-opacity:1; fill:none\" points=\"\n",
       "  2522.35,1386.61 2522.35,1386.61 2531.29,1386.61 2522.35,1386.61 \n",
       "  \"/>\n",
       "<path clip-path=\"url(#clip9302)\" d=\"\n",
       "M2531.29 1386.61 L2531.29 1386.61 L2540.24 1386.61 L2540.24 1386.61 L2531.29 1386.61 L2531.29 1386.61  Z\n",
       "  \" fill=\"#009af9\" fill-rule=\"evenodd\" fill-opacity=\"1\"/>\n",
       "<polyline clip-path=\"url(#clip9302)\" style=\"stroke:#000000; stroke-width:4; stroke-opacity:1; fill:none\" points=\"\n",
       "  2531.29,1386.61 2531.29,1386.61 2540.24,1386.61 2531.29,1386.61 \n",
       "  \"/>\n",
       "<path clip-path=\"url(#clip9302)\" d=\"\n",
       "M2540.24 1386.61 L2540.24 1386.61 L2549.18 1386.61 L2549.18 1386.61 L2540.24 1386.61 L2540.24 1386.61  Z\n",
       "  \" fill=\"#009af9\" fill-rule=\"evenodd\" fill-opacity=\"1\"/>\n",
       "<polyline clip-path=\"url(#clip9302)\" style=\"stroke:#000000; stroke-width:4; stroke-opacity:1; fill:none\" points=\"\n",
       "  2540.24,1386.61 2540.24,1386.61 2549.18,1386.61 2540.24,1386.61 \n",
       "  \"/>\n",
       "<path clip-path=\"url(#clip9302)\" d=\"\n",
       "M2549.18 1386.61 L2549.18 1386.61 L2558.12 1386.61 L2558.12 1386.61 L2549.18 1386.61 L2549.18 1386.61  Z\n",
       "  \" fill=\"#009af9\" fill-rule=\"evenodd\" fill-opacity=\"1\"/>\n",
       "<polyline clip-path=\"url(#clip9302)\" style=\"stroke:#000000; stroke-width:4; stroke-opacity:1; fill:none\" points=\"\n",
       "  2549.18,1386.61 2549.18,1386.61 2558.12,1386.61 2549.18,1386.61 \n",
       "  \"/>\n",
       "<path clip-path=\"url(#clip9302)\" d=\"\n",
       "M2558.12 1386.61 L2558.12 1386.61 L2567.06 1386.61 L2567.06 1386.61 L2558.12 1386.61 L2558.12 1386.61  Z\n",
       "  \" fill=\"#009af9\" fill-rule=\"evenodd\" fill-opacity=\"1\"/>\n",
       "<polyline clip-path=\"url(#clip9302)\" style=\"stroke:#000000; stroke-width:4; stroke-opacity:1; fill:none\" points=\"\n",
       "  2558.12,1386.61 2558.12,1386.61 2567.06,1386.61 2558.12,1386.61 \n",
       "  \"/>\n",
       "<path clip-path=\"url(#clip9302)\" d=\"\n",
       "M2567.06 1386.61 L2567.06 1386.61 L2576 1386.61 L2576 1386.61 L2567.06 1386.61 L2567.06 1386.61  Z\n",
       "  \" fill=\"#009af9\" fill-rule=\"evenodd\" fill-opacity=\"1\"/>\n",
       "<polyline clip-path=\"url(#clip9302)\" style=\"stroke:#000000; stroke-width:4; stroke-opacity:1; fill:none\" points=\"\n",
       "  2567.06,1386.61 2567.06,1386.61 2576,1386.61 2567.06,1386.61 \n",
       "  \"/>\n",
       "<path clip-path=\"url(#clip9302)\" d=\"\n",
       "M2576 1386.61 L2576 1386.61 L2584.95 1386.61 L2584.95 1386.61 L2576 1386.61 L2576 1386.61  Z\n",
       "  \" fill=\"#009af9\" fill-rule=\"evenodd\" fill-opacity=\"1\"/>\n",
       "<polyline clip-path=\"url(#clip9302)\" style=\"stroke:#000000; stroke-width:4; stroke-opacity:1; fill:none\" points=\"\n",
       "  2576,1386.61 2576,1386.61 2584.95,1386.61 2576,1386.61 \n",
       "  \"/>\n",
       "<path clip-path=\"url(#clip9302)\" d=\"\n",
       "M2584.95 1386.61 L2584.95 1386.61 L2593.89 1386.61 L2593.89 1386.61 L2584.95 1386.61 L2584.95 1386.61  Z\n",
       "  \" fill=\"#009af9\" fill-rule=\"evenodd\" fill-opacity=\"1\"/>\n",
       "<polyline clip-path=\"url(#clip9302)\" style=\"stroke:#000000; stroke-width:4; stroke-opacity:1; fill:none\" points=\"\n",
       "  2584.95,1386.61 2584.95,1386.61 2593.89,1386.61 2584.95,1386.61 \n",
       "  \"/>\n",
       "<path clip-path=\"url(#clip9302)\" d=\"\n",
       "M2593.89 1386.61 L2593.89 1386.61 L2602.83 1386.61 L2602.83 1386.61 L2593.89 1386.61 L2593.89 1386.61  Z\n",
       "  \" fill=\"#009af9\" fill-rule=\"evenodd\" fill-opacity=\"1\"/>\n",
       "<polyline clip-path=\"url(#clip9302)\" style=\"stroke:#000000; stroke-width:4; stroke-opacity:1; fill:none\" points=\"\n",
       "  2593.89,1386.61 2593.89,1386.61 2602.83,1386.61 2593.89,1386.61 \n",
       "  \"/>\n",
       "<path clip-path=\"url(#clip9302)\" d=\"\n",
       "M2602.83 1386.61 L2602.83 1386.61 L2611.77 1386.61 L2611.77 1386.61 L2602.83 1386.61 L2602.83 1386.61  Z\n",
       "  \" fill=\"#009af9\" fill-rule=\"evenodd\" fill-opacity=\"1\"/>\n",
       "<polyline clip-path=\"url(#clip9302)\" style=\"stroke:#000000; stroke-width:4; stroke-opacity:1; fill:none\" points=\"\n",
       "  2602.83,1386.61 2602.83,1386.61 2611.77,1386.61 2602.83,1386.61 \n",
       "  \"/>\n",
       "<path clip-path=\"url(#clip9302)\" d=\"\n",
       "M2611.77 1386.61 L2611.77 1386.61 L2620.72 1386.61 L2620.72 1386.61 L2611.77 1386.61 L2611.77 1386.61  Z\n",
       "  \" fill=\"#009af9\" fill-rule=\"evenodd\" fill-opacity=\"1\"/>\n",
       "<polyline clip-path=\"url(#clip9302)\" style=\"stroke:#000000; stroke-width:4; stroke-opacity:1; fill:none\" points=\"\n",
       "  2611.77,1386.61 2611.77,1386.61 2620.72,1386.61 2611.77,1386.61 \n",
       "  \"/>\n",
       "<path clip-path=\"url(#clip9302)\" d=\"\n",
       "M2620.72 1386.61 L2620.72 1386.61 L2629.66 1386.61 L2629.66 1386.61 L2620.72 1386.61 L2620.72 1386.61  Z\n",
       "  \" fill=\"#009af9\" fill-rule=\"evenodd\" fill-opacity=\"1\"/>\n",
       "<polyline clip-path=\"url(#clip9302)\" style=\"stroke:#000000; stroke-width:4; stroke-opacity:1; fill:none\" points=\"\n",
       "  2620.72,1386.61 2620.72,1386.61 2629.66,1386.61 2620.72,1386.61 \n",
       "  \"/>\n",
       "<path clip-path=\"url(#clip9302)\" d=\"\n",
       "M2629.66 1386.61 L2629.66 1386.61 L2638.6 1386.61 L2638.6 1386.61 L2629.66 1386.61 L2629.66 1386.61  Z\n",
       "  \" fill=\"#009af9\" fill-rule=\"evenodd\" fill-opacity=\"1\"/>\n",
       "<polyline clip-path=\"url(#clip9302)\" style=\"stroke:#000000; stroke-width:4; stroke-opacity:1; fill:none\" points=\"\n",
       "  2629.66,1386.61 2629.66,1386.61 2638.6,1386.61 2629.66,1386.61 \n",
       "  \"/>\n",
       "<path clip-path=\"url(#clip9302)\" d=\"\n",
       "M2638.6 1386.61 L2638.6 1386.61 L2647.54 1386.61 L2647.54 1386.61 L2638.6 1386.61 L2638.6 1386.61  Z\n",
       "  \" fill=\"#009af9\" fill-rule=\"evenodd\" fill-opacity=\"1\"/>\n",
       "<polyline clip-path=\"url(#clip9302)\" style=\"stroke:#000000; stroke-width:4; stroke-opacity:1; fill:none\" points=\"\n",
       "  2638.6,1386.61 2638.6,1386.61 2647.54,1386.61 2638.6,1386.61 \n",
       "  \"/>\n",
       "<path clip-path=\"url(#clip9302)\" d=\"\n",
       "M2647.54 1386.61 L2647.54 1386.61 L2656.48 1386.61 L2656.48 1386.61 L2647.54 1386.61 L2647.54 1386.61  Z\n",
       "  \" fill=\"#009af9\" fill-rule=\"evenodd\" fill-opacity=\"1\"/>\n",
       "<polyline clip-path=\"url(#clip9302)\" style=\"stroke:#000000; stroke-width:4; stroke-opacity:1; fill:none\" points=\"\n",
       "  2647.54,1386.61 2647.54,1386.61 2656.48,1386.61 2647.54,1386.61 \n",
       "  \"/>\n",
       "<path clip-path=\"url(#clip9302)\" d=\"\n",
       "M2656.48 1386.61 L2656.48 1386.61 L2665.43 1386.61 L2665.43 1386.61 L2656.48 1386.61 L2656.48 1386.61  Z\n",
       "  \" fill=\"#009af9\" fill-rule=\"evenodd\" fill-opacity=\"1\"/>\n",
       "<polyline clip-path=\"url(#clip9302)\" style=\"stroke:#000000; stroke-width:4; stroke-opacity:1; fill:none\" points=\"\n",
       "  2656.48,1386.61 2656.48,1386.61 2665.43,1386.61 2656.48,1386.61 \n",
       "  \"/>\n",
       "<path clip-path=\"url(#clip9302)\" d=\"\n",
       "M2665.43 1386.61 L2665.43 1386.61 L2674.37 1386.61 L2674.37 1386.61 L2665.43 1386.61 L2665.43 1386.61  Z\n",
       "  \" fill=\"#009af9\" fill-rule=\"evenodd\" fill-opacity=\"1\"/>\n",
       "<polyline clip-path=\"url(#clip9302)\" style=\"stroke:#000000; stroke-width:4; stroke-opacity:1; fill:none\" points=\"\n",
       "  2665.43,1386.61 2665.43,1386.61 2674.37,1386.61 2665.43,1386.61 \n",
       "  \"/>\n",
       "<path clip-path=\"url(#clip9302)\" d=\"\n",
       "M2674.37 1386.61 L2674.37 1386.61 L2683.31 1386.61 L2683.31 1386.61 L2674.37 1386.61 L2674.37 1386.61  Z\n",
       "  \" fill=\"#009af9\" fill-rule=\"evenodd\" fill-opacity=\"1\"/>\n",
       "<polyline clip-path=\"url(#clip9302)\" style=\"stroke:#000000; stroke-width:4; stroke-opacity:1; fill:none\" points=\"\n",
       "  2674.37,1386.61 2674.37,1386.61 2683.31,1386.61 2674.37,1386.61 \n",
       "  \"/>\n",
       "<path clip-path=\"url(#clip9302)\" d=\"\n",
       "M2683.31 1386.61 L2683.31 1386.61 L2692.25 1386.61 L2692.25 1386.61 L2683.31 1386.61 L2683.31 1386.61  Z\n",
       "  \" fill=\"#009af9\" fill-rule=\"evenodd\" fill-opacity=\"1\"/>\n",
       "<polyline clip-path=\"url(#clip9302)\" style=\"stroke:#000000; stroke-width:4; stroke-opacity:1; fill:none\" points=\"\n",
       "  2683.31,1386.61 2683.31,1386.61 2692.25,1386.61 2683.31,1386.61 \n",
       "  \"/>\n",
       "<path clip-path=\"url(#clip9302)\" d=\"\n",
       "M2692.25 1386.61 L2692.25 1386.61 L2701.19 1386.61 L2701.19 1386.61 L2692.25 1386.61 L2692.25 1386.61  Z\n",
       "  \" fill=\"#009af9\" fill-rule=\"evenodd\" fill-opacity=\"1\"/>\n",
       "<polyline clip-path=\"url(#clip9302)\" style=\"stroke:#000000; stroke-width:4; stroke-opacity:1; fill:none\" points=\"\n",
       "  2692.25,1386.61 2692.25,1386.61 2701.19,1386.61 2692.25,1386.61 \n",
       "  \"/>\n",
       "<path clip-path=\"url(#clip9302)\" d=\"\n",
       "M2701.19 1386.61 L2701.19 1386.61 L2710.14 1386.61 L2710.14 1386.61 L2701.19 1386.61 L2701.19 1386.61  Z\n",
       "  \" fill=\"#009af9\" fill-rule=\"evenodd\" fill-opacity=\"1\"/>\n",
       "<polyline clip-path=\"url(#clip9302)\" style=\"stroke:#000000; stroke-width:4; stroke-opacity:1; fill:none\" points=\"\n",
       "  2701.19,1386.61 2701.19,1386.61 2710.14,1386.61 2701.19,1386.61 \n",
       "  \"/>\n",
       "<path clip-path=\"url(#clip9302)\" d=\"\n",
       "M2710.14 1386.61 L2710.14 1386.61 L2719.08 1386.61 L2719.08 1386.61 L2710.14 1386.61 L2710.14 1386.61  Z\n",
       "  \" fill=\"#009af9\" fill-rule=\"evenodd\" fill-opacity=\"1\"/>\n",
       "<polyline clip-path=\"url(#clip9302)\" style=\"stroke:#000000; stroke-width:4; stroke-opacity:1; fill:none\" points=\"\n",
       "  2710.14,1386.61 2710.14,1386.61 2719.08,1386.61 2710.14,1386.61 \n",
       "  \"/>\n",
       "<path clip-path=\"url(#clip9302)\" d=\"\n",
       "M2719.08 1386.61 L2719.08 1386.61 L2728.02 1386.61 L2728.02 1386.61 L2719.08 1386.61 L2719.08 1386.61  Z\n",
       "  \" fill=\"#009af9\" fill-rule=\"evenodd\" fill-opacity=\"1\"/>\n",
       "<polyline clip-path=\"url(#clip9302)\" style=\"stroke:#000000; stroke-width:4; stroke-opacity:1; fill:none\" points=\"\n",
       "  2719.08,1386.61 2719.08,1386.61 2728.02,1386.61 2719.08,1386.61 \n",
       "  \"/>\n",
       "<path clip-path=\"url(#clip9302)\" d=\"\n",
       "M2728.02 1386.61 L2728.02 1386.61 L2736.96 1386.61 L2736.96 1386.61 L2728.02 1386.61 L2728.02 1386.61  Z\n",
       "  \" fill=\"#009af9\" fill-rule=\"evenodd\" fill-opacity=\"1\"/>\n",
       "<polyline clip-path=\"url(#clip9302)\" style=\"stroke:#000000; stroke-width:4; stroke-opacity:1; fill:none\" points=\"\n",
       "  2728.02,1386.61 2728.02,1386.61 2736.96,1386.61 2728.02,1386.61 \n",
       "  \"/>\n",
       "<path clip-path=\"url(#clip9302)\" d=\"\n",
       "M2736.96 1386.61 L2736.96 1386.61 L2745.91 1386.61 L2745.91 1386.61 L2736.96 1386.61 L2736.96 1386.61  Z\n",
       "  \" fill=\"#009af9\" fill-rule=\"evenodd\" fill-opacity=\"1\"/>\n",
       "<polyline clip-path=\"url(#clip9302)\" style=\"stroke:#000000; stroke-width:4; stroke-opacity:1; fill:none\" points=\"\n",
       "  2736.96,1386.61 2736.96,1386.61 2745.91,1386.61 2736.96,1386.61 \n",
       "  \"/>\n",
       "<path clip-path=\"url(#clip9302)\" d=\"\n",
       "M2745.91 1386.61 L2745.91 1386.61 L2754.85 1386.61 L2754.85 1386.61 L2745.91 1386.61 L2745.91 1386.61  Z\n",
       "  \" fill=\"#009af9\" fill-rule=\"evenodd\" fill-opacity=\"1\"/>\n",
       "<polyline clip-path=\"url(#clip9302)\" style=\"stroke:#000000; stroke-width:4; stroke-opacity:1; fill:none\" points=\"\n",
       "  2745.91,1386.61 2745.91,1386.61 2754.85,1386.61 2745.91,1386.61 \n",
       "  \"/>\n",
       "<path clip-path=\"url(#clip9302)\" d=\"\n",
       "M2754.85 1386.61 L2754.85 1386.61 L2763.79 1386.61 L2763.79 1386.61 L2754.85 1386.61 L2754.85 1386.61  Z\n",
       "  \" fill=\"#009af9\" fill-rule=\"evenodd\" fill-opacity=\"1\"/>\n",
       "<polyline clip-path=\"url(#clip9302)\" style=\"stroke:#000000; stroke-width:4; stroke-opacity:1; fill:none\" points=\"\n",
       "  2754.85,1386.61 2754.85,1386.61 2763.79,1386.61 2754.85,1386.61 \n",
       "  \"/>\n",
       "<path clip-path=\"url(#clip9302)\" d=\"\n",
       "M2763.79 1386.61 L2763.79 1386.61 L2772.73 1386.61 L2772.73 1386.61 L2763.79 1386.61 L2763.79 1386.61  Z\n",
       "  \" fill=\"#009af9\" fill-rule=\"evenodd\" fill-opacity=\"1\"/>\n",
       "<polyline clip-path=\"url(#clip9302)\" style=\"stroke:#000000; stroke-width:4; stroke-opacity:1; fill:none\" points=\"\n",
       "  2763.79,1386.61 2763.79,1386.61 2772.73,1386.61 2763.79,1386.61 \n",
       "  \"/>\n",
       "<path clip-path=\"url(#clip9302)\" d=\"\n",
       "M2772.73 1386.61 L2772.73 1386.61 L2781.67 1386.61 L2781.67 1386.61 L2772.73 1386.61 L2772.73 1386.61  Z\n",
       "  \" fill=\"#009af9\" fill-rule=\"evenodd\" fill-opacity=\"1\"/>\n",
       "<polyline clip-path=\"url(#clip9302)\" style=\"stroke:#000000; stroke-width:4; stroke-opacity:1; fill:none\" points=\"\n",
       "  2772.73,1386.61 2772.73,1386.61 2781.67,1386.61 2772.73,1386.61 \n",
       "  \"/>\n",
       "<path clip-path=\"url(#clip9302)\" d=\"\n",
       "M2781.67 1386.61 L2781.67 1386.61 L2790.62 1386.61 L2790.62 1386.61 L2781.67 1386.61 L2781.67 1386.61  Z\n",
       "  \" fill=\"#009af9\" fill-rule=\"evenodd\" fill-opacity=\"1\"/>\n",
       "<polyline clip-path=\"url(#clip9302)\" style=\"stroke:#000000; stroke-width:4; stroke-opacity:1; fill:none\" points=\"\n",
       "  2781.67,1386.61 2781.67,1386.61 2790.62,1386.61 2781.67,1386.61 \n",
       "  \"/>\n",
       "<path clip-path=\"url(#clip9302)\" d=\"\n",
       "M2790.62 1386.61 L2790.62 1386.61 L2799.56 1386.61 L2799.56 1386.61 L2790.62 1386.61 L2790.62 1386.61  Z\n",
       "  \" fill=\"#009af9\" fill-rule=\"evenodd\" fill-opacity=\"1\"/>\n",
       "<polyline clip-path=\"url(#clip9302)\" style=\"stroke:#000000; stroke-width:4; stroke-opacity:1; fill:none\" points=\"\n",
       "  2790.62,1386.61 2790.62,1386.61 2799.56,1386.61 2790.62,1386.61 \n",
       "  \"/>\n",
       "<path clip-path=\"url(#clip9302)\" d=\"\n",
       "M2799.56 1386.61 L2799.56 1386.61 L2808.5 1386.61 L2808.5 1386.61 L2799.56 1386.61 L2799.56 1386.61  Z\n",
       "  \" fill=\"#009af9\" fill-rule=\"evenodd\" fill-opacity=\"1\"/>\n",
       "<polyline clip-path=\"url(#clip9302)\" style=\"stroke:#000000; stroke-width:4; stroke-opacity:1; fill:none\" points=\"\n",
       "  2799.56,1386.61 2799.56,1386.61 2808.5,1386.61 2799.56,1386.61 \n",
       "  \"/>\n",
       "<path clip-path=\"url(#clip9302)\" d=\"\n",
       "M2808.5 1386.61 L2808.5 1386.61 L2817.44 1386.61 L2817.44 1386.61 L2808.5 1386.61 L2808.5 1386.61  Z\n",
       "  \" fill=\"#009af9\" fill-rule=\"evenodd\" fill-opacity=\"1\"/>\n",
       "<polyline clip-path=\"url(#clip9302)\" style=\"stroke:#000000; stroke-width:4; stroke-opacity:1; fill:none\" points=\"\n",
       "  2808.5,1386.61 2808.5,1386.61 2817.44,1386.61 2808.5,1386.61 \n",
       "  \"/>\n",
       "<path clip-path=\"url(#clip9302)\" d=\"\n",
       "M2817.44 1386.61 L2817.44 1386.61 L2826.39 1386.61 L2826.39 1386.61 L2817.44 1386.61 L2817.44 1386.61  Z\n",
       "  \" fill=\"#009af9\" fill-rule=\"evenodd\" fill-opacity=\"1\"/>\n",
       "<polyline clip-path=\"url(#clip9302)\" style=\"stroke:#000000; stroke-width:4; stroke-opacity:1; fill:none\" points=\"\n",
       "  2817.44,1386.61 2817.44,1386.61 2826.39,1386.61 2817.44,1386.61 \n",
       "  \"/>\n",
       "<path clip-path=\"url(#clip9302)\" d=\"\n",
       "M2826.39 1386.61 L2826.39 1386.61 L2835.33 1386.61 L2835.33 1386.61 L2826.39 1386.61 L2826.39 1386.61  Z\n",
       "  \" fill=\"#009af9\" fill-rule=\"evenodd\" fill-opacity=\"1\"/>\n",
       "<polyline clip-path=\"url(#clip9302)\" style=\"stroke:#000000; stroke-width:4; stroke-opacity:1; fill:none\" points=\"\n",
       "  2826.39,1386.61 2826.39,1386.61 2835.33,1386.61 2826.39,1386.61 \n",
       "  \"/>\n",
       "<path clip-path=\"url(#clip9302)\" d=\"\n",
       "M2835.33 1386.61 L2835.33 1386.61 L2844.27 1386.61 L2844.27 1386.61 L2835.33 1386.61 L2835.33 1386.61  Z\n",
       "  \" fill=\"#009af9\" fill-rule=\"evenodd\" fill-opacity=\"1\"/>\n",
       "<polyline clip-path=\"url(#clip9302)\" style=\"stroke:#000000; stroke-width:4; stroke-opacity:1; fill:none\" points=\"\n",
       "  2835.33,1386.61 2835.33,1386.61 2844.27,1386.61 2835.33,1386.61 \n",
       "  \"/>\n",
       "<path clip-path=\"url(#clip9302)\" d=\"\n",
       "M2844.27 1386.61 L2844.27 1386.61 L2853.21 1386.61 L2853.21 1386.61 L2844.27 1386.61 L2844.27 1386.61  Z\n",
       "  \" fill=\"#009af9\" fill-rule=\"evenodd\" fill-opacity=\"1\"/>\n",
       "<polyline clip-path=\"url(#clip9302)\" style=\"stroke:#000000; stroke-width:4; stroke-opacity:1; fill:none\" points=\"\n",
       "  2844.27,1386.61 2844.27,1386.61 2853.21,1386.61 2844.27,1386.61 \n",
       "  \"/>\n",
       "<path clip-path=\"url(#clip9302)\" d=\"\n",
       "M2853.21 1386.61 L2853.21 1386.61 L2862.15 1386.61 L2862.15 1386.61 L2853.21 1386.61 L2853.21 1386.61  Z\n",
       "  \" fill=\"#009af9\" fill-rule=\"evenodd\" fill-opacity=\"1\"/>\n",
       "<polyline clip-path=\"url(#clip9302)\" style=\"stroke:#000000; stroke-width:4; stroke-opacity:1; fill:none\" points=\"\n",
       "  2853.21,1386.61 2853.21,1386.61 2862.15,1386.61 2853.21,1386.61 \n",
       "  \"/>\n",
       "<path clip-path=\"url(#clip9302)\" d=\"\n",
       "M2862.15 1386.61 L2862.15 1386.61 L2871.1 1386.61 L2871.1 1386.61 L2862.15 1386.61 L2862.15 1386.61  Z\n",
       "  \" fill=\"#009af9\" fill-rule=\"evenodd\" fill-opacity=\"1\"/>\n",
       "<polyline clip-path=\"url(#clip9302)\" style=\"stroke:#000000; stroke-width:4; stroke-opacity:1; fill:none\" points=\"\n",
       "  2862.15,1386.61 2862.15,1386.61 2871.1,1386.61 2862.15,1386.61 \n",
       "  \"/>\n",
       "<path clip-path=\"url(#clip9302)\" d=\"\n",
       "M2871.1 1386.61 L2871.1 1386.61 L2880.04 1386.61 L2880.04 1386.61 L2871.1 1386.61 L2871.1 1386.61  Z\n",
       "  \" fill=\"#009af9\" fill-rule=\"evenodd\" fill-opacity=\"1\"/>\n",
       "<polyline clip-path=\"url(#clip9302)\" style=\"stroke:#000000; stroke-width:4; stroke-opacity:1; fill:none\" points=\"\n",
       "  2871.1,1386.61 2871.1,1386.61 2880.04,1386.61 2871.1,1386.61 \n",
       "  \"/>\n",
       "<path clip-path=\"url(#clip9302)\" d=\"\n",
       "M2880.04 1386.61 L2880.04 1386.61 L2888.98 1386.61 L2888.98 1386.61 L2880.04 1386.61 L2880.04 1386.61  Z\n",
       "  \" fill=\"#009af9\" fill-rule=\"evenodd\" fill-opacity=\"1\"/>\n",
       "<polyline clip-path=\"url(#clip9302)\" style=\"stroke:#000000; stroke-width:4; stroke-opacity:1; fill:none\" points=\"\n",
       "  2880.04,1386.61 2880.04,1386.61 2888.98,1386.61 2880.04,1386.61 \n",
       "  \"/>\n",
       "<path clip-path=\"url(#clip9302)\" d=\"\n",
       "M2888.98 1386.61 L2888.98 1386.61 L2897.92 1386.61 L2897.92 1386.61 L2888.98 1386.61 L2888.98 1386.61  Z\n",
       "  \" fill=\"#009af9\" fill-rule=\"evenodd\" fill-opacity=\"1\"/>\n",
       "<polyline clip-path=\"url(#clip9302)\" style=\"stroke:#000000; stroke-width:4; stroke-opacity:1; fill:none\" points=\"\n",
       "  2888.98,1386.61 2888.98,1386.61 2897.92,1386.61 2888.98,1386.61 \n",
       "  \"/>\n",
       "<path clip-path=\"url(#clip9302)\" d=\"\n",
       "M2897.92 1386.61 L2897.92 1386.61 L2906.86 1386.61 L2906.86 1386.61 L2897.92 1386.61 L2897.92 1386.61  Z\n",
       "  \" fill=\"#009af9\" fill-rule=\"evenodd\" fill-opacity=\"1\"/>\n",
       "<polyline clip-path=\"url(#clip9302)\" style=\"stroke:#000000; stroke-width:4; stroke-opacity:1; fill:none\" points=\"\n",
       "  2897.92,1386.61 2897.92,1386.61 2906.86,1386.61 2897.92,1386.61 \n",
       "  \"/>\n",
       "<path clip-path=\"url(#clip9302)\" d=\"\n",
       "M2906.86 1386.61 L2906.86 1386.61 L2915.81 1386.61 L2915.81 1386.61 L2906.86 1386.61 L2906.86 1386.61  Z\n",
       "  \" fill=\"#009af9\" fill-rule=\"evenodd\" fill-opacity=\"1\"/>\n",
       "<polyline clip-path=\"url(#clip9302)\" style=\"stroke:#000000; stroke-width:4; stroke-opacity:1; fill:none\" points=\"\n",
       "  2906.86,1386.61 2906.86,1386.61 2915.81,1386.61 2906.86,1386.61 \n",
       "  \"/>\n",
       "<path clip-path=\"url(#clip9302)\" d=\"\n",
       "M2915.81 1386.61 L2915.81 1386.61 L2924.75 1386.61 L2924.75 1386.61 L2915.81 1386.61 L2915.81 1386.61  Z\n",
       "  \" fill=\"#009af9\" fill-rule=\"evenodd\" fill-opacity=\"1\"/>\n",
       "<polyline clip-path=\"url(#clip9302)\" style=\"stroke:#000000; stroke-width:4; stroke-opacity:1; fill:none\" points=\"\n",
       "  2915.81,1386.61 2915.81,1386.61 2924.75,1386.61 2915.81,1386.61 \n",
       "  \"/>\n",
       "<path clip-path=\"url(#clip9302)\" d=\"\n",
       "M2924.75 1386.61 L2924.75 1386.61 L2933.69 1386.61 L2933.69 1386.61 L2924.75 1386.61 L2924.75 1386.61  Z\n",
       "  \" fill=\"#009af9\" fill-rule=\"evenodd\" fill-opacity=\"1\"/>\n",
       "<polyline clip-path=\"url(#clip9302)\" style=\"stroke:#000000; stroke-width:4; stroke-opacity:1; fill:none\" points=\"\n",
       "  2924.75,1386.61 2924.75,1386.61 2933.69,1386.61 2924.75,1386.61 \n",
       "  \"/>\n",
       "<path clip-path=\"url(#clip9302)\" d=\"\n",
       "M2933.69 1386.61 L2933.69 1386.61 L2942.63 1386.61 L2942.63 1386.61 L2933.69 1386.61 L2933.69 1386.61  Z\n",
       "  \" fill=\"#009af9\" fill-rule=\"evenodd\" fill-opacity=\"1\"/>\n",
       "<polyline clip-path=\"url(#clip9302)\" style=\"stroke:#000000; stroke-width:4; stroke-opacity:1; fill:none\" points=\"\n",
       "  2933.69,1386.61 2933.69,1386.61 2942.63,1386.61 2933.69,1386.61 \n",
       "  \"/>\n",
       "<path clip-path=\"url(#clip9302)\" d=\"\n",
       "M2942.63 1386.61 L2942.63 1386.61 L2951.58 1386.61 L2951.58 1386.61 L2942.63 1386.61 L2942.63 1386.61  Z\n",
       "  \" fill=\"#009af9\" fill-rule=\"evenodd\" fill-opacity=\"1\"/>\n",
       "<polyline clip-path=\"url(#clip9302)\" style=\"stroke:#000000; stroke-width:4; stroke-opacity:1; fill:none\" points=\"\n",
       "  2942.63,1386.61 2942.63,1386.61 2951.58,1386.61 2942.63,1386.61 \n",
       "  \"/>\n",
       "<path clip-path=\"url(#clip9302)\" d=\"\n",
       "M2951.58 1386.61 L2951.58 1386.61 L2960.52 1386.61 L2960.52 1386.61 L2951.58 1386.61 L2951.58 1386.61  Z\n",
       "  \" fill=\"#009af9\" fill-rule=\"evenodd\" fill-opacity=\"1\"/>\n",
       "<polyline clip-path=\"url(#clip9302)\" style=\"stroke:#000000; stroke-width:4; stroke-opacity:1; fill:none\" points=\"\n",
       "  2951.58,1386.61 2951.58,1386.61 2960.52,1386.61 2951.58,1386.61 \n",
       "  \"/>\n",
       "<path clip-path=\"url(#clip9302)\" d=\"\n",
       "M2960.52 1386.61 L2960.52 1386.61 L2969.46 1386.61 L2969.46 1386.61 L2960.52 1386.61 L2960.52 1386.61  Z\n",
       "  \" fill=\"#009af9\" fill-rule=\"evenodd\" fill-opacity=\"1\"/>\n",
       "<polyline clip-path=\"url(#clip9302)\" style=\"stroke:#000000; stroke-width:4; stroke-opacity:1; fill:none\" points=\"\n",
       "  2960.52,1386.61 2960.52,1386.61 2969.46,1386.61 2960.52,1386.61 \n",
       "  \"/>\n",
       "<path clip-path=\"url(#clip9302)\" d=\"\n",
       "M2969.46 1386.61 L2969.46 1386.61 L2978.4 1386.61 L2978.4 1386.61 L2969.46 1386.61 L2969.46 1386.61  Z\n",
       "  \" fill=\"#009af9\" fill-rule=\"evenodd\" fill-opacity=\"1\"/>\n",
       "<polyline clip-path=\"url(#clip9302)\" style=\"stroke:#000000; stroke-width:4; stroke-opacity:1; fill:none\" points=\"\n",
       "  2969.46,1386.61 2969.46,1386.61 2978.4,1386.61 2969.46,1386.61 \n",
       "  \"/>\n",
       "<path clip-path=\"url(#clip9302)\" d=\"\n",
       "M2978.4 1386.61 L2978.4 1386.61 L2987.34 1386.61 L2987.34 1386.61 L2978.4 1386.61 L2978.4 1386.61  Z\n",
       "  \" fill=\"#009af9\" fill-rule=\"evenodd\" fill-opacity=\"1\"/>\n",
       "<polyline clip-path=\"url(#clip9302)\" style=\"stroke:#000000; stroke-width:4; stroke-opacity:1; fill:none\" points=\"\n",
       "  2978.4,1386.61 2978.4,1386.61 2987.34,1386.61 2978.4,1386.61 \n",
       "  \"/>\n",
       "<path clip-path=\"url(#clip9302)\" d=\"\n",
       "M2987.34 1386.61 L2987.34 1386.61 L2996.29 1386.61 L2996.29 1386.61 L2987.34 1386.61 L2987.34 1386.61  Z\n",
       "  \" fill=\"#009af9\" fill-rule=\"evenodd\" fill-opacity=\"1\"/>\n",
       "<polyline clip-path=\"url(#clip9302)\" style=\"stroke:#000000; stroke-width:4; stroke-opacity:1; fill:none\" points=\"\n",
       "  2987.34,1386.61 2987.34,1386.61 2996.29,1386.61 2987.34,1386.61 \n",
       "  \"/>\n",
       "<path clip-path=\"url(#clip9302)\" d=\"\n",
       "M2996.29 1386.61 L2996.29 1386.61 L3005.23 1386.61 L3005.23 1386.61 L2996.29 1386.61 L2996.29 1386.61  Z\n",
       "  \" fill=\"#009af9\" fill-rule=\"evenodd\" fill-opacity=\"1\"/>\n",
       "<polyline clip-path=\"url(#clip9302)\" style=\"stroke:#000000; stroke-width:4; stroke-opacity:1; fill:none\" points=\"\n",
       "  2996.29,1386.61 2996.29,1386.61 3005.23,1386.61 2996.29,1386.61 \n",
       "  \"/>\n",
       "<path clip-path=\"url(#clip9302)\" d=\"\n",
       "M3005.23 1386.61 L3005.23 1386.61 L3014.17 1386.61 L3014.17 1386.61 L3005.23 1386.61 L3005.23 1386.61  Z\n",
       "  \" fill=\"#009af9\" fill-rule=\"evenodd\" fill-opacity=\"1\"/>\n",
       "<polyline clip-path=\"url(#clip9302)\" style=\"stroke:#000000; stroke-width:4; stroke-opacity:1; fill:none\" points=\"\n",
       "  3005.23,1386.61 3005.23,1386.61 3014.17,1386.61 3005.23,1386.61 \n",
       "  \"/>\n",
       "<path clip-path=\"url(#clip9302)\" d=\"\n",
       "M3014.17 1386.61 L3014.17 1386.61 L3023.11 1386.61 L3023.11 1386.61 L3014.17 1386.61 L3014.17 1386.61  Z\n",
       "  \" fill=\"#009af9\" fill-rule=\"evenodd\" fill-opacity=\"1\"/>\n",
       "<polyline clip-path=\"url(#clip9302)\" style=\"stroke:#000000; stroke-width:4; stroke-opacity:1; fill:none\" points=\"\n",
       "  3014.17,1386.61 3014.17,1386.61 3023.11,1386.61 3014.17,1386.61 \n",
       "  \"/>\n",
       "<path clip-path=\"url(#clip9302)\" d=\"\n",
       "M3023.11 1386.61 L3023.11 1386.61 L3032.06 1386.61 L3032.06 1386.61 L3023.11 1386.61 L3023.11 1386.61  Z\n",
       "  \" fill=\"#009af9\" fill-rule=\"evenodd\" fill-opacity=\"1\"/>\n",
       "<polyline clip-path=\"url(#clip9302)\" style=\"stroke:#000000; stroke-width:4; stroke-opacity:1; fill:none\" points=\"\n",
       "  3023.11,1386.61 3023.11,1386.61 3032.06,1386.61 3023.11,1386.61 \n",
       "  \"/>\n",
       "<path clip-path=\"url(#clip9302)\" d=\"\n",
       "M3032.06 1386.61 L3032.06 1386.61 L3041 1386.61 L3041 1386.61 L3032.06 1386.61 L3032.06 1386.61  Z\n",
       "  \" fill=\"#009af9\" fill-rule=\"evenodd\" fill-opacity=\"1\"/>\n",
       "<polyline clip-path=\"url(#clip9302)\" style=\"stroke:#000000; stroke-width:4; stroke-opacity:1; fill:none\" points=\"\n",
       "  3032.06,1386.61 3032.06,1386.61 3041,1386.61 3032.06,1386.61 \n",
       "  \"/>\n",
       "<path clip-path=\"url(#clip9302)\" d=\"\n",
       "M3041 1386.61 L3041 1386.61 L3049.94 1386.61 L3049.94 1386.61 L3041 1386.61 L3041 1386.61  Z\n",
       "  \" fill=\"#009af9\" fill-rule=\"evenodd\" fill-opacity=\"1\"/>\n",
       "<polyline clip-path=\"url(#clip9302)\" style=\"stroke:#000000; stroke-width:4; stroke-opacity:1; fill:none\" points=\"\n",
       "  3041,1386.61 3041,1386.61 3049.94,1386.61 3041,1386.61 \n",
       "  \"/>\n",
       "<path clip-path=\"url(#clip9302)\" d=\"\n",
       "M3049.94 1386.61 L3049.94 1386.61 L3058.88 1386.61 L3058.88 1386.61 L3049.94 1386.61 L3049.94 1386.61  Z\n",
       "  \" fill=\"#009af9\" fill-rule=\"evenodd\" fill-opacity=\"1\"/>\n",
       "<polyline clip-path=\"url(#clip9302)\" style=\"stroke:#000000; stroke-width:4; stroke-opacity:1; fill:none\" points=\"\n",
       "  3049.94,1386.61 3049.94,1386.61 3058.88,1386.61 3049.94,1386.61 \n",
       "  \"/>\n",
       "<path clip-path=\"url(#clip9302)\" d=\"\n",
       "M3058.88 1386.61 L3058.88 1386.61 L3067.82 1386.61 L3067.82 1386.61 L3058.88 1386.61 L3058.88 1386.61  Z\n",
       "  \" fill=\"#009af9\" fill-rule=\"evenodd\" fill-opacity=\"1\"/>\n",
       "<polyline clip-path=\"url(#clip9302)\" style=\"stroke:#000000; stroke-width:4; stroke-opacity:1; fill:none\" points=\"\n",
       "  3058.88,1386.61 3058.88,1386.61 3067.82,1386.61 3058.88,1386.61 \n",
       "  \"/>\n",
       "<path clip-path=\"url(#clip9302)\" d=\"\n",
       "M3067.82 1386.61 L3067.82 1386.61 L3076.77 1386.61 L3076.77 1386.61 L3067.82 1386.61 L3067.82 1386.61  Z\n",
       "  \" fill=\"#009af9\" fill-rule=\"evenodd\" fill-opacity=\"1\"/>\n",
       "<polyline clip-path=\"url(#clip9302)\" style=\"stroke:#000000; stroke-width:4; stroke-opacity:1; fill:none\" points=\"\n",
       "  3067.82,1386.61 3067.82,1386.61 3076.77,1386.61 3067.82,1386.61 \n",
       "  \"/>\n",
       "<path clip-path=\"url(#clip9302)\" d=\"\n",
       "M3076.77 1386.61 L3076.77 1386.61 L3085.71 1386.61 L3085.71 1386.61 L3076.77 1386.61 L3076.77 1386.61  Z\n",
       "  \" fill=\"#009af9\" fill-rule=\"evenodd\" fill-opacity=\"1\"/>\n",
       "<polyline clip-path=\"url(#clip9302)\" style=\"stroke:#000000; stroke-width:4; stroke-opacity:1; fill:none\" points=\"\n",
       "  3076.77,1386.61 3076.77,1386.61 3085.71,1386.61 3076.77,1386.61 \n",
       "  \"/>\n",
       "<path clip-path=\"url(#clip9302)\" d=\"\n",
       "M3085.71 1386.61 L3085.71 1386.61 L3094.65 1386.61 L3094.65 1386.61 L3085.71 1386.61 L3085.71 1386.61  Z\n",
       "  \" fill=\"#009af9\" fill-rule=\"evenodd\" fill-opacity=\"1\"/>\n",
       "<polyline clip-path=\"url(#clip9302)\" style=\"stroke:#000000; stroke-width:4; stroke-opacity:1; fill:none\" points=\"\n",
       "  3085.71,1386.61 3085.71,1386.61 3094.65,1386.61 3085.71,1386.61 \n",
       "  \"/>\n",
       "<path clip-path=\"url(#clip9302)\" d=\"\n",
       "M3094.65 1386.61 L3094.65 1386.61 L3103.59 1386.61 L3103.59 1386.61 L3094.65 1386.61 L3094.65 1386.61  Z\n",
       "  \" fill=\"#009af9\" fill-rule=\"evenodd\" fill-opacity=\"1\"/>\n",
       "<polyline clip-path=\"url(#clip9302)\" style=\"stroke:#000000; stroke-width:4; stroke-opacity:1; fill:none\" points=\"\n",
       "  3094.65,1386.61 3094.65,1386.61 3103.59,1386.61 3094.65,1386.61 \n",
       "  \"/>\n",
       "<path clip-path=\"url(#clip9302)\" d=\"\n",
       "M3103.59 1386.61 L3103.59 1386.61 L3112.53 1386.61 L3112.53 1386.61 L3103.59 1386.61 L3103.59 1386.61  Z\n",
       "  \" fill=\"#009af9\" fill-rule=\"evenodd\" fill-opacity=\"1\"/>\n",
       "<polyline clip-path=\"url(#clip9302)\" style=\"stroke:#000000; stroke-width:4; stroke-opacity:1; fill:none\" points=\"\n",
       "  3103.59,1386.61 3103.59,1386.61 3112.53,1386.61 3103.59,1386.61 \n",
       "  \"/>\n",
       "<path clip-path=\"url(#clip9302)\" d=\"\n",
       "M3112.53 1386.61 L3112.53 1386.61 L3121.48 1386.61 L3121.48 1386.61 L3112.53 1386.61 L3112.53 1386.61  Z\n",
       "  \" fill=\"#009af9\" fill-rule=\"evenodd\" fill-opacity=\"1\"/>\n",
       "<polyline clip-path=\"url(#clip9302)\" style=\"stroke:#000000; stroke-width:4; stroke-opacity:1; fill:none\" points=\"\n",
       "  3112.53,1386.61 3112.53,1386.61 3121.48,1386.61 3112.53,1386.61 \n",
       "  \"/>\n",
       "<path clip-path=\"url(#clip9302)\" d=\"\n",
       "M3121.48 1386.61 L3121.48 1386.61 L3130.42 1386.61 L3130.42 1386.61 L3121.48 1386.61 L3121.48 1386.61  Z\n",
       "  \" fill=\"#009af9\" fill-rule=\"evenodd\" fill-opacity=\"1\"/>\n",
       "<polyline clip-path=\"url(#clip9302)\" style=\"stroke:#000000; stroke-width:4; stroke-opacity:1; fill:none\" points=\"\n",
       "  3121.48,1386.61 3121.48,1386.61 3130.42,1386.61 3121.48,1386.61 \n",
       "  \"/>\n",
       "<path clip-path=\"url(#clip9302)\" d=\"\n",
       "M3130.42 1386.61 L3130.42 1386.61 L3139.36 1386.61 L3139.36 1386.61 L3130.42 1386.61 L3130.42 1386.61  Z\n",
       "  \" fill=\"#009af9\" fill-rule=\"evenodd\" fill-opacity=\"1\"/>\n",
       "<polyline clip-path=\"url(#clip9302)\" style=\"stroke:#000000; stroke-width:4; stroke-opacity:1; fill:none\" points=\"\n",
       "  3130.42,1386.61 3130.42,1386.61 3139.36,1386.61 3130.42,1386.61 \n",
       "  \"/>\n",
       "<path clip-path=\"url(#clip9302)\" d=\"\n",
       "M3139.36 1386.61 L3139.36 1386.61 L3148.3 1386.61 L3148.3 1386.61 L3139.36 1386.61 L3139.36 1386.61  Z\n",
       "  \" fill=\"#009af9\" fill-rule=\"evenodd\" fill-opacity=\"1\"/>\n",
       "<polyline clip-path=\"url(#clip9302)\" style=\"stroke:#000000; stroke-width:4; stroke-opacity:1; fill:none\" points=\"\n",
       "  3139.36,1386.61 3139.36,1386.61 3148.3,1386.61 3139.36,1386.61 \n",
       "  \"/>\n",
       "<path clip-path=\"url(#clip9302)\" d=\"\n",
       "M3148.3 1386.61 L3148.3 1386.61 L3157.25 1386.61 L3157.25 1386.61 L3148.3 1386.61 L3148.3 1386.61  Z\n",
       "  \" fill=\"#009af9\" fill-rule=\"evenodd\" fill-opacity=\"1\"/>\n",
       "<polyline clip-path=\"url(#clip9302)\" style=\"stroke:#000000; stroke-width:4; stroke-opacity:1; fill:none\" points=\"\n",
       "  3148.3,1386.61 3148.3,1386.61 3157.25,1386.61 3148.3,1386.61 \n",
       "  \"/>\n",
       "<path clip-path=\"url(#clip9302)\" d=\"\n",
       "M3157.25 1386.61 L3157.25 1386.61 L3166.19 1386.61 L3166.19 1386.61 L3157.25 1386.61 L3157.25 1386.61  Z\n",
       "  \" fill=\"#009af9\" fill-rule=\"evenodd\" fill-opacity=\"1\"/>\n",
       "<polyline clip-path=\"url(#clip9302)\" style=\"stroke:#000000; stroke-width:4; stroke-opacity:1; fill:none\" points=\"\n",
       "  3157.25,1386.61 3157.25,1386.61 3166.19,1386.61 3157.25,1386.61 \n",
       "  \"/>\n",
       "<path clip-path=\"url(#clip9302)\" d=\"\n",
       "M3166.19 1386.61 L3166.19 1386.61 L3175.13 1386.61 L3175.13 1386.61 L3166.19 1386.61 L3166.19 1386.61  Z\n",
       "  \" fill=\"#009af9\" fill-rule=\"evenodd\" fill-opacity=\"1\"/>\n",
       "<polyline clip-path=\"url(#clip9302)\" style=\"stroke:#000000; stroke-width:4; stroke-opacity:1; fill:none\" points=\"\n",
       "  3166.19,1386.61 3166.19,1386.61 3175.13,1386.61 3166.19,1386.61 \n",
       "  \"/>\n",
       "<path clip-path=\"url(#clip9302)\" d=\"\n",
       "M3175.13 1386.61 L3175.13 1386.61 L3184.07 1386.61 L3184.07 1386.61 L3175.13 1386.61 L3175.13 1386.61  Z\n",
       "  \" fill=\"#009af9\" fill-rule=\"evenodd\" fill-opacity=\"1\"/>\n",
       "<polyline clip-path=\"url(#clip9302)\" style=\"stroke:#000000; stroke-width:4; stroke-opacity:1; fill:none\" points=\"\n",
       "  3175.13,1386.61 3175.13,1386.61 3184.07,1386.61 3175.13,1386.61 \n",
       "  \"/>\n",
       "<path clip-path=\"url(#clip9302)\" d=\"\n",
       "M3184.07 1386.61 L3184.07 1386.61 L3193.01 1386.61 L3193.01 1386.61 L3184.07 1386.61 L3184.07 1386.61  Z\n",
       "  \" fill=\"#009af9\" fill-rule=\"evenodd\" fill-opacity=\"1\"/>\n",
       "<polyline clip-path=\"url(#clip9302)\" style=\"stroke:#000000; stroke-width:4; stroke-opacity:1; fill:none\" points=\"\n",
       "  3184.07,1386.61 3184.07,1386.61 3193.01,1386.61 3184.07,1386.61 \n",
       "  \"/>\n",
       "<path clip-path=\"url(#clip9302)\" d=\"\n",
       "M3193.01 1386.61 L3193.01 1386.61 L3201.96 1386.61 L3201.96 1386.61 L3193.01 1386.61 L3193.01 1386.61  Z\n",
       "  \" fill=\"#009af9\" fill-rule=\"evenodd\" fill-opacity=\"1\"/>\n",
       "<polyline clip-path=\"url(#clip9302)\" style=\"stroke:#000000; stroke-width:4; stroke-opacity:1; fill:none\" points=\"\n",
       "  3193.01,1386.61 3193.01,1386.61 3201.96,1386.61 3193.01,1386.61 \n",
       "  \"/>\n",
       "<path clip-path=\"url(#clip9302)\" d=\"\n",
       "M3201.96 1386.61 L3201.96 1386.61 L3210.9 1386.61 L3210.9 1386.61 L3201.96 1386.61 L3201.96 1386.61  Z\n",
       "  \" fill=\"#009af9\" fill-rule=\"evenodd\" fill-opacity=\"1\"/>\n",
       "<polyline clip-path=\"url(#clip9302)\" style=\"stroke:#000000; stroke-width:4; stroke-opacity:1; fill:none\" points=\"\n",
       "  3201.96,1386.61 3201.96,1386.61 3210.9,1386.61 3201.96,1386.61 \n",
       "  \"/>\n",
       "<path clip-path=\"url(#clip9302)\" d=\"\n",
       "M3210.9 1386.61 L3210.9 1386.61 L3219.84 1386.61 L3219.84 1386.61 L3210.9 1386.61 L3210.9 1386.61  Z\n",
       "  \" fill=\"#009af9\" fill-rule=\"evenodd\" fill-opacity=\"1\"/>\n",
       "<polyline clip-path=\"url(#clip9302)\" style=\"stroke:#000000; stroke-width:4; stroke-opacity:1; fill:none\" points=\"\n",
       "  3210.9,1386.61 3210.9,1386.61 3219.84,1386.61 3210.9,1386.61 \n",
       "  \"/>\n",
       "<path clip-path=\"url(#clip9302)\" d=\"\n",
       "M3219.84 1386.61 L3219.84 1386.61 L3228.78 1386.61 L3228.78 1386.61 L3219.84 1386.61 L3219.84 1386.61  Z\n",
       "  \" fill=\"#009af9\" fill-rule=\"evenodd\" fill-opacity=\"1\"/>\n",
       "<polyline clip-path=\"url(#clip9302)\" style=\"stroke:#000000; stroke-width:4; stroke-opacity:1; fill:none\" points=\"\n",
       "  3219.84,1386.61 3219.84,1386.61 3228.78,1386.61 3219.84,1386.61 \n",
       "  \"/>\n",
       "<path clip-path=\"url(#clip9302)\" d=\"\n",
       "M3228.78 1386.61 L3228.78 1386.61 L3237.73 1386.61 L3237.73 1386.61 L3228.78 1386.61 L3228.78 1386.61  Z\n",
       "  \" fill=\"#009af9\" fill-rule=\"evenodd\" fill-opacity=\"1\"/>\n",
       "<polyline clip-path=\"url(#clip9302)\" style=\"stroke:#000000; stroke-width:4; stroke-opacity:1; fill:none\" points=\"\n",
       "  3228.78,1386.61 3228.78,1386.61 3237.73,1386.61 3228.78,1386.61 \n",
       "  \"/>\n",
       "<path clip-path=\"url(#clip9302)\" d=\"\n",
       "M3237.73 1386.61 L3237.73 1386.61 L3246.67 1386.61 L3246.67 1386.61 L3237.73 1386.61 L3237.73 1386.61  Z\n",
       "  \" fill=\"#009af9\" fill-rule=\"evenodd\" fill-opacity=\"1\"/>\n",
       "<polyline clip-path=\"url(#clip9302)\" style=\"stroke:#000000; stroke-width:4; stroke-opacity:1; fill:none\" points=\"\n",
       "  3237.73,1386.61 3237.73,1386.61 3246.67,1386.61 3237.73,1386.61 \n",
       "  \"/>\n",
       "<path clip-path=\"url(#clip9302)\" d=\"\n",
       "M3246.67 1386.61 L3246.67 1386.61 L3255.61 1386.61 L3255.61 1386.61 L3246.67 1386.61 L3246.67 1386.61  Z\n",
       "  \" fill=\"#009af9\" fill-rule=\"evenodd\" fill-opacity=\"1\"/>\n",
       "<polyline clip-path=\"url(#clip9302)\" style=\"stroke:#000000; stroke-width:4; stroke-opacity:1; fill:none\" points=\"\n",
       "  3246.67,1386.61 3246.67,1386.61 3255.61,1386.61 3246.67,1386.61 \n",
       "  \"/>\n",
       "<path clip-path=\"url(#clip9302)\" d=\"\n",
       "M3255.61 1386.61 L3255.61 1386.61 L3264.55 1386.61 L3264.55 1386.61 L3255.61 1386.61 L3255.61 1386.61  Z\n",
       "  \" fill=\"#009af9\" fill-rule=\"evenodd\" fill-opacity=\"1\"/>\n",
       "<polyline clip-path=\"url(#clip9302)\" style=\"stroke:#000000; stroke-width:4; stroke-opacity:1; fill:none\" points=\"\n",
       "  3255.61,1386.61 3255.61,1386.61 3264.55,1386.61 3255.61,1386.61 \n",
       "  \"/>\n",
       "<path clip-path=\"url(#clip9302)\" d=\"\n",
       "M3264.55 1386.61 L3264.55 1386.61 L3273.49 1386.61 L3273.49 1386.61 L3264.55 1386.61 L3264.55 1386.61  Z\n",
       "  \" fill=\"#009af9\" fill-rule=\"evenodd\" fill-opacity=\"1\"/>\n",
       "<polyline clip-path=\"url(#clip9302)\" style=\"stroke:#000000; stroke-width:4; stroke-opacity:1; fill:none\" points=\"\n",
       "  3264.55,1386.61 3264.55,1386.61 3273.49,1386.61 3264.55,1386.61 \n",
       "  \"/>\n",
       "<path clip-path=\"url(#clip9302)\" d=\"\n",
       "M3273.49 1386.61 L3273.49 1386.61 L3282.44 1386.61 L3282.44 1386.61 L3273.49 1386.61 L3273.49 1386.61  Z\n",
       "  \" fill=\"#009af9\" fill-rule=\"evenodd\" fill-opacity=\"1\"/>\n",
       "<polyline clip-path=\"url(#clip9302)\" style=\"stroke:#000000; stroke-width:4; stroke-opacity:1; fill:none\" points=\"\n",
       "  3273.49,1386.61 3273.49,1386.61 3282.44,1386.61 3273.49,1386.61 \n",
       "  \"/>\n",
       "<path clip-path=\"url(#clip9302)\" d=\"\n",
       "M3282.44 1386.61 L3282.44 1386.61 L3291.38 1386.61 L3291.38 1386.61 L3282.44 1386.61 L3282.44 1386.61  Z\n",
       "  \" fill=\"#009af9\" fill-rule=\"evenodd\" fill-opacity=\"1\"/>\n",
       "<polyline clip-path=\"url(#clip9302)\" style=\"stroke:#000000; stroke-width:4; stroke-opacity:1; fill:none\" points=\"\n",
       "  3282.44,1386.61 3282.44,1386.61 3291.38,1386.61 3282.44,1386.61 \n",
       "  \"/>\n",
       "<path clip-path=\"url(#clip9302)\" d=\"\n",
       "M3291.38 1386.61 L3291.38 1386.61 L3300.32 1386.61 L3300.32 1386.61 L3291.38 1386.61 L3291.38 1386.61  Z\n",
       "  \" fill=\"#009af9\" fill-rule=\"evenodd\" fill-opacity=\"1\"/>\n",
       "<polyline clip-path=\"url(#clip9302)\" style=\"stroke:#000000; stroke-width:4; stroke-opacity:1; fill:none\" points=\"\n",
       "  3291.38,1386.61 3291.38,1386.61 3300.32,1386.61 3291.38,1386.61 \n",
       "  \"/>\n",
       "<path clip-path=\"url(#clip9302)\" d=\"\n",
       "M3300.32 1386.61 L3300.32 1386.61 L3309.26 1386.61 L3309.26 1386.61 L3300.32 1386.61 L3300.32 1386.61  Z\n",
       "  \" fill=\"#009af9\" fill-rule=\"evenodd\" fill-opacity=\"1\"/>\n",
       "<polyline clip-path=\"url(#clip9302)\" style=\"stroke:#000000; stroke-width:4; stroke-opacity:1; fill:none\" points=\"\n",
       "  3300.32,1386.61 3300.32,1386.61 3309.26,1386.61 3300.32,1386.61 \n",
       "  \"/>\n",
       "<path clip-path=\"url(#clip9302)\" d=\"\n",
       "M3309.26 1386.61 L3309.26 1386.61 L3318.2 1386.61 L3318.2 1386.61 L3309.26 1386.61 L3309.26 1386.61  Z\n",
       "  \" fill=\"#009af9\" fill-rule=\"evenodd\" fill-opacity=\"1\"/>\n",
       "<polyline clip-path=\"url(#clip9302)\" style=\"stroke:#000000; stroke-width:4; stroke-opacity:1; fill:none\" points=\"\n",
       "  3309.26,1386.61 3309.26,1386.61 3318.2,1386.61 3309.26,1386.61 \n",
       "  \"/>\n",
       "<path clip-path=\"url(#clip9302)\" d=\"\n",
       "M3318.2 1386.61 L3318.2 1386.61 L3327.15 1386.61 L3327.15 1386.61 L3318.2 1386.61 L3318.2 1386.61  Z\n",
       "  \" fill=\"#009af9\" fill-rule=\"evenodd\" fill-opacity=\"1\"/>\n",
       "<polyline clip-path=\"url(#clip9302)\" style=\"stroke:#000000; stroke-width:4; stroke-opacity:1; fill:none\" points=\"\n",
       "  3318.2,1386.61 3318.2,1386.61 3327.15,1386.61 3318.2,1386.61 \n",
       "  \"/>\n",
       "<path clip-path=\"url(#clip9302)\" d=\"\n",
       "M3327.15 1386.61 L3327.15 1386.61 L3336.09 1386.61 L3336.09 1386.61 L3327.15 1386.61 L3327.15 1386.61  Z\n",
       "  \" fill=\"#009af9\" fill-rule=\"evenodd\" fill-opacity=\"1\"/>\n",
       "<polyline clip-path=\"url(#clip9302)\" style=\"stroke:#000000; stroke-width:4; stroke-opacity:1; fill:none\" points=\"\n",
       "  3327.15,1386.61 3327.15,1386.61 3336.09,1386.61 3327.15,1386.61 \n",
       "  \"/>\n",
       "<path clip-path=\"url(#clip9302)\" d=\"\n",
       "M3336.09 1386.61 L3336.09 1386.61 L3345.03 1386.61 L3345.03 1386.61 L3336.09 1386.61 L3336.09 1386.61  Z\n",
       "  \" fill=\"#009af9\" fill-rule=\"evenodd\" fill-opacity=\"1\"/>\n",
       "<polyline clip-path=\"url(#clip9302)\" style=\"stroke:#000000; stroke-width:4; stroke-opacity:1; fill:none\" points=\"\n",
       "  3336.09,1386.61 3336.09,1386.61 3345.03,1386.61 3336.09,1386.61 \n",
       "  \"/>\n",
       "<path clip-path=\"url(#clip9302)\" d=\"\n",
       "M3345.03 1386.61 L3345.03 1386.61 L3353.97 1386.61 L3353.97 1386.61 L3345.03 1386.61 L3345.03 1386.61  Z\n",
       "  \" fill=\"#009af9\" fill-rule=\"evenodd\" fill-opacity=\"1\"/>\n",
       "<polyline clip-path=\"url(#clip9302)\" style=\"stroke:#000000; stroke-width:4; stroke-opacity:1; fill:none\" points=\"\n",
       "  3345.03,1386.61 3345.03,1386.61 3353.97,1386.61 3345.03,1386.61 \n",
       "  \"/>\n",
       "<path clip-path=\"url(#clip9302)\" d=\"\n",
       "M3353.97 1386.61 L3353.97 1386.61 L3362.92 1386.61 L3362.92 1386.61 L3353.97 1386.61 L3353.97 1386.61  Z\n",
       "  \" fill=\"#009af9\" fill-rule=\"evenodd\" fill-opacity=\"1\"/>\n",
       "<polyline clip-path=\"url(#clip9302)\" style=\"stroke:#000000; stroke-width:4; stroke-opacity:1; fill:none\" points=\"\n",
       "  3353.97,1386.61 3353.97,1386.61 3362.92,1386.61 3353.97,1386.61 \n",
       "  \"/>\n",
       "<path clip-path=\"url(#clip9302)\" d=\"\n",
       "M3362.92 1386.61 L3362.92 1386.61 L3371.86 1386.61 L3371.86 1386.61 L3362.92 1386.61 L3362.92 1386.61  Z\n",
       "  \" fill=\"#009af9\" fill-rule=\"evenodd\" fill-opacity=\"1\"/>\n",
       "<polyline clip-path=\"url(#clip9302)\" style=\"stroke:#000000; stroke-width:4; stroke-opacity:1; fill:none\" points=\"\n",
       "  3362.92,1386.61 3362.92,1386.61 3371.86,1386.61 3362.92,1386.61 \n",
       "  \"/>\n",
       "<path clip-path=\"url(#clip9302)\" d=\"\n",
       "M3371.86 1386.61 L3371.86 1386.61 L3380.8 1386.61 L3380.8 1386.61 L3371.86 1386.61 L3371.86 1386.61  Z\n",
       "  \" fill=\"#009af9\" fill-rule=\"evenodd\" fill-opacity=\"1\"/>\n",
       "<polyline clip-path=\"url(#clip9302)\" style=\"stroke:#000000; stroke-width:4; stroke-opacity:1; fill:none\" points=\"\n",
       "  3371.86,1386.61 3371.86,1386.61 3380.8,1386.61 3371.86,1386.61 \n",
       "  \"/>\n",
       "<path clip-path=\"url(#clip9302)\" d=\"\n",
       "M3380.8 1386.61 L3380.8 1386.61 L3389.74 1386.61 L3389.74 1386.61 L3380.8 1386.61 L3380.8 1386.61  Z\n",
       "  \" fill=\"#009af9\" fill-rule=\"evenodd\" fill-opacity=\"1\"/>\n",
       "<polyline clip-path=\"url(#clip9302)\" style=\"stroke:#000000; stroke-width:4; stroke-opacity:1; fill:none\" points=\"\n",
       "  3380.8,1386.61 3380.8,1386.61 3389.74,1386.61 3380.8,1386.61 \n",
       "  \"/>\n",
       "<path clip-path=\"url(#clip9302)\" d=\"\n",
       "M3389.74 1386.61 L3389.74 1386.61 L3398.68 1386.61 L3398.68 1386.61 L3389.74 1386.61 L3389.74 1386.61  Z\n",
       "  \" fill=\"#009af9\" fill-rule=\"evenodd\" fill-opacity=\"1\"/>\n",
       "<polyline clip-path=\"url(#clip9302)\" style=\"stroke:#000000; stroke-width:4; stroke-opacity:1; fill:none\" points=\"\n",
       "  3389.74,1386.61 3389.74,1386.61 3398.68,1386.61 3389.74,1386.61 \n",
       "  \"/>\n",
       "<path clip-path=\"url(#clip9302)\" d=\"\n",
       "M3398.68 1386.61 L3398.68 1386.61 L3407.63 1386.61 L3407.63 1386.61 L3398.68 1386.61 L3398.68 1386.61  Z\n",
       "  \" fill=\"#009af9\" fill-rule=\"evenodd\" fill-opacity=\"1\"/>\n",
       "<polyline clip-path=\"url(#clip9302)\" style=\"stroke:#000000; stroke-width:4; stroke-opacity:1; fill:none\" points=\"\n",
       "  3398.68,1386.61 3398.68,1386.61 3407.63,1386.61 3398.68,1386.61 \n",
       "  \"/>\n",
       "<path clip-path=\"url(#clip9302)\" d=\"\n",
       "M3407.63 1386.61 L3407.63 1386.61 L3416.57 1386.61 L3416.57 1386.61 L3407.63 1386.61 L3407.63 1386.61  Z\n",
       "  \" fill=\"#009af9\" fill-rule=\"evenodd\" fill-opacity=\"1\"/>\n",
       "<polyline clip-path=\"url(#clip9302)\" style=\"stroke:#000000; stroke-width:4; stroke-opacity:1; fill:none\" points=\"\n",
       "  3407.63,1386.61 3407.63,1386.61 3416.57,1386.61 3407.63,1386.61 \n",
       "  \"/>\n",
       "<path clip-path=\"url(#clip9302)\" d=\"\n",
       "M3416.57 1386.61 L3416.57 1386.61 L3425.51 1386.61 L3425.51 1386.61 L3416.57 1386.61 L3416.57 1386.61  Z\n",
       "  \" fill=\"#009af9\" fill-rule=\"evenodd\" fill-opacity=\"1\"/>\n",
       "<polyline clip-path=\"url(#clip9302)\" style=\"stroke:#000000; stroke-width:4; stroke-opacity:1; fill:none\" points=\"\n",
       "  3416.57,1386.61 3416.57,1386.61 3425.51,1386.61 3416.57,1386.61 \n",
       "  \"/>\n",
       "<path clip-path=\"url(#clip9302)\" d=\"\n",
       "M3425.51 1386.61 L3425.51 1386.61 L3434.45 1386.61 L3434.45 1386.61 L3425.51 1386.61 L3425.51 1386.61  Z\n",
       "  \" fill=\"#009af9\" fill-rule=\"evenodd\" fill-opacity=\"1\"/>\n",
       "<polyline clip-path=\"url(#clip9302)\" style=\"stroke:#000000; stroke-width:4; stroke-opacity:1; fill:none\" points=\"\n",
       "  3425.51,1386.61 3425.51,1386.61 3434.45,1386.61 3425.51,1386.61 \n",
       "  \"/>\n",
       "<path clip-path=\"url(#clip9302)\" d=\"\n",
       "M3434.45 1386.61 L3434.45 1386.61 L3443.4 1386.61 L3443.4 1386.61 L3434.45 1386.61 L3434.45 1386.61  Z\n",
       "  \" fill=\"#009af9\" fill-rule=\"evenodd\" fill-opacity=\"1\"/>\n",
       "<polyline clip-path=\"url(#clip9302)\" style=\"stroke:#000000; stroke-width:4; stroke-opacity:1; fill:none\" points=\"\n",
       "  3434.45,1386.61 3434.45,1386.61 3443.4,1386.61 3434.45,1386.61 \n",
       "  \"/>\n",
       "<path clip-path=\"url(#clip9302)\" d=\"\n",
       "M3443.4 1386.61 L3443.4 1386.61 L3452.34 1386.61 L3452.34 1386.61 L3443.4 1386.61 L3443.4 1386.61  Z\n",
       "  \" fill=\"#009af9\" fill-rule=\"evenodd\" fill-opacity=\"1\"/>\n",
       "<polyline clip-path=\"url(#clip9302)\" style=\"stroke:#000000; stroke-width:4; stroke-opacity:1; fill:none\" points=\"\n",
       "  3443.4,1386.61 3443.4,1386.61 3452.34,1386.61 3443.4,1386.61 \n",
       "  \"/>\n",
       "<path clip-path=\"url(#clip9302)\" d=\"\n",
       "M3452.34 1386.61 L3452.34 1386.61 L3461.28 1386.61 L3461.28 1386.61 L3452.34 1386.61 L3452.34 1386.61  Z\n",
       "  \" fill=\"#009af9\" fill-rule=\"evenodd\" fill-opacity=\"1\"/>\n",
       "<polyline clip-path=\"url(#clip9302)\" style=\"stroke:#000000; stroke-width:4; stroke-opacity:1; fill:none\" points=\"\n",
       "  3452.34,1386.61 3452.34,1386.61 3461.28,1386.61 3452.34,1386.61 \n",
       "  \"/>\n",
       "<path clip-path=\"url(#clip9302)\" d=\"\n",
       "M3461.28 1386.61 L3461.28 1386.61 L3470.22 1386.61 L3470.22 1386.61 L3461.28 1386.61 L3461.28 1386.61  Z\n",
       "  \" fill=\"#009af9\" fill-rule=\"evenodd\" fill-opacity=\"1\"/>\n",
       "<polyline clip-path=\"url(#clip9302)\" style=\"stroke:#000000; stroke-width:4; stroke-opacity:1; fill:none\" points=\"\n",
       "  3461.28,1386.61 3461.28,1386.61 3470.22,1386.61 3461.28,1386.61 \n",
       "  \"/>\n",
       "<path clip-path=\"url(#clip9302)\" d=\"\n",
       "M3470.22 1386.61 L3470.22 1386.61 L3479.16 1386.61 L3479.16 1386.61 L3470.22 1386.61 L3470.22 1386.61  Z\n",
       "  \" fill=\"#009af9\" fill-rule=\"evenodd\" fill-opacity=\"1\"/>\n",
       "<polyline clip-path=\"url(#clip9302)\" style=\"stroke:#000000; stroke-width:4; stroke-opacity:1; fill:none\" points=\"\n",
       "  3470.22,1386.61 3470.22,1386.61 3479.16,1386.61 3470.22,1386.61 \n",
       "  \"/>\n",
       "<path clip-path=\"url(#clip9302)\" d=\"\n",
       "M3479.16 1386.61 L3479.16 1386.61 L3488.11 1386.61 L3488.11 1386.61 L3479.16 1386.61 L3479.16 1386.61  Z\n",
       "  \" fill=\"#009af9\" fill-rule=\"evenodd\" fill-opacity=\"1\"/>\n",
       "<polyline clip-path=\"url(#clip9302)\" style=\"stroke:#000000; stroke-width:4; stroke-opacity:1; fill:none\" points=\"\n",
       "  3479.16,1386.61 3479.16,1386.61 3488.11,1386.61 3479.16,1386.61 \n",
       "  \"/>\n",
       "<path clip-path=\"url(#clip9302)\" d=\"\n",
       "M3488.11 86.2547 L3488.11 1386.61 L3497.05 1386.61 L3497.05 86.2547 L3488.11 86.2547 L3488.11 86.2547  Z\n",
       "  \" fill=\"#009af9\" fill-rule=\"evenodd\" fill-opacity=\"1\"/>\n",
       "<polyline clip-path=\"url(#clip9302)\" style=\"stroke:#000000; stroke-width:4; stroke-opacity:1; fill:none\" points=\"\n",
       "  3488.11,86.2547 3488.11,1386.61 3497.05,1386.61 3497.05,86.2547 3488.11,86.2547 \n",
       "  \"/>\n",
       "<path clip-path=\"url(#clip9302)\" d=\"\n",
       "M3497.05 1386.61 L3497.05 1386.61 L3505.99 1386.61 L3505.99 1386.61 L3497.05 1386.61 L3497.05 1386.61  Z\n",
       "  \" fill=\"#009af9\" fill-rule=\"evenodd\" fill-opacity=\"1\"/>\n",
       "<polyline clip-path=\"url(#clip9302)\" style=\"stroke:#000000; stroke-width:4; stroke-opacity:1; fill:none\" points=\"\n",
       "  3497.05,1386.61 3497.05,1386.61 3505.99,1386.61 3497.05,1386.61 \n",
       "  \"/>\n",
       "<path clip-path=\"url(#clip9302)\" d=\"\n",
       "M3505.99 1386.61 L3505.99 1386.61 L3514.93 1386.61 L3514.93 1386.61 L3505.99 1386.61 L3505.99 1386.61  Z\n",
       "  \" fill=\"#009af9\" fill-rule=\"evenodd\" fill-opacity=\"1\"/>\n",
       "<polyline clip-path=\"url(#clip9302)\" style=\"stroke:#000000; stroke-width:4; stroke-opacity:1; fill:none\" points=\"\n",
       "  3505.99,1386.61 3505.99,1386.61 3514.93,1386.61 3505.99,1386.61 \n",
       "  \"/>\n",
       "<path clip-path=\"url(#clip9302)\" d=\"\n",
       "M3514.93 1386.61 L3514.93 1386.61 L3523.87 1386.61 L3523.87 1386.61 L3514.93 1386.61 L3514.93 1386.61  Z\n",
       "  \" fill=\"#009af9\" fill-rule=\"evenodd\" fill-opacity=\"1\"/>\n",
       "<polyline clip-path=\"url(#clip9302)\" style=\"stroke:#000000; stroke-width:4; stroke-opacity:1; fill:none\" points=\"\n",
       "  3514.93,1386.61 3514.93,1386.61 3523.87,1386.61 3514.93,1386.61 \n",
       "  \"/>\n",
       "<path clip-path=\"url(#clip9302)\" d=\"\n",
       "M3523.87 1386.61 L3523.87 1386.61 L3532.82 1386.61 L3532.82 1386.61 L3523.87 1386.61 L3523.87 1386.61  Z\n",
       "  \" fill=\"#009af9\" fill-rule=\"evenodd\" fill-opacity=\"1\"/>\n",
       "<polyline clip-path=\"url(#clip9302)\" style=\"stroke:#000000; stroke-width:4; stroke-opacity:1; fill:none\" points=\"\n",
       "  3523.87,1386.61 3523.87,1386.61 3532.82,1386.61 3523.87,1386.61 \n",
       "  \"/>\n",
       "<path clip-path=\"url(#clip9302)\" d=\"\n",
       "M3532.82 1386.61 L3532.82 1386.61 L3541.76 1386.61 L3541.76 1386.61 L3532.82 1386.61 L3532.82 1386.61  Z\n",
       "  \" fill=\"#009af9\" fill-rule=\"evenodd\" fill-opacity=\"1\"/>\n",
       "<polyline clip-path=\"url(#clip9302)\" style=\"stroke:#000000; stroke-width:4; stroke-opacity:1; fill:none\" points=\"\n",
       "  3532.82,1386.61 3532.82,1386.61 3541.76,1386.61 3532.82,1386.61 \n",
       "  \"/>\n",
       "<path clip-path=\"url(#clip9302)\" d=\"\n",
       "M3541.76 1386.61 L3541.76 1386.61 L3550.7 1386.61 L3550.7 1386.61 L3541.76 1386.61 L3541.76 1386.61  Z\n",
       "  \" fill=\"#009af9\" fill-rule=\"evenodd\" fill-opacity=\"1\"/>\n",
       "<polyline clip-path=\"url(#clip9302)\" style=\"stroke:#000000; stroke-width:4; stroke-opacity:1; fill:none\" points=\"\n",
       "  3541.76,1386.61 3541.76,1386.61 3550.7,1386.61 3541.76,1386.61 \n",
       "  \"/>\n",
       "<path clip-path=\"url(#clip9302)\" d=\"\n",
       "M3550.7 1386.61 L3550.7 1386.61 L3559.64 1386.61 L3559.64 1386.61 L3550.7 1386.61 L3550.7 1386.61  Z\n",
       "  \" fill=\"#009af9\" fill-rule=\"evenodd\" fill-opacity=\"1\"/>\n",
       "<polyline clip-path=\"url(#clip9302)\" style=\"stroke:#000000; stroke-width:4; stroke-opacity:1; fill:none\" points=\"\n",
       "  3550.7,1386.61 3550.7,1386.61 3559.64,1386.61 3550.7,1386.61 \n",
       "  \"/>\n",
       "<path clip-path=\"url(#clip9302)\" d=\"\n",
       "M3559.64 1386.61 L3559.64 1386.61 L3568.59 1386.61 L3568.59 1386.61 L3559.64 1386.61 L3559.64 1386.61  Z\n",
       "  \" fill=\"#009af9\" fill-rule=\"evenodd\" fill-opacity=\"1\"/>\n",
       "<polyline clip-path=\"url(#clip9302)\" style=\"stroke:#000000; stroke-width:4; stroke-opacity:1; fill:none\" points=\"\n",
       "  3559.64,1386.61 3559.64,1386.61 3568.59,1386.61 3559.64,1386.61 \n",
       "  \"/>\n",
       "<path clip-path=\"url(#clip9302)\" d=\"\n",
       "M3568.59 1386.61 L3568.59 1386.61 L3577.53 1386.61 L3577.53 1386.61 L3568.59 1386.61 L3568.59 1386.61  Z\n",
       "  \" fill=\"#009af9\" fill-rule=\"evenodd\" fill-opacity=\"1\"/>\n",
       "<polyline clip-path=\"url(#clip9302)\" style=\"stroke:#000000; stroke-width:4; stroke-opacity:1; fill:none\" points=\"\n",
       "  3568.59,1386.61 3568.59,1386.61 3577.53,1386.61 3568.59,1386.61 \n",
       "  \"/>\n",
       "<path clip-path=\"url(#clip9302)\" d=\"\n",
       "M3577.53 1386.61 L3577.53 1386.61 L3586.47 1386.61 L3586.47 1386.61 L3577.53 1386.61 L3577.53 1386.61  Z\n",
       "  \" fill=\"#009af9\" fill-rule=\"evenodd\" fill-opacity=\"1\"/>\n",
       "<polyline clip-path=\"url(#clip9302)\" style=\"stroke:#000000; stroke-width:4; stroke-opacity:1; fill:none\" points=\"\n",
       "  3577.53,1386.61 3577.53,1386.61 3586.47,1386.61 3577.53,1386.61 \n",
       "  \"/>\n",
       "<path clip-path=\"url(#clip9302)\" d=\"\n",
       "M3586.47 1386.61 L3586.47 1386.61 L3595.41 1386.61 L3595.41 1386.61 L3586.47 1386.61 L3586.47 1386.61  Z\n",
       "  \" fill=\"#009af9\" fill-rule=\"evenodd\" fill-opacity=\"1\"/>\n",
       "<polyline clip-path=\"url(#clip9302)\" style=\"stroke:#000000; stroke-width:4; stroke-opacity:1; fill:none\" points=\"\n",
       "  3586.47,1386.61 3586.47,1386.61 3595.41,1386.61 3586.47,1386.61 \n",
       "  \"/>\n",
       "<path clip-path=\"url(#clip9302)\" d=\"\n",
       "M3595.41 1386.61 L3595.41 1386.61 L3604.35 1386.61 L3604.35 1386.61 L3595.41 1386.61 L3595.41 1386.61  Z\n",
       "  \" fill=\"#009af9\" fill-rule=\"evenodd\" fill-opacity=\"1\"/>\n",
       "<polyline clip-path=\"url(#clip9302)\" style=\"stroke:#000000; stroke-width:4; stroke-opacity:1; fill:none\" points=\"\n",
       "  3595.41,1386.61 3595.41,1386.61 3604.35,1386.61 3595.41,1386.61 \n",
       "  \"/>\n",
       "<path clip-path=\"url(#clip9302)\" d=\"\n",
       "M3604.35 1386.61 L3604.35 1386.61 L3613.3 1386.61 L3613.3 1386.61 L3604.35 1386.61 L3604.35 1386.61  Z\n",
       "  \" fill=\"#009af9\" fill-rule=\"evenodd\" fill-opacity=\"1\"/>\n",
       "<polyline clip-path=\"url(#clip9302)\" style=\"stroke:#000000; stroke-width:4; stroke-opacity:1; fill:none\" points=\"\n",
       "  3604.35,1386.61 3604.35,1386.61 3613.3,1386.61 3604.35,1386.61 \n",
       "  \"/>\n",
       "<path clip-path=\"url(#clip9302)\" d=\"\n",
       "M3613.3 1386.61 L3613.3 1386.61 L3622.24 1386.61 L3622.24 1386.61 L3613.3 1386.61 L3613.3 1386.61  Z\n",
       "  \" fill=\"#009af9\" fill-rule=\"evenodd\" fill-opacity=\"1\"/>\n",
       "<polyline clip-path=\"url(#clip9302)\" style=\"stroke:#000000; stroke-width:4; stroke-opacity:1; fill:none\" points=\"\n",
       "  3613.3,1386.61 3613.3,1386.61 3622.24,1386.61 3613.3,1386.61 \n",
       "  \"/>\n",
       "<path clip-path=\"url(#clip9302)\" d=\"\n",
       "M3622.24 1386.61 L3622.24 1386.61 L3631.18 1386.61 L3631.18 1386.61 L3622.24 1386.61 L3622.24 1386.61  Z\n",
       "  \" fill=\"#009af9\" fill-rule=\"evenodd\" fill-opacity=\"1\"/>\n",
       "<polyline clip-path=\"url(#clip9302)\" style=\"stroke:#000000; stroke-width:4; stroke-opacity:1; fill:none\" points=\"\n",
       "  3622.24,1386.61 3622.24,1386.61 3631.18,1386.61 3622.24,1386.61 \n",
       "  \"/>\n",
       "<path clip-path=\"url(#clip9302)\" d=\"\n",
       "M3631.18 1386.61 L3631.18 1386.61 L3640.12 1386.61 L3640.12 1386.61 L3631.18 1386.61 L3631.18 1386.61  Z\n",
       "  \" fill=\"#009af9\" fill-rule=\"evenodd\" fill-opacity=\"1\"/>\n",
       "<polyline clip-path=\"url(#clip9302)\" style=\"stroke:#000000; stroke-width:4; stroke-opacity:1; fill:none\" points=\"\n",
       "  3631.18,1386.61 3631.18,1386.61 3640.12,1386.61 3631.18,1386.61 \n",
       "  \"/>\n",
       "<path clip-path=\"url(#clip9302)\" d=\"\n",
       "M3640.12 1386.61 L3640.12 1386.61 L3649.07 1386.61 L3649.07 1386.61 L3640.12 1386.61 L3640.12 1386.61  Z\n",
       "  \" fill=\"#009af9\" fill-rule=\"evenodd\" fill-opacity=\"1\"/>\n",
       "<polyline clip-path=\"url(#clip9302)\" style=\"stroke:#000000; stroke-width:4; stroke-opacity:1; fill:none\" points=\"\n",
       "  3640.12,1386.61 3640.12,1386.61 3649.07,1386.61 3640.12,1386.61 \n",
       "  \"/>\n",
       "<path clip-path=\"url(#clip9302)\" d=\"\n",
       "M3649.07 1386.61 L3649.07 1386.61 L3658.01 1386.61 L3658.01 1386.61 L3649.07 1386.61 L3649.07 1386.61  Z\n",
       "  \" fill=\"#009af9\" fill-rule=\"evenodd\" fill-opacity=\"1\"/>\n",
       "<polyline clip-path=\"url(#clip9302)\" style=\"stroke:#000000; stroke-width:4; stroke-opacity:1; fill:none\" points=\"\n",
       "  3649.07,1386.61 3649.07,1386.61 3658.01,1386.61 3649.07,1386.61 \n",
       "  \"/>\n",
       "<path clip-path=\"url(#clip9302)\" d=\"\n",
       "M3658.01 1386.61 L3658.01 1386.61 L3666.95 1386.61 L3666.95 1386.61 L3658.01 1386.61 L3658.01 1386.61  Z\n",
       "  \" fill=\"#009af9\" fill-rule=\"evenodd\" fill-opacity=\"1\"/>\n",
       "<polyline clip-path=\"url(#clip9302)\" style=\"stroke:#000000; stroke-width:4; stroke-opacity:1; fill:none\" points=\"\n",
       "  3658.01,1386.61 3658.01,1386.61 3666.95,1386.61 3658.01,1386.61 \n",
       "  \"/>\n",
       "<path clip-path=\"url(#clip9302)\" d=\"\n",
       "M3666.95 1386.61 L3666.95 1386.61 L3675.89 1386.61 L3675.89 1386.61 L3666.95 1386.61 L3666.95 1386.61  Z\n",
       "  \" fill=\"#009af9\" fill-rule=\"evenodd\" fill-opacity=\"1\"/>\n",
       "<polyline clip-path=\"url(#clip9302)\" style=\"stroke:#000000; stroke-width:4; stroke-opacity:1; fill:none\" points=\"\n",
       "  3666.95,1386.61 3666.95,1386.61 3675.89,1386.61 3666.95,1386.61 \n",
       "  \"/>\n",
       "<path clip-path=\"url(#clip9302)\" d=\"\n",
       "M3675.89 1386.61 L3675.89 1386.61 L3684.83 1386.61 L3684.83 1386.61 L3675.89 1386.61 L3675.89 1386.61  Z\n",
       "  \" fill=\"#009af9\" fill-rule=\"evenodd\" fill-opacity=\"1\"/>\n",
       "<polyline clip-path=\"url(#clip9302)\" style=\"stroke:#000000; stroke-width:4; stroke-opacity:1; fill:none\" points=\"\n",
       "  3675.89,1386.61 3675.89,1386.61 3684.83,1386.61 3675.89,1386.61 \n",
       "  \"/>\n",
       "<path clip-path=\"url(#clip9302)\" d=\"\n",
       "M3684.83 1386.61 L3684.83 1386.61 L3693.78 1386.61 L3693.78 1386.61 L3684.83 1386.61 L3684.83 1386.61  Z\n",
       "  \" fill=\"#009af9\" fill-rule=\"evenodd\" fill-opacity=\"1\"/>\n",
       "<polyline clip-path=\"url(#clip9302)\" style=\"stroke:#000000; stroke-width:4; stroke-opacity:1; fill:none\" points=\"\n",
       "  3684.83,1386.61 3684.83,1386.61 3693.78,1386.61 3684.83,1386.61 \n",
       "  \"/>\n",
       "<path clip-path=\"url(#clip9302)\" d=\"\n",
       "M3693.78 1386.61 L3693.78 1386.61 L3702.72 1386.61 L3702.72 1386.61 L3693.78 1386.61 L3693.78 1386.61  Z\n",
       "  \" fill=\"#009af9\" fill-rule=\"evenodd\" fill-opacity=\"1\"/>\n",
       "<polyline clip-path=\"url(#clip9302)\" style=\"stroke:#000000; stroke-width:4; stroke-opacity:1; fill:none\" points=\"\n",
       "  3693.78,1386.61 3693.78,1386.61 3702.72,1386.61 3693.78,1386.61 \n",
       "  \"/>\n",
       "<path clip-path=\"url(#clip9302)\" d=\"\n",
       "M3702.72 1386.61 L3702.72 1386.61 L3711.66 1386.61 L3711.66 1386.61 L3702.72 1386.61 L3702.72 1386.61  Z\n",
       "  \" fill=\"#009af9\" fill-rule=\"evenodd\" fill-opacity=\"1\"/>\n",
       "<polyline clip-path=\"url(#clip9302)\" style=\"stroke:#000000; stroke-width:4; stroke-opacity:1; fill:none\" points=\"\n",
       "  3702.72,1386.61 3702.72,1386.61 3711.66,1386.61 3702.72,1386.61 \n",
       "  \"/>\n",
       "<path clip-path=\"url(#clip9302)\" d=\"\n",
       "M3711.66 1386.61 L3711.66 1386.61 L3720.6 1386.61 L3720.6 1386.61 L3711.66 1386.61 L3711.66 1386.61  Z\n",
       "  \" fill=\"#009af9\" fill-rule=\"evenodd\" fill-opacity=\"1\"/>\n",
       "<polyline clip-path=\"url(#clip9302)\" style=\"stroke:#000000; stroke-width:4; stroke-opacity:1; fill:none\" points=\"\n",
       "  3711.66,1386.61 3711.66,1386.61 3720.6,1386.61 3711.66,1386.61 \n",
       "  \"/>\n",
       "<path clip-path=\"url(#clip9302)\" d=\"\n",
       "M3720.6 1386.61 L3720.6 1386.61 L3729.55 1386.61 L3729.55 1386.61 L3720.6 1386.61 L3720.6 1386.61  Z\n",
       "  \" fill=\"#009af9\" fill-rule=\"evenodd\" fill-opacity=\"1\"/>\n",
       "<polyline clip-path=\"url(#clip9302)\" style=\"stroke:#000000; stroke-width:4; stroke-opacity:1; fill:none\" points=\"\n",
       "  3720.6,1386.61 3720.6,1386.61 3729.55,1386.61 3720.6,1386.61 \n",
       "  \"/>\n",
       "<path clip-path=\"url(#clip9302)\" d=\"\n",
       "M3729.55 1386.61 L3729.55 1386.61 L3738.49 1386.61 L3738.49 1386.61 L3729.55 1386.61 L3729.55 1386.61  Z\n",
       "  \" fill=\"#009af9\" fill-rule=\"evenodd\" fill-opacity=\"1\"/>\n",
       "<polyline clip-path=\"url(#clip9302)\" style=\"stroke:#000000; stroke-width:4; stroke-opacity:1; fill:none\" points=\"\n",
       "  3729.55,1386.61 3729.55,1386.61 3738.49,1386.61 3729.55,1386.61 \n",
       "  \"/>\n",
       "<path clip-path=\"url(#clip9302)\" d=\"\n",
       "M3738.49 1386.61 L3738.49 1386.61 L3747.43 1386.61 L3747.43 1386.61 L3738.49 1386.61 L3738.49 1386.61  Z\n",
       "  \" fill=\"#009af9\" fill-rule=\"evenodd\" fill-opacity=\"1\"/>\n",
       "<polyline clip-path=\"url(#clip9302)\" style=\"stroke:#000000; stroke-width:4; stroke-opacity:1; fill:none\" points=\"\n",
       "  3738.49,1386.61 3738.49,1386.61 3747.43,1386.61 3738.49,1386.61 \n",
       "  \"/>\n",
       "<path clip-path=\"url(#clip9302)\" d=\"\n",
       "M3747.43 1386.61 L3747.43 1386.61 L3756.37 1386.61 L3756.37 1386.61 L3747.43 1386.61 L3747.43 1386.61  Z\n",
       "  \" fill=\"#009af9\" fill-rule=\"evenodd\" fill-opacity=\"1\"/>\n",
       "<polyline clip-path=\"url(#clip9302)\" style=\"stroke:#000000; stroke-width:4; stroke-opacity:1; fill:none\" points=\"\n",
       "  3747.43,1386.61 3747.43,1386.61 3756.37,1386.61 3747.43,1386.61 \n",
       "  \"/>\n",
       "<path clip-path=\"url(#clip9302)\" d=\"\n",
       "M3756.37 1386.61 L3756.37 1386.61 L3765.31 1386.61 L3765.31 1386.61 L3756.37 1386.61 L3756.37 1386.61  Z\n",
       "  \" fill=\"#009af9\" fill-rule=\"evenodd\" fill-opacity=\"1\"/>\n",
       "<polyline clip-path=\"url(#clip9302)\" style=\"stroke:#000000; stroke-width:4; stroke-opacity:1; fill:none\" points=\"\n",
       "  3756.37,1386.61 3756.37,1386.61 3765.31,1386.61 3756.37,1386.61 \n",
       "  \"/>\n",
       "<path clip-path=\"url(#clip9302)\" d=\"\n",
       "M3765.31 1386.61 L3765.31 1386.61 L3774.26 1386.61 L3774.26 1386.61 L3765.31 1386.61 L3765.31 1386.61  Z\n",
       "  \" fill=\"#009af9\" fill-rule=\"evenodd\" fill-opacity=\"1\"/>\n",
       "<polyline clip-path=\"url(#clip9302)\" style=\"stroke:#000000; stroke-width:4; stroke-opacity:1; fill:none\" points=\"\n",
       "  3765.31,1386.61 3765.31,1386.61 3774.26,1386.61 3765.31,1386.61 \n",
       "  \"/>\n",
       "<path clip-path=\"url(#clip9302)\" d=\"\n",
       "M3774.26 1386.61 L3774.26 1386.61 L3783.2 1386.61 L3783.2 1386.61 L3774.26 1386.61 L3774.26 1386.61  Z\n",
       "  \" fill=\"#009af9\" fill-rule=\"evenodd\" fill-opacity=\"1\"/>\n",
       "<polyline clip-path=\"url(#clip9302)\" style=\"stroke:#000000; stroke-width:4; stroke-opacity:1; fill:none\" points=\"\n",
       "  3774.26,1386.61 3774.26,1386.61 3783.2,1386.61 3774.26,1386.61 \n",
       "  \"/>\n",
       "<path clip-path=\"url(#clip9302)\" d=\"\n",
       "M3783.2 1386.61 L3783.2 1386.61 L3792.14 1386.61 L3792.14 1386.61 L3783.2 1386.61 L3783.2 1386.61  Z\n",
       "  \" fill=\"#009af9\" fill-rule=\"evenodd\" fill-opacity=\"1\"/>\n",
       "<polyline clip-path=\"url(#clip9302)\" style=\"stroke:#000000; stroke-width:4; stroke-opacity:1; fill:none\" points=\"\n",
       "  3783.2,1386.61 3783.2,1386.61 3792.14,1386.61 3783.2,1386.61 \n",
       "  \"/>\n",
       "<path clip-path=\"url(#clip9302)\" d=\"\n",
       "M3792.14 1386.61 L3792.14 1386.61 L3801.08 1386.61 L3801.08 1386.61 L3792.14 1386.61 L3792.14 1386.61  Z\n",
       "  \" fill=\"#009af9\" fill-rule=\"evenodd\" fill-opacity=\"1\"/>\n",
       "<polyline clip-path=\"url(#clip9302)\" style=\"stroke:#000000; stroke-width:4; stroke-opacity:1; fill:none\" points=\"\n",
       "  3792.14,1386.61 3792.14,1386.61 3801.08,1386.61 3792.14,1386.61 \n",
       "  \"/>\n",
       "<path clip-path=\"url(#clip9302)\" d=\"\n",
       "M3801.08 1386.61 L3801.08 1386.61 L3810.02 1386.61 L3810.02 1386.61 L3801.08 1386.61 L3801.08 1386.61  Z\n",
       "  \" fill=\"#009af9\" fill-rule=\"evenodd\" fill-opacity=\"1\"/>\n",
       "<polyline clip-path=\"url(#clip9302)\" style=\"stroke:#000000; stroke-width:4; stroke-opacity:1; fill:none\" points=\"\n",
       "  3801.08,1386.61 3801.08,1386.61 3810.02,1386.61 3801.08,1386.61 \n",
       "  \"/>\n",
       "<path clip-path=\"url(#clip9302)\" d=\"\n",
       "M3810.02 1386.61 L3810.02 1386.61 L3818.97 1386.61 L3818.97 1386.61 L3810.02 1386.61 L3810.02 1386.61  Z\n",
       "  \" fill=\"#009af9\" fill-rule=\"evenodd\" fill-opacity=\"1\"/>\n",
       "<polyline clip-path=\"url(#clip9302)\" style=\"stroke:#000000; stroke-width:4; stroke-opacity:1; fill:none\" points=\"\n",
       "  3810.02,1386.61 3810.02,1386.61 3818.97,1386.61 3810.02,1386.61 \n",
       "  \"/>\n",
       "<path clip-path=\"url(#clip9302)\" d=\"\n",
       "M3818.97 1386.61 L3818.97 1386.61 L3827.91 1386.61 L3827.91 1386.61 L3818.97 1386.61 L3818.97 1386.61  Z\n",
       "  \" fill=\"#009af9\" fill-rule=\"evenodd\" fill-opacity=\"1\"/>\n",
       "<polyline clip-path=\"url(#clip9302)\" style=\"stroke:#000000; stroke-width:4; stroke-opacity:1; fill:none\" points=\"\n",
       "  3818.97,1386.61 3818.97,1386.61 3827.91,1386.61 3818.97,1386.61 \n",
       "  \"/>\n",
       "<path clip-path=\"url(#clip9302)\" d=\"\n",
       "M3827.91 1386.61 L3827.91 1386.61 L3836.85 1386.61 L3836.85 1386.61 L3827.91 1386.61 L3827.91 1386.61  Z\n",
       "  \" fill=\"#009af9\" fill-rule=\"evenodd\" fill-opacity=\"1\"/>\n",
       "<polyline clip-path=\"url(#clip9302)\" style=\"stroke:#000000; stroke-width:4; stroke-opacity:1; fill:none\" points=\"\n",
       "  3827.91,1386.61 3827.91,1386.61 3836.85,1386.61 3827.91,1386.61 \n",
       "  \"/>\n",
       "<path clip-path=\"url(#clip9302)\" d=\"\n",
       "M3836.85 1386.61 L3836.85 1386.61 L3845.79 1386.61 L3845.79 1386.61 L3836.85 1386.61 L3836.85 1386.61  Z\n",
       "  \" fill=\"#009af9\" fill-rule=\"evenodd\" fill-opacity=\"1\"/>\n",
       "<polyline clip-path=\"url(#clip9302)\" style=\"stroke:#000000; stroke-width:4; stroke-opacity:1; fill:none\" points=\"\n",
       "  3836.85,1386.61 3836.85,1386.61 3845.79,1386.61 3836.85,1386.61 \n",
       "  \"/>\n",
       "<path clip-path=\"url(#clip9302)\" d=\"\n",
       "M3845.79 1386.61 L3845.79 1386.61 L3854.74 1386.61 L3854.74 1386.61 L3845.79 1386.61 L3845.79 1386.61  Z\n",
       "  \" fill=\"#009af9\" fill-rule=\"evenodd\" fill-opacity=\"1\"/>\n",
       "<polyline clip-path=\"url(#clip9302)\" style=\"stroke:#000000; stroke-width:4; stroke-opacity:1; fill:none\" points=\"\n",
       "  3845.79,1386.61 3845.79,1386.61 3854.74,1386.61 3845.79,1386.61 \n",
       "  \"/>\n",
       "<path clip-path=\"url(#clip9302)\" d=\"\n",
       "M3854.74 1386.61 L3854.74 1386.61 L3863.68 1386.61 L3863.68 1386.61 L3854.74 1386.61 L3854.74 1386.61  Z\n",
       "  \" fill=\"#009af9\" fill-rule=\"evenodd\" fill-opacity=\"1\"/>\n",
       "<polyline clip-path=\"url(#clip9302)\" style=\"stroke:#000000; stroke-width:4; stroke-opacity:1; fill:none\" points=\"\n",
       "  3854.74,1386.61 3854.74,1386.61 3863.68,1386.61 3854.74,1386.61 \n",
       "  \"/>\n",
       "<path clip-path=\"url(#clip9302)\" d=\"\n",
       "M3863.68 1386.61 L3863.68 1386.61 L3872.62 1386.61 L3872.62 1386.61 L3863.68 1386.61 L3863.68 1386.61  Z\n",
       "  \" fill=\"#009af9\" fill-rule=\"evenodd\" fill-opacity=\"1\"/>\n",
       "<polyline clip-path=\"url(#clip9302)\" style=\"stroke:#000000; stroke-width:4; stroke-opacity:1; fill:none\" points=\"\n",
       "  3863.68,1386.61 3863.68,1386.61 3872.62,1386.61 3863.68,1386.61 \n",
       "  \"/>\n",
       "<path clip-path=\"url(#clip9302)\" d=\"\n",
       "M3872.62 1386.61 L3872.62 1386.61 L3881.56 1386.61 L3881.56 1386.61 L3872.62 1386.61 L3872.62 1386.61  Z\n",
       "  \" fill=\"#009af9\" fill-rule=\"evenodd\" fill-opacity=\"1\"/>\n",
       "<polyline clip-path=\"url(#clip9302)\" style=\"stroke:#000000; stroke-width:4; stroke-opacity:1; fill:none\" points=\"\n",
       "  3872.62,1386.61 3872.62,1386.61 3881.56,1386.61 3872.62,1386.61 \n",
       "  \"/>\n",
       "<path clip-path=\"url(#clip9302)\" d=\"\n",
       "M3881.56 1386.61 L3881.56 1386.61 L3890.5 1386.61 L3890.5 1386.61 L3881.56 1386.61 L3881.56 1386.61  Z\n",
       "  \" fill=\"#009af9\" fill-rule=\"evenodd\" fill-opacity=\"1\"/>\n",
       "<polyline clip-path=\"url(#clip9302)\" style=\"stroke:#000000; stroke-width:4; stroke-opacity:1; fill:none\" points=\"\n",
       "  3881.56,1386.61 3881.56,1386.61 3890.5,1386.61 3881.56,1386.61 \n",
       "  \"/>\n",
       "<path clip-path=\"url(#clip9302)\" d=\"\n",
       "M3890.5 1386.61 L3890.5 1386.61 L3899.45 1386.61 L3899.45 1386.61 L3890.5 1386.61 L3890.5 1386.61  Z\n",
       "  \" fill=\"#009af9\" fill-rule=\"evenodd\" fill-opacity=\"1\"/>\n",
       "<polyline clip-path=\"url(#clip9302)\" style=\"stroke:#000000; stroke-width:4; stroke-opacity:1; fill:none\" points=\"\n",
       "  3890.5,1386.61 3890.5,1386.61 3899.45,1386.61 3890.5,1386.61 \n",
       "  \"/>\n",
       "<path clip-path=\"url(#clip9302)\" d=\"\n",
       "M3899.45 1386.61 L3899.45 1386.61 L3908.39 1386.61 L3908.39 1386.61 L3899.45 1386.61 L3899.45 1386.61  Z\n",
       "  \" fill=\"#009af9\" fill-rule=\"evenodd\" fill-opacity=\"1\"/>\n",
       "<polyline clip-path=\"url(#clip9302)\" style=\"stroke:#000000; stroke-width:4; stroke-opacity:1; fill:none\" points=\"\n",
       "  3899.45,1386.61 3899.45,1386.61 3908.39,1386.61 3899.45,1386.61 \n",
       "  \"/>\n",
       "<path clip-path=\"url(#clip9302)\" d=\"\n",
       "M3908.39 1386.61 L3908.39 1386.61 L3917.33 1386.61 L3917.33 1386.61 L3908.39 1386.61 L3908.39 1386.61  Z\n",
       "  \" fill=\"#009af9\" fill-rule=\"evenodd\" fill-opacity=\"1\"/>\n",
       "<polyline clip-path=\"url(#clip9302)\" style=\"stroke:#000000; stroke-width:4; stroke-opacity:1; fill:none\" points=\"\n",
       "  3908.39,1386.61 3908.39,1386.61 3917.33,1386.61 3908.39,1386.61 \n",
       "  \"/>\n",
       "<path clip-path=\"url(#clip9302)\" d=\"\n",
       "M3917.33 1386.61 L3917.33 1386.61 L3926.27 1386.61 L3926.27 1386.61 L3917.33 1386.61 L3917.33 1386.61  Z\n",
       "  \" fill=\"#009af9\" fill-rule=\"evenodd\" fill-opacity=\"1\"/>\n",
       "<polyline clip-path=\"url(#clip9302)\" style=\"stroke:#000000; stroke-width:4; stroke-opacity:1; fill:none\" points=\"\n",
       "  3917.33,1386.61 3917.33,1386.61 3926.27,1386.61 3917.33,1386.61 \n",
       "  \"/>\n",
       "<path clip-path=\"url(#clip9302)\" d=\"\n",
       "M3926.27 1386.61 L3926.27 1386.61 L3935.22 1386.61 L3935.22 1386.61 L3926.27 1386.61 L3926.27 1386.61  Z\n",
       "  \" fill=\"#009af9\" fill-rule=\"evenodd\" fill-opacity=\"1\"/>\n",
       "<polyline clip-path=\"url(#clip9302)\" style=\"stroke:#000000; stroke-width:4; stroke-opacity:1; fill:none\" points=\"\n",
       "  3926.27,1386.61 3926.27,1386.61 3935.22,1386.61 3926.27,1386.61 \n",
       "  \"/>\n",
       "<path clip-path=\"url(#clip9302)\" d=\"\n",
       "M3935.22 1386.61 L3935.22 1386.61 L3944.16 1386.61 L3944.16 1386.61 L3935.22 1386.61 L3935.22 1386.61  Z\n",
       "  \" fill=\"#009af9\" fill-rule=\"evenodd\" fill-opacity=\"1\"/>\n",
       "<polyline clip-path=\"url(#clip9302)\" style=\"stroke:#000000; stroke-width:4; stroke-opacity:1; fill:none\" points=\"\n",
       "  3935.22,1386.61 3935.22,1386.61 3944.16,1386.61 3935.22,1386.61 \n",
       "  \"/>\n",
       "<path clip-path=\"url(#clip9302)\" d=\"\n",
       "M3944.16 1386.61 L3944.16 1386.61 L3953.1 1386.61 L3953.1 1386.61 L3944.16 1386.61 L3944.16 1386.61  Z\n",
       "  \" fill=\"#009af9\" fill-rule=\"evenodd\" fill-opacity=\"1\"/>\n",
       "<polyline clip-path=\"url(#clip9302)\" style=\"stroke:#000000; stroke-width:4; stroke-opacity:1; fill:none\" points=\"\n",
       "  3944.16,1386.61 3944.16,1386.61 3953.1,1386.61 3944.16,1386.61 \n",
       "  \"/>\n",
       "<path clip-path=\"url(#clip9302)\" d=\"\n",
       "M3953.1 1386.61 L3953.1 1386.61 L3962.04 1386.61 L3962.04 1386.61 L3953.1 1386.61 L3953.1 1386.61  Z\n",
       "  \" fill=\"#009af9\" fill-rule=\"evenodd\" fill-opacity=\"1\"/>\n",
       "<polyline clip-path=\"url(#clip9302)\" style=\"stroke:#000000; stroke-width:4; stroke-opacity:1; fill:none\" points=\"\n",
       "  3953.1,1386.61 3953.1,1386.61 3962.04,1386.61 3953.1,1386.61 \n",
       "  \"/>\n",
       "<path clip-path=\"url(#clip9302)\" d=\"\n",
       "M3962.04 1386.61 L3962.04 1386.61 L3970.98 1386.61 L3970.98 1386.61 L3962.04 1386.61 L3962.04 1386.61  Z\n",
       "  \" fill=\"#009af9\" fill-rule=\"evenodd\" fill-opacity=\"1\"/>\n",
       "<polyline clip-path=\"url(#clip9302)\" style=\"stroke:#000000; stroke-width:4; stroke-opacity:1; fill:none\" points=\"\n",
       "  3962.04,1386.61 3962.04,1386.61 3970.98,1386.61 3962.04,1386.61 \n",
       "  \"/>\n",
       "<path clip-path=\"url(#clip9302)\" d=\"\n",
       "M3970.98 1386.61 L3970.98 1386.61 L3979.93 1386.61 L3979.93 1386.61 L3970.98 1386.61 L3970.98 1386.61  Z\n",
       "  \" fill=\"#009af9\" fill-rule=\"evenodd\" fill-opacity=\"1\"/>\n",
       "<polyline clip-path=\"url(#clip9302)\" style=\"stroke:#000000; stroke-width:4; stroke-opacity:1; fill:none\" points=\"\n",
       "  3970.98,1386.61 3970.98,1386.61 3979.93,1386.61 3970.98,1386.61 \n",
       "  \"/>\n",
       "<path clip-path=\"url(#clip9302)\" d=\"\n",
       "M3979.93 1386.61 L3979.93 1386.61 L3988.87 1386.61 L3988.87 1386.61 L3979.93 1386.61 L3979.93 1386.61  Z\n",
       "  \" fill=\"#009af9\" fill-rule=\"evenodd\" fill-opacity=\"1\"/>\n",
       "<polyline clip-path=\"url(#clip9302)\" style=\"stroke:#000000; stroke-width:4; stroke-opacity:1; fill:none\" points=\"\n",
       "  3979.93,1386.61 3979.93,1386.61 3988.87,1386.61 3979.93,1386.61 \n",
       "  \"/>\n",
       "<path clip-path=\"url(#clip9302)\" d=\"\n",
       "M3988.87 1386.61 L3988.87 1386.61 L3997.81 1386.61 L3997.81 1386.61 L3988.87 1386.61 L3988.87 1386.61  Z\n",
       "  \" fill=\"#009af9\" fill-rule=\"evenodd\" fill-opacity=\"1\"/>\n",
       "<polyline clip-path=\"url(#clip9302)\" style=\"stroke:#000000; stroke-width:4; stroke-opacity:1; fill:none\" points=\"\n",
       "  3988.87,1386.61 3988.87,1386.61 3997.81,1386.61 3988.87,1386.61 \n",
       "  \"/>\n",
       "<path clip-path=\"url(#clip9302)\" d=\"\n",
       "M3997.81 1386.61 L3997.81 1386.61 L4006.75 1386.61 L4006.75 1386.61 L3997.81 1386.61 L3997.81 1386.61  Z\n",
       "  \" fill=\"#009af9\" fill-rule=\"evenodd\" fill-opacity=\"1\"/>\n",
       "<polyline clip-path=\"url(#clip9302)\" style=\"stroke:#000000; stroke-width:4; stroke-opacity:1; fill:none\" points=\"\n",
       "  3997.81,1386.61 3997.81,1386.61 4006.75,1386.61 3997.81,1386.61 \n",
       "  \"/>\n",
       "<path clip-path=\"url(#clip9302)\" d=\"\n",
       "M4006.75 1386.61 L4006.75 1386.61 L4015.69 1386.61 L4015.69 1386.61 L4006.75 1386.61 L4006.75 1386.61  Z\n",
       "  \" fill=\"#009af9\" fill-rule=\"evenodd\" fill-opacity=\"1\"/>\n",
       "<polyline clip-path=\"url(#clip9302)\" style=\"stroke:#000000; stroke-width:4; stroke-opacity:1; fill:none\" points=\"\n",
       "  4006.75,1386.61 4006.75,1386.61 4015.69,1386.61 4006.75,1386.61 \n",
       "  \"/>\n",
       "<path clip-path=\"url(#clip9302)\" d=\"\n",
       "M4015.69 1386.61 L4015.69 1386.61 L4024.64 1386.61 L4024.64 1386.61 L4015.69 1386.61 L4015.69 1386.61  Z\n",
       "  \" fill=\"#009af9\" fill-rule=\"evenodd\" fill-opacity=\"1\"/>\n",
       "<polyline clip-path=\"url(#clip9302)\" style=\"stroke:#000000; stroke-width:4; stroke-opacity:1; fill:none\" points=\"\n",
       "  4015.69,1386.61 4015.69,1386.61 4024.64,1386.61 4015.69,1386.61 \n",
       "  \"/>\n",
       "<path clip-path=\"url(#clip9302)\" d=\"\n",
       "M4024.64 1386.61 L4024.64 1386.61 L4033.58 1386.61 L4033.58 1386.61 L4024.64 1386.61 L4024.64 1386.61  Z\n",
       "  \" fill=\"#009af9\" fill-rule=\"evenodd\" fill-opacity=\"1\"/>\n",
       "<polyline clip-path=\"url(#clip9302)\" style=\"stroke:#000000; stroke-width:4; stroke-opacity:1; fill:none\" points=\"\n",
       "  4024.64,1386.61 4024.64,1386.61 4033.58,1386.61 4024.64,1386.61 \n",
       "  \"/>\n",
       "<path clip-path=\"url(#clip9302)\" d=\"\n",
       "M4033.58 1386.61 L4033.58 1386.61 L4042.52 1386.61 L4042.52 1386.61 L4033.58 1386.61 L4033.58 1386.61  Z\n",
       "  \" fill=\"#009af9\" fill-rule=\"evenodd\" fill-opacity=\"1\"/>\n",
       "<polyline clip-path=\"url(#clip9302)\" style=\"stroke:#000000; stroke-width:4; stroke-opacity:1; fill:none\" points=\"\n",
       "  4033.58,1386.61 4033.58,1386.61 4042.52,1386.61 4033.58,1386.61 \n",
       "  \"/>\n",
       "<path clip-path=\"url(#clip9302)\" d=\"\n",
       "M4042.52 1386.61 L4042.52 1386.61 L4051.46 1386.61 L4051.46 1386.61 L4042.52 1386.61 L4042.52 1386.61  Z\n",
       "  \" fill=\"#009af9\" fill-rule=\"evenodd\" fill-opacity=\"1\"/>\n",
       "<polyline clip-path=\"url(#clip9302)\" style=\"stroke:#000000; stroke-width:4; stroke-opacity:1; fill:none\" points=\"\n",
       "  4042.52,1386.61 4042.52,1386.61 4051.46,1386.61 4042.52,1386.61 \n",
       "  \"/>\n",
       "<path clip-path=\"url(#clip9302)\" d=\"\n",
       "M4051.46 1386.61 L4051.46 1386.61 L4060.41 1386.61 L4060.41 1386.61 L4051.46 1386.61 L4051.46 1386.61  Z\n",
       "  \" fill=\"#009af9\" fill-rule=\"evenodd\" fill-opacity=\"1\"/>\n",
       "<polyline clip-path=\"url(#clip9302)\" style=\"stroke:#000000; stroke-width:4; stroke-opacity:1; fill:none\" points=\"\n",
       "  4051.46,1386.61 4051.46,1386.61 4060.41,1386.61 4051.46,1386.61 \n",
       "  \"/>\n",
       "<path clip-path=\"url(#clip9302)\" d=\"\n",
       "M4060.41 1386.61 L4060.41 1386.61 L4069.35 1386.61 L4069.35 1386.61 L4060.41 1386.61 L4060.41 1386.61  Z\n",
       "  \" fill=\"#009af9\" fill-rule=\"evenodd\" fill-opacity=\"1\"/>\n",
       "<polyline clip-path=\"url(#clip9302)\" style=\"stroke:#000000; stroke-width:4; stroke-opacity:1; fill:none\" points=\"\n",
       "  4060.41,1386.61 4060.41,1386.61 4069.35,1386.61 4060.41,1386.61 \n",
       "  \"/>\n",
       "<path clip-path=\"url(#clip9302)\" d=\"\n",
       "M4069.35 1386.61 L4069.35 1386.61 L4078.29 1386.61 L4078.29 1386.61 L4069.35 1386.61 L4069.35 1386.61  Z\n",
       "  \" fill=\"#009af9\" fill-rule=\"evenodd\" fill-opacity=\"1\"/>\n",
       "<polyline clip-path=\"url(#clip9302)\" style=\"stroke:#000000; stroke-width:4; stroke-opacity:1; fill:none\" points=\"\n",
       "  4069.35,1386.61 4069.35,1386.61 4078.29,1386.61 4069.35,1386.61 \n",
       "  \"/>\n",
       "<path clip-path=\"url(#clip9302)\" d=\"\n",
       "M4078.29 1386.61 L4078.29 1386.61 L4087.23 1386.61 L4087.23 1386.61 L4078.29 1386.61 L4078.29 1386.61  Z\n",
       "  \" fill=\"#009af9\" fill-rule=\"evenodd\" fill-opacity=\"1\"/>\n",
       "<polyline clip-path=\"url(#clip9302)\" style=\"stroke:#000000; stroke-width:4; stroke-opacity:1; fill:none\" points=\"\n",
       "  4078.29,1386.61 4078.29,1386.61 4087.23,1386.61 4078.29,1386.61 \n",
       "  \"/>\n",
       "<path clip-path=\"url(#clip9302)\" d=\"\n",
       "M4087.23 1386.61 L4087.23 1386.61 L4096.17 1386.61 L4096.17 1386.61 L4087.23 1386.61 L4087.23 1386.61  Z\n",
       "  \" fill=\"#009af9\" fill-rule=\"evenodd\" fill-opacity=\"1\"/>\n",
       "<polyline clip-path=\"url(#clip9302)\" style=\"stroke:#000000; stroke-width:4; stroke-opacity:1; fill:none\" points=\"\n",
       "  4087.23,1386.61 4087.23,1386.61 4096.17,1386.61 4087.23,1386.61 \n",
       "  \"/>\n",
       "<path clip-path=\"url(#clip9302)\" d=\"\n",
       "M4096.17 1386.61 L4096.17 1386.61 L4105.12 1386.61 L4105.12 1386.61 L4096.17 1386.61 L4096.17 1386.61  Z\n",
       "  \" fill=\"#009af9\" fill-rule=\"evenodd\" fill-opacity=\"1\"/>\n",
       "<polyline clip-path=\"url(#clip9302)\" style=\"stroke:#000000; stroke-width:4; stroke-opacity:1; fill:none\" points=\"\n",
       "  4096.17,1386.61 4096.17,1386.61 4105.12,1386.61 4096.17,1386.61 \n",
       "  \"/>\n",
       "<path clip-path=\"url(#clip9302)\" d=\"\n",
       "M4105.12 1386.61 L4105.12 1386.61 L4114.06 1386.61 L4114.06 1386.61 L4105.12 1386.61 L4105.12 1386.61  Z\n",
       "  \" fill=\"#009af9\" fill-rule=\"evenodd\" fill-opacity=\"1\"/>\n",
       "<polyline clip-path=\"url(#clip9302)\" style=\"stroke:#000000; stroke-width:4; stroke-opacity:1; fill:none\" points=\"\n",
       "  4105.12,1386.61 4105.12,1386.61 4114.06,1386.61 4105.12,1386.61 \n",
       "  \"/>\n",
       "<path clip-path=\"url(#clip9302)\" d=\"\n",
       "M4114.06 1386.61 L4114.06 1386.61 L4123 1386.61 L4123 1386.61 L4114.06 1386.61 L4114.06 1386.61  Z\n",
       "  \" fill=\"#009af9\" fill-rule=\"evenodd\" fill-opacity=\"1\"/>\n",
       "<polyline clip-path=\"url(#clip9302)\" style=\"stroke:#000000; stroke-width:4; stroke-opacity:1; fill:none\" points=\"\n",
       "  4114.06,1386.61 4114.06,1386.61 4123,1386.61 4114.06,1386.61 \n",
       "  \"/>\n",
       "<path clip-path=\"url(#clip9302)\" d=\"\n",
       "M4123 1386.61 L4123 1386.61 L4131.94 1386.61 L4131.94 1386.61 L4123 1386.61 L4123 1386.61  Z\n",
       "  \" fill=\"#009af9\" fill-rule=\"evenodd\" fill-opacity=\"1\"/>\n",
       "<polyline clip-path=\"url(#clip9302)\" style=\"stroke:#000000; stroke-width:4; stroke-opacity:1; fill:none\" points=\"\n",
       "  4123,1386.61 4123,1386.61 4131.94,1386.61 4123,1386.61 \n",
       "  \"/>\n",
       "<path clip-path=\"url(#clip9302)\" d=\"\n",
       "M4131.94 1386.61 L4131.94 1386.61 L4140.89 1386.61 L4140.89 1386.61 L4131.94 1386.61 L4131.94 1386.61  Z\n",
       "  \" fill=\"#009af9\" fill-rule=\"evenodd\" fill-opacity=\"1\"/>\n",
       "<polyline clip-path=\"url(#clip9302)\" style=\"stroke:#000000; stroke-width:4; stroke-opacity:1; fill:none\" points=\"\n",
       "  4131.94,1386.61 4131.94,1386.61 4140.89,1386.61 4131.94,1386.61 \n",
       "  \"/>\n",
       "<path clip-path=\"url(#clip9302)\" d=\"\n",
       "M4140.89 1386.61 L4140.89 1386.61 L4149.83 1386.61 L4149.83 1386.61 L4140.89 1386.61 L4140.89 1386.61  Z\n",
       "  \" fill=\"#009af9\" fill-rule=\"evenodd\" fill-opacity=\"1\"/>\n",
       "<polyline clip-path=\"url(#clip9302)\" style=\"stroke:#000000; stroke-width:4; stroke-opacity:1; fill:none\" points=\"\n",
       "  4140.89,1386.61 4140.89,1386.61 4149.83,1386.61 4140.89,1386.61 \n",
       "  \"/>\n",
       "<path clip-path=\"url(#clip9302)\" d=\"\n",
       "M4149.83 1386.61 L4149.83 1386.61 L4158.77 1386.61 L4158.77 1386.61 L4149.83 1386.61 L4149.83 1386.61  Z\n",
       "  \" fill=\"#009af9\" fill-rule=\"evenodd\" fill-opacity=\"1\"/>\n",
       "<polyline clip-path=\"url(#clip9302)\" style=\"stroke:#000000; stroke-width:4; stroke-opacity:1; fill:none\" points=\"\n",
       "  4149.83,1386.61 4149.83,1386.61 4158.77,1386.61 4149.83,1386.61 \n",
       "  \"/>\n",
       "<path clip-path=\"url(#clip9302)\" d=\"\n",
       "M4158.77 1386.61 L4158.77 1386.61 L4167.71 1386.61 L4167.71 1386.61 L4158.77 1386.61 L4158.77 1386.61  Z\n",
       "  \" fill=\"#009af9\" fill-rule=\"evenodd\" fill-opacity=\"1\"/>\n",
       "<polyline clip-path=\"url(#clip9302)\" style=\"stroke:#000000; stroke-width:4; stroke-opacity:1; fill:none\" points=\"\n",
       "  4158.77,1386.61 4158.77,1386.61 4167.71,1386.61 4158.77,1386.61 \n",
       "  \"/>\n",
       "<path clip-path=\"url(#clip9302)\" d=\"\n",
       "M4167.71 1386.61 L4167.71 1386.61 L4176.65 1386.61 L4176.65 1386.61 L4167.71 1386.61 L4167.71 1386.61  Z\n",
       "  \" fill=\"#009af9\" fill-rule=\"evenodd\" fill-opacity=\"1\"/>\n",
       "<polyline clip-path=\"url(#clip9302)\" style=\"stroke:#000000; stroke-width:4; stroke-opacity:1; fill:none\" points=\"\n",
       "  4167.71,1386.61 4167.71,1386.61 4176.65,1386.61 4167.71,1386.61 \n",
       "  \"/>\n",
       "<path clip-path=\"url(#clip9302)\" d=\"\n",
       "M4176.65 1386.61 L4176.65 1386.61 L4185.6 1386.61 L4185.6 1386.61 L4176.65 1386.61 L4176.65 1386.61  Z\n",
       "  \" fill=\"#009af9\" fill-rule=\"evenodd\" fill-opacity=\"1\"/>\n",
       "<polyline clip-path=\"url(#clip9302)\" style=\"stroke:#000000; stroke-width:4; stroke-opacity:1; fill:none\" points=\"\n",
       "  4176.65,1386.61 4176.65,1386.61 4185.6,1386.61 4176.65,1386.61 \n",
       "  \"/>\n",
       "<path clip-path=\"url(#clip9302)\" d=\"\n",
       "M4185.6 1386.61 L4185.6 1386.61 L4194.54 1386.61 L4194.54 1386.61 L4185.6 1386.61 L4185.6 1386.61  Z\n",
       "  \" fill=\"#009af9\" fill-rule=\"evenodd\" fill-opacity=\"1\"/>\n",
       "<polyline clip-path=\"url(#clip9302)\" style=\"stroke:#000000; stroke-width:4; stroke-opacity:1; fill:none\" points=\"\n",
       "  4185.6,1386.61 4185.6,1386.61 4194.54,1386.61 4185.6,1386.61 \n",
       "  \"/>\n",
       "<path clip-path=\"url(#clip9302)\" d=\"\n",
       "M4194.54 86.2547 L4194.54 1386.61 L4203.48 1386.61 L4203.48 86.2547 L4194.54 86.2547 L4194.54 86.2547  Z\n",
       "  \" fill=\"#009af9\" fill-rule=\"evenodd\" fill-opacity=\"1\"/>\n",
       "<polyline clip-path=\"url(#clip9302)\" style=\"stroke:#000000; stroke-width:4; stroke-opacity:1; fill:none\" points=\"\n",
       "  4194.54,86.2547 4194.54,1386.61 4203.48,1386.61 4203.48,86.2547 4194.54,86.2547 \n",
       "  \"/>\n",
       "</svg>\n"
      ]
     },
     "execution_count": 18,
     "metadata": {},
     "output_type": "execute_result"
    }
   ],
   "source": [
    "using Statistics # bring in statistical support for standard deviations\n",
    "t = py_hand.times / 1e6 # times in milliseconds\n",
    "m, σ = minimum(t), std(t)\n",
    "\n",
    "histogram(t, bins=500,\n",
    "    xlim=(m - 0.01, m + σ),\n",
    "    xlabel=\"milliseconds\", ylabel=\"count\", label=\"\")\n",
    "# # 2. C with -ffast-math"
   ]
  },
  {
   "cell_type": "markdown",
   "metadata": {},
   "source": [
    "Build-in Python"
   ]
  },
  {
   "cell_type": "code",
   "execution_count": 19,
   "metadata": {},
   "outputs": [
    {
     "data": {
      "text/plain": [
       "PyObject <built-in function sum>"
      ]
     },
     "execution_count": 19,
     "metadata": {},
     "output_type": "execute_result"
    }
   ],
   "source": [
    "# get the Python built-in \"sum\" function:\n",
    "pysum = pybuiltin(\"sum\")"
   ]
  },
  {
   "cell_type": "code",
   "execution_count": 20,
   "metadata": {},
   "outputs": [
    {
     "data": {
      "text/plain": [
       "5.00135585793737e6"
      ]
     },
     "execution_count": 20,
     "metadata": {},
     "output_type": "execute_result"
    }
   ],
   "source": [
    "pysum(a)"
   ]
  },
  {
   "cell_type": "code",
   "execution_count": 21,
   "metadata": {},
   "outputs": [
    {
     "data": {
      "text/plain": [
       "true"
      ]
     },
     "execution_count": 21,
     "metadata": {},
     "output_type": "execute_result"
    }
   ],
   "source": [
    "pysum(a) ≈ sum(a)"
   ]
  },
  {
   "cell_type": "code",
   "execution_count": 22,
   "metadata": {},
   "outputs": [
    {
     "data": {
      "text/plain": [
       "BenchmarkTools.Trial: \n",
       "  memory estimate:  352 bytes\n",
       "  allocs estimate:  7\n",
       "  --------------\n",
       "  minimum time:     1.286 s (0.00% GC)\n",
       "  median time:      1.297 s (0.00% GC)\n",
       "  mean time:        1.295 s (0.00% GC)\n",
       "  maximum time:     1.300 s (0.00% GC)\n",
       "  --------------\n",
       "  samples:          4\n",
       "  evals/sample:     1"
      ]
     },
     "execution_count": 22,
     "metadata": {},
     "output_type": "execute_result"
    }
   ],
   "source": [
    "py_list_bench = @benchmark $pysum($a)"
   ]
  },
  {
   "cell_type": "code",
   "execution_count": 23,
   "metadata": {},
   "outputs": [
    {
     "data": {
      "text/plain": [
       "Dict{Any,Any} with 2 entries:\n",
       "  \"Python hand-written\" => 1641.62\n",
       "  \"Python built-in\"     => 1286.18"
      ]
     },
     "execution_count": 23,
     "metadata": {},
     "output_type": "execute_result"
    }
   ],
   "source": [
    "d[\"Python built-in\"] = minimum(py_list_bench.times) / 1e6\n",
    "d"
   ]
  },
  {
   "cell_type": "markdown",
   "metadata": {},
   "source": [
    "Numpy "
   ]
  },
  {
   "cell_type": "code",
   "execution_count": 25,
   "metadata": {},
   "outputs": [
    {
     "name": "stderr",
     "output_type": "stream",
     "text": [
      "┌ Info: Running `conda install -y numpy` in root environment\n",
      "└ @ Conda C:\\Users\\m_b\\.julia\\packages\\Conda\\3rPhK\\src\\Conda.jl:113\n"
     ]
    },
    {
     "name": "stdout",
     "output_type": "stream",
     "text": [
      "Collecting package metadata (current_repodata.json): ...working... done\n",
      "Solving environment: ...working... done\n",
      "\n",
      "# All requested packages already installed.\n",
      "\n"
     ]
    }
   ],
   "source": [
    "using Conda\n",
    "Conda.add(\"numpy\")"
   ]
  },
  {
   "cell_type": "code",
   "execution_count": 26,
   "metadata": {},
   "outputs": [
    {
     "name": "stderr",
     "output_type": "stream",
     "text": [
      "┌ Warning: `getindex(o::PyObject, s::AbstractString)` is deprecated in favor of dot overloading (`getproperty`) so elements should now be accessed as e.g. `o.\"s\"` instead of `o[\"s\"]`.\n",
      "│   caller = top-level scope at In[26]:1\n",
      "└ @ Core In[26]:1\n"
     ]
    },
    {
     "data": {
      "text/plain": [
       "BenchmarkTools.Trial: \n",
       "  memory estimate:  352 bytes\n",
       "  allocs estimate:  7\n",
       "  --------------\n",
       "  minimum time:     9.716 ms (0.00% GC)\n",
       "  median time:      10.846 ms (0.00% GC)\n",
       "  mean time:        10.835 ms (0.00% GC)\n",
       "  maximum time:     13.141 ms (0.00% GC)\n",
       "  --------------\n",
       "  samples:          462\n",
       "  evals/sample:     1"
      ]
     },
     "execution_count": 26,
     "metadata": {},
     "output_type": "execute_result"
    }
   ],
   "source": [
    "numpy_sum = pyimport(\"numpy\")[\"sum\"]\n",
    "\n",
    "py_numpy_bench = @benchmark $numpy_sum($a)"
   ]
  },
  {
   "cell_type": "code",
   "execution_count": 27,
   "metadata": {},
   "outputs": [
    {
     "data": {
      "text/plain": [
       "5.0013558579377085e6"
      ]
     },
     "execution_count": 27,
     "metadata": {},
     "output_type": "execute_result"
    }
   ],
   "source": [
    "numpy_sum(a)"
   ]
  },
  {
   "cell_type": "code",
   "execution_count": 28,
   "metadata": {},
   "outputs": [
    {
     "data": {
      "text/plain": [
       "true"
      ]
     },
     "execution_count": 28,
     "metadata": {},
     "output_type": "execute_result"
    }
   ],
   "source": [
    "numpy_sum(a) ≈ sum(a)"
   ]
  },
  {
   "cell_type": "code",
   "execution_count": 29,
   "metadata": {},
   "outputs": [
    {
     "data": {
      "text/plain": [
       "Dict{Any,Any} with 3 entries:\n",
       "  \"Python numpy\"        => 9.7162\n",
       "  \"Python hand-written\" => 1641.62\n",
       "  \"Python built-in\"     => 1286.18"
      ]
     },
     "execution_count": 29,
     "metadata": {},
     "output_type": "execute_result"
    }
   ],
   "source": [
    "d[\"Python numpy\"] = minimum(py_numpy_bench.times) / 1e6\n",
    "d"
   ]
  },
  {
   "cell_type": "markdown",
   "metadata": {},
   "source": [
    "Built-in Julia"
   ]
  },
  {
   "cell_type": "code",
   "execution_count": 30,
   "metadata": {},
   "outputs": [
    {
     "data": {
      "text/html": [
       "sum(a::<b>AbstractArray</b>) in Base at <a href=\"https://github.com/JuliaLang/julia/tree/2d5741174ce3e6a394010d2e470e4269ca54607f/base/reducedim.jl#L652\" target=\"_blank\">reducedim.jl:652</a>"
      ],
      "text/plain": [
       "sum(a::AbstractArray) in Base at reducedim.jl:652"
      ]
     },
     "execution_count": 30,
     "metadata": {},
     "output_type": "execute_result"
    }
   ],
   "source": [
    "@which sum(a)"
   ]
  },
  {
   "cell_type": "code",
   "execution_count": 31,
   "metadata": {},
   "outputs": [
    {
     "data": {
      "text/plain": [
       "BenchmarkTools.Trial: \n",
       "  memory estimate:  0 bytes\n",
       "  allocs estimate:  0\n",
       "  --------------\n",
       "  minimum time:     3.705 ms (0.00% GC)\n",
       "  median time:      4.103 ms (0.00% GC)\n",
       "  mean time:        4.201 ms (0.00% GC)\n",
       "  maximum time:     7.743 ms (0.00% GC)\n",
       "  --------------\n",
       "  samples:          1188\n",
       "  evals/sample:     1"
      ]
     },
     "execution_count": 31,
     "metadata": {},
     "output_type": "execute_result"
    }
   ],
   "source": [
    "j_bench = @benchmark sum($a)"
   ]
  },
  {
   "cell_type": "code",
   "execution_count": 32,
   "metadata": {},
   "outputs": [
    {
     "data": {
      "text/plain": [
       "Dict{Any,Any} with 4 entries:\n",
       "  \"Python numpy\"        => 9.7162\n",
       "  \"Python hand-written\" => 1641.62\n",
       "  \"Python built-in\"     => 1286.18\n",
       "  \"Julia built-in\"      => 3.7051"
      ]
     },
     "execution_count": 32,
     "metadata": {},
     "output_type": "execute_result"
    }
   ],
   "source": [
    "d[\"Julia built-in\"] = minimum(j_bench.times) / 1e6\n",
    "d"
   ]
  },
  {
   "cell_type": "markdown",
   "metadata": {},
   "source": [
    "Hand-written Julia"
   ]
  },
  {
   "cell_type": "code",
   "execution_count": 33,
   "metadata": {},
   "outputs": [
    {
     "data": {
      "text/plain": [
       "mysum (generic function with 1 method)"
      ]
     },
     "execution_count": 33,
     "metadata": {},
     "output_type": "execute_result"
    }
   ],
   "source": [
    "function mysum(A)\n",
    "    s = 0.0 # s = zero(eltype(a))\n",
    "    for a in A\n",
    "        s += a\n",
    "    end\n",
    "    s\n",
    "end"
   ]
  },
  {
   "cell_type": "code",
   "execution_count": 34,
   "metadata": {},
   "outputs": [
    {
     "data": {
      "text/plain": [
       "BenchmarkTools.Trial: \n",
       "  memory estimate:  0 bytes\n",
       "  allocs estimate:  0\n",
       "  --------------\n",
       "  minimum time:     10.282 ms (0.00% GC)\n",
       "  median time:      10.676 ms (0.00% GC)\n",
       "  mean time:        10.698 ms (0.00% GC)\n",
       "  maximum time:     11.779 ms (0.00% GC)\n",
       "  --------------\n",
       "  samples:          467\n",
       "  evals/sample:     1"
      ]
     },
     "execution_count": 34,
     "metadata": {},
     "output_type": "execute_result"
    }
   ],
   "source": [
    "j_bench_hand = @benchmark mysum($a)"
   ]
  },
  {
   "cell_type": "code",
   "execution_count": 35,
   "metadata": {},
   "outputs": [
    {
     "data": {
      "text/plain": [
       "Dict{Any,Any} with 5 entries:\n",
       "  \"Python numpy\"        => 9.7162\n",
       "  \"Julia hand-written\"  => 10.2816\n",
       "  \"Python hand-written\" => 1641.62\n",
       "  \"Python built-in\"     => 1286.18\n",
       "  \"Julia built-in\"      => 3.7051"
      ]
     },
     "execution_count": 35,
     "metadata": {},
     "output_type": "execute_result"
    }
   ],
   "source": [
    "d[\"Julia hand-written\"] = minimum(j_bench_hand.times) / 1e6\n",
    "d"
   ]
  },
  {
   "cell_type": "markdown",
   "metadata": {},
   "source": [
    "Julia hand-written with smd."
   ]
  },
  {
   "cell_type": "code",
   "execution_count": 36,
   "metadata": {},
   "outputs": [
    {
     "data": {
      "text/plain": [
       "mysum_simd (generic function with 1 method)"
      ]
     },
     "execution_count": 36,
     "metadata": {},
     "output_type": "execute_result"
    }
   ],
   "source": [
    "function mysum_simd(A)\n",
    "    s = 0.0 # s = zero(eltype(A))\n",
    "    @simd for a in A\n",
    "        s += a\n",
    "    end\n",
    "    s\n",
    "end"
   ]
  },
  {
   "cell_type": "code",
   "execution_count": 37,
   "metadata": {},
   "outputs": [
    {
     "data": {
      "text/plain": [
       "BenchmarkTools.Trial: \n",
       "  memory estimate:  0 bytes\n",
       "  allocs estimate:  0\n",
       "  --------------\n",
       "  minimum time:     3.767 ms (0.00% GC)\n",
       "  median time:      4.222 ms (0.00% GC)\n",
       "  mean time:        4.361 ms (0.00% GC)\n",
       "  maximum time:     6.678 ms (0.00% GC)\n",
       "  --------------\n",
       "  samples:          1145\n",
       "  evals/sample:     1"
      ]
     },
     "execution_count": 37,
     "metadata": {},
     "output_type": "execute_result"
    }
   ],
   "source": [
    "j_bench_hand_simd = @benchmark mysum_simd($a)"
   ]
  },
  {
   "cell_type": "code",
   "execution_count": 38,
   "metadata": {},
   "outputs": [
    {
     "data": {
      "text/plain": [
       "5.001355857937744e6"
      ]
     },
     "execution_count": 38,
     "metadata": {},
     "output_type": "execute_result"
    }
   ],
   "source": [
    "mysum_simd(a)"
   ]
  },
  {
   "cell_type": "code",
   "execution_count": 39,
   "metadata": {},
   "outputs": [
    {
     "data": {
      "text/plain": [
       "Dict{Any,Any} with 6 entries:\n",
       "  \"Julia hand-written simd\" => 3.7674\n",
       "  \"Python numpy\"            => 9.7162\n",
       "  \"Julia hand-written\"      => 10.2816\n",
       "  \"Python hand-written\"     => 1641.62\n",
       "  \"Python built-in\"         => 1286.18\n",
       "  \"Julia built-in\"          => 3.7051"
      ]
     },
     "execution_count": 39,
     "metadata": {},
     "output_type": "execute_result"
    }
   ],
   "source": [
    "d[\"Julia hand-written simd\"] = minimum(j_bench_hand_simd.times) / 1e6\n",
    "d"
   ]
  },
  {
   "cell_type": "code",
   "execution_count": 40,
   "metadata": {},
   "outputs": [
    {
     "name": "stdout",
     "output_type": "stream",
     "text": [
      "Julia built-in..............3.7\n",
      "Julia hand-written simd.....3.8\n",
      "Python numpy................9.7\n",
      "Julia hand-written.........10.3\n",
      "Python built-in..........1286.2\n",
      "Python hand-written......1641.6\n"
     ]
    }
   ],
   "source": [
    "# Summary\n",
    "\n",
    "for (key, value) in sort(collect(d), by=last)\n",
    "    println(rpad(key, 25, \".\"), lpad(round(value; digits=1), 6, \".\"))\n",
    "end"
   ]
  }
 ],
 "metadata": {
  "kernelspec": {
   "display_name": "Julia 1.3.1",
   "language": "julia",
   "name": "julia-1.3"
  },
  "language_info": {
   "file_extension": ".jl",
   "mimetype": "application/julia",
   "name": "julia",
   "version": "1.3.1"
  }
 },
 "nbformat": 4,
 "nbformat_minor": 2
}
